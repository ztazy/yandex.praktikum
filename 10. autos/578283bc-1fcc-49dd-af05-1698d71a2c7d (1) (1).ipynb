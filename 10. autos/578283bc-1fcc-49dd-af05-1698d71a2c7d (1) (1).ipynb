{
 "cells": [
  {
   "cell_type": "markdown",
   "metadata": {},
   "source": [
    "Сервис по продаже автомобилей с пробегом «Не бит, не крашен» разрабатывает приложение для привлечения новых клиентов. В нём можно быстро узнать рыночную стоимость своего автомобиля. В вашем распоряжении исторические данные: технические характеристики, комплектации и цены автомобилей. Вам нужно построить модель для определения стоимости. \n",
    "\n",
    "Заказчику важны:\n",
    "\n",
    "- качество предсказания;\n",
    "- скорость предсказания;\n",
    "- время обучения."
   ]
  },
  {
   "cell_type": "markdown",
   "metadata": {},
   "source": [
    "# 1. Подготовка данных"
   ]
  },
  {
   "cell_type": "markdown",
   "metadata": {},
   "source": [
    "Для начала необходимо симпортировать библиотеки"
   ]
  },
  {
   "cell_type": "code",
   "execution_count": 1,
   "metadata": {},
   "outputs": [],
   "source": [
    "import pandas as pd\n",
    "import numpy as np\n",
    "import seaborn as sns\n",
    "from sklearn.model_selection import train_test_split, GridSearchCV\n",
    "from catboost import CatBoostRegressor\n",
    "import lightgbm as lgbm\n",
    "from sklearn.metrics import mean_squared_error, mean_absolute_error\n",
    "from sklearn.linear_model import LinearRegression\n",
    "from sklearn import preprocessing\n",
    "import warnings\n",
    "warnings.filterwarnings(\"ignore\")"
   ]
  },
  {
   "cell_type": "markdown",
   "metadata": {},
   "source": [
    "После импорта считываю датасет"
   ]
  },
  {
   "cell_type": "code",
   "execution_count": 2,
   "metadata": {},
   "outputs": [],
   "source": [
    "df = pd.read_csv('/datasets/autos.csv')"
   ]
  },
  {
   "cell_type": "markdown",
   "metadata": {},
   "source": [
    "Далее просматриваю датасет на наличие пропусков"
   ]
  },
  {
   "cell_type": "code",
   "execution_count": 3,
   "metadata": {},
   "outputs": [
    {
     "name": "stdout",
     "output_type": "stream",
     "text": [
      "<class 'pandas.core.frame.DataFrame'>\n",
      "RangeIndex: 354369 entries, 0 to 354368\n",
      "Data columns (total 16 columns):\n",
      "DateCrawled          354369 non-null object\n",
      "Price                354369 non-null int64\n",
      "VehicleType          316879 non-null object\n",
      "RegistrationYear     354369 non-null int64\n",
      "Gearbox              334536 non-null object\n",
      "Power                354369 non-null int64\n",
      "Model                334664 non-null object\n",
      "Kilometer            354369 non-null int64\n",
      "RegistrationMonth    354369 non-null int64\n",
      "FuelType             321474 non-null object\n",
      "Brand                354369 non-null object\n",
      "NotRepaired          283215 non-null object\n",
      "DateCreated          354369 non-null object\n",
      "NumberOfPictures     354369 non-null int64\n",
      "PostalCode           354369 non-null int64\n",
      "LastSeen             354369 non-null object\n",
      "dtypes: int64(7), object(9)\n",
      "memory usage: 43.3+ MB\n"
     ]
    }
   ],
   "source": [
    "df.info()"
   ]
  },
  {
   "cell_type": "markdown",
   "metadata": {},
   "source": [
    "В датасете обнаружены следующие проблемы:\n",
    "- Есть пропуски в признаках: VehicleType, Gearbox, Model, FuelType, NotRepaired\n",
    "- В названиях признаков есь заглавные буквы, что для меня не удобно\n",
    "- Признаки, обозначающие даты будет необходимо привести к формау datetime"
   ]
  },
  {
   "cell_type": "markdown",
   "metadata": {},
   "source": [
    "Смотрю как выглядят данные"
   ]
  },
  {
   "cell_type": "code",
   "execution_count": 4,
   "metadata": {},
   "outputs": [
    {
     "data": {
      "text/html": [
       "<div>\n",
       "<style scoped>\n",
       "    .dataframe tbody tr th:only-of-type {\n",
       "        vertical-align: middle;\n",
       "    }\n",
       "\n",
       "    .dataframe tbody tr th {\n",
       "        vertical-align: top;\n",
       "    }\n",
       "\n",
       "    .dataframe thead th {\n",
       "        text-align: right;\n",
       "    }\n",
       "</style>\n",
       "<table border=\"1\" class=\"dataframe\">\n",
       "  <thead>\n",
       "    <tr style=\"text-align: right;\">\n",
       "      <th></th>\n",
       "      <th>DateCrawled</th>\n",
       "      <th>Price</th>\n",
       "      <th>VehicleType</th>\n",
       "      <th>RegistrationYear</th>\n",
       "      <th>Gearbox</th>\n",
       "      <th>Power</th>\n",
       "      <th>Model</th>\n",
       "      <th>Kilometer</th>\n",
       "      <th>RegistrationMonth</th>\n",
       "      <th>FuelType</th>\n",
       "      <th>Brand</th>\n",
       "      <th>NotRepaired</th>\n",
       "      <th>DateCreated</th>\n",
       "      <th>NumberOfPictures</th>\n",
       "      <th>PostalCode</th>\n",
       "      <th>LastSeen</th>\n",
       "    </tr>\n",
       "  </thead>\n",
       "  <tbody>\n",
       "    <tr>\n",
       "      <td>0</td>\n",
       "      <td>2016-03-24 11:52:17</td>\n",
       "      <td>480</td>\n",
       "      <td>NaN</td>\n",
       "      <td>1993</td>\n",
       "      <td>manual</td>\n",
       "      <td>0</td>\n",
       "      <td>golf</td>\n",
       "      <td>150000</td>\n",
       "      <td>0</td>\n",
       "      <td>petrol</td>\n",
       "      <td>volkswagen</td>\n",
       "      <td>NaN</td>\n",
       "      <td>2016-03-24 00:00:00</td>\n",
       "      <td>0</td>\n",
       "      <td>70435</td>\n",
       "      <td>2016-04-07 03:16:57</td>\n",
       "    </tr>\n",
       "    <tr>\n",
       "      <td>1</td>\n",
       "      <td>2016-03-24 10:58:45</td>\n",
       "      <td>18300</td>\n",
       "      <td>coupe</td>\n",
       "      <td>2011</td>\n",
       "      <td>manual</td>\n",
       "      <td>190</td>\n",
       "      <td>NaN</td>\n",
       "      <td>125000</td>\n",
       "      <td>5</td>\n",
       "      <td>gasoline</td>\n",
       "      <td>audi</td>\n",
       "      <td>yes</td>\n",
       "      <td>2016-03-24 00:00:00</td>\n",
       "      <td>0</td>\n",
       "      <td>66954</td>\n",
       "      <td>2016-04-07 01:46:50</td>\n",
       "    </tr>\n",
       "    <tr>\n",
       "      <td>2</td>\n",
       "      <td>2016-03-14 12:52:21</td>\n",
       "      <td>9800</td>\n",
       "      <td>suv</td>\n",
       "      <td>2004</td>\n",
       "      <td>auto</td>\n",
       "      <td>163</td>\n",
       "      <td>grand</td>\n",
       "      <td>125000</td>\n",
       "      <td>8</td>\n",
       "      <td>gasoline</td>\n",
       "      <td>jeep</td>\n",
       "      <td>NaN</td>\n",
       "      <td>2016-03-14 00:00:00</td>\n",
       "      <td>0</td>\n",
       "      <td>90480</td>\n",
       "      <td>2016-04-05 12:47:46</td>\n",
       "    </tr>\n",
       "    <tr>\n",
       "      <td>3</td>\n",
       "      <td>2016-03-17 16:54:04</td>\n",
       "      <td>1500</td>\n",
       "      <td>small</td>\n",
       "      <td>2001</td>\n",
       "      <td>manual</td>\n",
       "      <td>75</td>\n",
       "      <td>golf</td>\n",
       "      <td>150000</td>\n",
       "      <td>6</td>\n",
       "      <td>petrol</td>\n",
       "      <td>volkswagen</td>\n",
       "      <td>no</td>\n",
       "      <td>2016-03-17 00:00:00</td>\n",
       "      <td>0</td>\n",
       "      <td>91074</td>\n",
       "      <td>2016-03-17 17:40:17</td>\n",
       "    </tr>\n",
       "    <tr>\n",
       "      <td>4</td>\n",
       "      <td>2016-03-31 17:25:20</td>\n",
       "      <td>3600</td>\n",
       "      <td>small</td>\n",
       "      <td>2008</td>\n",
       "      <td>manual</td>\n",
       "      <td>69</td>\n",
       "      <td>fabia</td>\n",
       "      <td>90000</td>\n",
       "      <td>7</td>\n",
       "      <td>gasoline</td>\n",
       "      <td>skoda</td>\n",
       "      <td>no</td>\n",
       "      <td>2016-03-31 00:00:00</td>\n",
       "      <td>0</td>\n",
       "      <td>60437</td>\n",
       "      <td>2016-04-06 10:17:21</td>\n",
       "    </tr>\n",
       "  </tbody>\n",
       "</table>\n",
       "</div>"
      ],
      "text/plain": [
       "           DateCrawled  Price VehicleType  RegistrationYear Gearbox  Power  \\\n",
       "0  2016-03-24 11:52:17    480         NaN              1993  manual      0   \n",
       "1  2016-03-24 10:58:45  18300       coupe              2011  manual    190   \n",
       "2  2016-03-14 12:52:21   9800         suv              2004    auto    163   \n",
       "3  2016-03-17 16:54:04   1500       small              2001  manual     75   \n",
       "4  2016-03-31 17:25:20   3600       small              2008  manual     69   \n",
       "\n",
       "   Model  Kilometer  RegistrationMonth  FuelType       Brand NotRepaired  \\\n",
       "0   golf     150000                  0    petrol  volkswagen         NaN   \n",
       "1    NaN     125000                  5  gasoline        audi         yes   \n",
       "2  grand     125000                  8  gasoline        jeep         NaN   \n",
       "3   golf     150000                  6    petrol  volkswagen          no   \n",
       "4  fabia      90000                  7  gasoline       skoda          no   \n",
       "\n",
       "           DateCreated  NumberOfPictures  PostalCode             LastSeen  \n",
       "0  2016-03-24 00:00:00                 0       70435  2016-04-07 03:16:57  \n",
       "1  2016-03-24 00:00:00                 0       66954  2016-04-07 01:46:50  \n",
       "2  2016-03-14 00:00:00                 0       90480  2016-04-05 12:47:46  \n",
       "3  2016-03-17 00:00:00                 0       91074  2016-03-17 17:40:17  \n",
       "4  2016-03-31 00:00:00                 0       60437  2016-04-06 10:17:21  "
      ]
     },
     "execution_count": 4,
     "metadata": {},
     "output_type": "execute_result"
    }
   ],
   "source": [
    "df.head()"
   ]
  },
  {
   "cell_type": "markdown",
   "metadata": {},
   "source": [
    "Еще раз смотрю какие признаки содержат пропуски"
   ]
  },
  {
   "cell_type": "code",
   "execution_count": 5,
   "metadata": {},
   "outputs": [
    {
     "data": {
      "text/plain": [
       "DateCrawled              0\n",
       "Price                    0\n",
       "VehicleType          37490\n",
       "RegistrationYear         0\n",
       "Gearbox              19833\n",
       "Power                    0\n",
       "Model                19705\n",
       "Kilometer                0\n",
       "RegistrationMonth        0\n",
       "FuelType             32895\n",
       "Brand                    0\n",
       "NotRepaired          71154\n",
       "DateCreated              0\n",
       "NumberOfPictures         0\n",
       "PostalCode               0\n",
       "LastSeen                 0\n",
       "dtype: int64"
      ]
     },
     "execution_count": 5,
     "metadata": {},
     "output_type": "execute_result"
    }
   ],
   "source": [
    "df.isna().sum()"
   ]
  },
  {
   "cell_type": "markdown",
   "metadata": {},
   "source": [
    "Так как пропуски содержатся только в категориалных признаках я решил удалить эти строки, так как заполнит их возможности нет"
   ]
  },
  {
   "cell_type": "code",
   "execution_count": 6,
   "metadata": {},
   "outputs": [],
   "source": [
    "df.dropna(inplace=True)"
   ]
  },
  {
   "cell_type": "markdown",
   "metadata": {},
   "source": [
    "Проверяю корректность удаления"
   ]
  },
  {
   "cell_type": "code",
   "execution_count": 7,
   "metadata": {},
   "outputs": [
    {
     "name": "stdout",
     "output_type": "stream",
     "text": [
      "<class 'pandas.core.frame.DataFrame'>\n",
      "Int64Index: 245814 entries, 3 to 354367\n",
      "Data columns (total 16 columns):\n",
      "DateCrawled          245814 non-null object\n",
      "Price                245814 non-null int64\n",
      "VehicleType          245814 non-null object\n",
      "RegistrationYear     245814 non-null int64\n",
      "Gearbox              245814 non-null object\n",
      "Power                245814 non-null int64\n",
      "Model                245814 non-null object\n",
      "Kilometer            245814 non-null int64\n",
      "RegistrationMonth    245814 non-null int64\n",
      "FuelType             245814 non-null object\n",
      "Brand                245814 non-null object\n",
      "NotRepaired          245814 non-null object\n",
      "DateCreated          245814 non-null object\n",
      "NumberOfPictures     245814 non-null int64\n",
      "PostalCode           245814 non-null int64\n",
      "LastSeen             245814 non-null object\n",
      "dtypes: int64(7), object(9)\n",
      "memory usage: 31.9+ MB\n"
     ]
    }
   ],
   "source": [
    "df.info()"
   ]
  },
  {
   "cell_type": "markdown",
   "metadata": {},
   "source": [
    "Далее строю график для поиска ошибок в данных"
   ]
  },
  {
   "cell_type": "code",
   "execution_count": 8,
   "metadata": {},
   "outputs": [],
   "source": [
    "#sns.pairplot(df)"
   ]
  },
  {
   "cell_type": "markdown",
   "metadata": {},
   "source": [
    "Удаляю признак с количеством изображений, так как на всех записях он равен 0"
   ]
  },
  {
   "cell_type": "code",
   "execution_count": 9,
   "metadata": {},
   "outputs": [],
   "source": [
    "del df['NumberOfPictures']"
   ]
  },
  {
   "cell_type": "markdown",
   "metadata": {},
   "source": [
    "проверяю, нет ли ошибок в зполнении месяцев"
   ]
  },
  {
   "cell_type": "code",
   "execution_count": 10,
   "metadata": {},
   "outputs": [
    {
     "data": {
      "text/plain": [
       "3     26527\n",
       "6     23390\n",
       "4     21950\n",
       "5     21582\n",
       "7     20262\n",
       "10    19685\n",
       "9     18167\n",
       "12    18112\n",
       "11    18070\n",
       "1     17393\n",
       "8     16907\n",
       "2     16238\n",
       "0      7531\n",
       "Name: RegistrationMonth, dtype: int64"
      ]
     },
     "execution_count": 10,
     "metadata": {},
     "output_type": "execute_result"
    }
   ],
   "source": [
    "df['RegistrationMonth'].value_counts()"
   ]
  },
  {
   "cell_type": "markdown",
   "metadata": {},
   "source": [
    "Так как нулевого месяца не существует - удаляю записи с нулевым месяцем"
   ]
  },
  {
   "cell_type": "code",
   "execution_count": 11,
   "metadata": {},
   "outputs": [],
   "source": [
    "df = df[df['RegistrationMonth'] > 0]"
   ]
  },
  {
   "cell_type": "markdown",
   "metadata": {},
   "source": [
    "Из графика видно, что некоторые автомобили имеют мощность гораздо больше 1000 л.с., что не совсем соответствует действительности. Поэтому решаю удалить все автомобили с мощностью более 1000 л.с."
   ]
  },
  {
   "cell_type": "code",
   "execution_count": 12,
   "metadata": {},
   "outputs": [],
   "source": [
    "df = df[df['Power'] < 1000]"
   ]
  },
  {
   "cell_type": "markdown",
   "metadata": {},
   "source": [
    "Оцениваю оставшийся датасет по объему"
   ]
  },
  {
   "cell_type": "code",
   "execution_count": 13,
   "metadata": {},
   "outputs": [
    {
     "name": "stdout",
     "output_type": "stream",
     "text": [
      "<class 'pandas.core.frame.DataFrame'>\n",
      "Int64Index: 238161 entries, 3 to 354367\n",
      "Data columns (total 15 columns):\n",
      "DateCrawled          238161 non-null object\n",
      "Price                238161 non-null int64\n",
      "VehicleType          238161 non-null object\n",
      "RegistrationYear     238161 non-null int64\n",
      "Gearbox              238161 non-null object\n",
      "Power                238161 non-null int64\n",
      "Model                238161 non-null object\n",
      "Kilometer            238161 non-null int64\n",
      "RegistrationMonth    238161 non-null int64\n",
      "FuelType             238161 non-null object\n",
      "Brand                238161 non-null object\n",
      "NotRepaired          238161 non-null object\n",
      "DateCreated          238161 non-null object\n",
      "PostalCode           238161 non-null int64\n",
      "LastSeen             238161 non-null object\n",
      "dtypes: int64(6), object(9)\n",
      "memory usage: 29.1+ MB\n"
     ]
    }
   ],
   "source": [
    "df.info()"
   ]
  },
  {
   "cell_type": "markdown",
   "metadata": {},
   "source": [
    "Привожу названия признаков к нижнему регистру"
   ]
  },
  {
   "cell_type": "code",
   "execution_count": 14,
   "metadata": {},
   "outputs": [],
   "source": [
    "df.columns = map(str.lower, df.columns)"
   ]
  },
  {
   "cell_type": "markdown",
   "metadata": {},
   "source": [
    "Обновляю индексы"
   ]
  },
  {
   "cell_type": "code",
   "execution_count": 15,
   "metadata": {},
   "outputs": [],
   "source": [
    "df = df.reset_index(drop=True)"
   ]
  },
  {
   "cell_type": "markdown",
   "metadata": {},
   "source": [
    "Привожу даты к формату datetime"
   ]
  },
  {
   "cell_type": "code",
   "execution_count": 16,
   "metadata": {},
   "outputs": [],
   "source": [
    "df['datecrawled'] = pd.to_datetime(df['datecrawled'], format='%Y-%m-%d %H:%M:%S')\n",
    "df['datecreated'] = pd.to_datetime(df['datecreated'], format='%Y-%m-%d %H:%M:%S')\n",
    "df['lastseen'] = pd.to_datetime(df['lastseen'], format='%Y-%m-%d %H:%M:%S')"
   ]
  },
  {
   "cell_type": "markdown",
   "metadata": {},
   "source": [
    "Проверяю успешность всех выполненных действий:)"
   ]
  },
  {
   "cell_type": "code",
   "execution_count": 17,
   "metadata": {},
   "outputs": [
    {
     "data": {
      "text/html": [
       "<div>\n",
       "<style scoped>\n",
       "    .dataframe tbody tr th:only-of-type {\n",
       "        vertical-align: middle;\n",
       "    }\n",
       "\n",
       "    .dataframe tbody tr th {\n",
       "        vertical-align: top;\n",
       "    }\n",
       "\n",
       "    .dataframe thead th {\n",
       "        text-align: right;\n",
       "    }\n",
       "</style>\n",
       "<table border=\"1\" class=\"dataframe\">\n",
       "  <thead>\n",
       "    <tr style=\"text-align: right;\">\n",
       "      <th></th>\n",
       "      <th>datecrawled</th>\n",
       "      <th>price</th>\n",
       "      <th>vehicletype</th>\n",
       "      <th>registrationyear</th>\n",
       "      <th>gearbox</th>\n",
       "      <th>power</th>\n",
       "      <th>model</th>\n",
       "      <th>kilometer</th>\n",
       "      <th>registrationmonth</th>\n",
       "      <th>fueltype</th>\n",
       "      <th>brand</th>\n",
       "      <th>notrepaired</th>\n",
       "      <th>datecreated</th>\n",
       "      <th>postalcode</th>\n",
       "      <th>lastseen</th>\n",
       "    </tr>\n",
       "  </thead>\n",
       "  <tbody>\n",
       "    <tr>\n",
       "      <td>0</td>\n",
       "      <td>2016-03-17 16:54:04</td>\n",
       "      <td>1500</td>\n",
       "      <td>small</td>\n",
       "      <td>2001</td>\n",
       "      <td>manual</td>\n",
       "      <td>75</td>\n",
       "      <td>golf</td>\n",
       "      <td>150000</td>\n",
       "      <td>6</td>\n",
       "      <td>petrol</td>\n",
       "      <td>volkswagen</td>\n",
       "      <td>no</td>\n",
       "      <td>2016-03-17</td>\n",
       "      <td>91074</td>\n",
       "      <td>2016-03-17 17:40:17</td>\n",
       "    </tr>\n",
       "    <tr>\n",
       "      <td>1</td>\n",
       "      <td>2016-03-31 17:25:20</td>\n",
       "      <td>3600</td>\n",
       "      <td>small</td>\n",
       "      <td>2008</td>\n",
       "      <td>manual</td>\n",
       "      <td>69</td>\n",
       "      <td>fabia</td>\n",
       "      <td>90000</td>\n",
       "      <td>7</td>\n",
       "      <td>gasoline</td>\n",
       "      <td>skoda</td>\n",
       "      <td>no</td>\n",
       "      <td>2016-03-31</td>\n",
       "      <td>60437</td>\n",
       "      <td>2016-04-06 10:17:21</td>\n",
       "    </tr>\n",
       "    <tr>\n",
       "      <td>2</td>\n",
       "      <td>2016-04-04 17:36:23</td>\n",
       "      <td>650</td>\n",
       "      <td>sedan</td>\n",
       "      <td>1995</td>\n",
       "      <td>manual</td>\n",
       "      <td>102</td>\n",
       "      <td>3er</td>\n",
       "      <td>150000</td>\n",
       "      <td>10</td>\n",
       "      <td>petrol</td>\n",
       "      <td>bmw</td>\n",
       "      <td>yes</td>\n",
       "      <td>2016-04-04</td>\n",
       "      <td>33775</td>\n",
       "      <td>2016-04-06 19:17:07</td>\n",
       "    </tr>\n",
       "    <tr>\n",
       "      <td>3</td>\n",
       "      <td>2016-04-01 20:48:51</td>\n",
       "      <td>2200</td>\n",
       "      <td>convertible</td>\n",
       "      <td>2004</td>\n",
       "      <td>manual</td>\n",
       "      <td>109</td>\n",
       "      <td>2_reihe</td>\n",
       "      <td>150000</td>\n",
       "      <td>8</td>\n",
       "      <td>petrol</td>\n",
       "      <td>peugeot</td>\n",
       "      <td>no</td>\n",
       "      <td>2016-04-01</td>\n",
       "      <td>67112</td>\n",
       "      <td>2016-04-05 18:18:39</td>\n",
       "    </tr>\n",
       "    <tr>\n",
       "      <td>4</td>\n",
       "      <td>2016-03-21 18:54:38</td>\n",
       "      <td>0</td>\n",
       "      <td>sedan</td>\n",
       "      <td>1980</td>\n",
       "      <td>manual</td>\n",
       "      <td>50</td>\n",
       "      <td>other</td>\n",
       "      <td>40000</td>\n",
       "      <td>7</td>\n",
       "      <td>petrol</td>\n",
       "      <td>volkswagen</td>\n",
       "      <td>no</td>\n",
       "      <td>2016-03-21</td>\n",
       "      <td>19348</td>\n",
       "      <td>2016-03-25 16:47:58</td>\n",
       "    </tr>\n",
       "  </tbody>\n",
       "</table>\n",
       "</div>"
      ],
      "text/plain": [
       "          datecrawled  price  vehicletype  registrationyear gearbox  power  \\\n",
       "0 2016-03-17 16:54:04   1500        small              2001  manual     75   \n",
       "1 2016-03-31 17:25:20   3600        small              2008  manual     69   \n",
       "2 2016-04-04 17:36:23    650        sedan              1995  manual    102   \n",
       "3 2016-04-01 20:48:51   2200  convertible              2004  manual    109   \n",
       "4 2016-03-21 18:54:38      0        sedan              1980  manual     50   \n",
       "\n",
       "     model  kilometer  registrationmonth  fueltype       brand notrepaired  \\\n",
       "0     golf     150000                  6    petrol  volkswagen          no   \n",
       "1    fabia      90000                  7  gasoline       skoda          no   \n",
       "2      3er     150000                 10    petrol         bmw         yes   \n",
       "3  2_reihe     150000                  8    petrol     peugeot          no   \n",
       "4    other      40000                  7    petrol  volkswagen          no   \n",
       "\n",
       "  datecreated  postalcode            lastseen  \n",
       "0  2016-03-17       91074 2016-03-17 17:40:17  \n",
       "1  2016-03-31       60437 2016-04-06 10:17:21  \n",
       "2  2016-04-04       33775 2016-04-06 19:17:07  \n",
       "3  2016-04-01       67112 2016-04-05 18:18:39  \n",
       "4  2016-03-21       19348 2016-03-25 16:47:58  "
      ]
     },
     "execution_count": 17,
     "metadata": {},
     "output_type": "execute_result"
    }
   ],
   "source": [
    "df.head()"
   ]
  },
  {
   "cell_type": "markdown",
   "metadata": {},
   "source": [
    "Удаляю эти признаки, выявленно опытным путем что после их удаления ошибка уменьшилась"
   ]
  },
  {
   "cell_type": "code",
   "execution_count": 18,
   "metadata": {},
   "outputs": [],
   "source": [
    "del df['datecrawled']\n",
    "del df['lastseen']\n",
    "del df['datecreated']\n",
    "del df['postalcode']"
   ]
  },
  {
   "cell_type": "markdown",
   "metadata": {},
   "source": [
    "Разделяю датасет на признаковое пространство и целевой признак"
   ]
  },
  {
   "cell_type": "code",
   "execution_count": 19,
   "metadata": {},
   "outputs": [],
   "source": [
    "X = df.drop('price', axis=1)\n",
    "y = df['price'] "
   ]
  },
  {
   "cell_type": "markdown",
   "metadata": {},
   "source": [
    "Разбиваю датасет на обучающюю и тестовую выборки в соотношении 80-20"
   ]
  },
  {
   "cell_type": "code",
   "execution_count": 20,
   "metadata": {},
   "outputs": [],
   "source": [
    "X_train, X_test, y_train, y_test = train_test_split(X, y, test_size=0.2, random_state=12345)"
   ]
  },
  {
   "cell_type": "code",
   "execution_count": 21,
   "metadata": {},
   "outputs": [],
   "source": [
    "X_train_lgbm = X_train\n",
    "X_test_lgbm = X_test"
   ]
  },
  {
   "cell_type": "markdown",
   "metadata": {},
   "source": [
    "### Выводы"
   ]
  },
  {
   "cell_type": "markdown",
   "metadata": {},
   "source": [
    "# 2. Обучение моделей"
   ]
  },
  {
   "cell_type": "markdown",
   "metadata": {},
   "source": [
    "В данном разделе будут рассмотрены три модели:\n",
    "- CatBoostRegressor\n",
    "- LightGBM\n",
    "- LinearRegression без настройки"
   ]
  },
  {
   "cell_type": "markdown",
   "metadata": {},
   "source": [
    "Для начала перечисляю список категориальных переменных для CatBoostRegressor"
   ]
  },
  {
   "cell_type": "code",
   "execution_count": 22,
   "metadata": {},
   "outputs": [],
   "source": [
    "categ_features = [\n",
    "    #'datecrawled',\n",
    "    'vehicletype',\n",
    "    'gearbox',\n",
    "    'model',\n",
    "    'fueltype',\n",
    "    'brand',\n",
    "    'notrepaired'\n",
    "    #'datecreated',\n",
    "    #'lastseen'\n",
    "]"
   ]
  },
  {
   "cell_type": "markdown",
   "metadata": {},
   "source": [
    "Далее разбиваю обучение и предсказание на разные ячейки для выяснения времени каждого процесса. Для CatBoostRegressor выбраны параметры loss_function='RMSE', iterations=150, depth=10. Поискать оптимальные параметры не особо получилось, эти параметры взяты на глаз, но при этом показывают неплохие результаты"
   ]
  },
  {
   "cell_type": "code",
   "execution_count": 23,
   "metadata": {},
   "outputs": [
    {
     "name": "stdout",
     "output_type": "stream",
     "text": [
      "0:\tlearn: 4629.4219772\ttotal: 467ms\tremaining: 1m 9s\n",
      "10:\tlearn: 3773.6492863\ttotal: 4.46s\tremaining: 56.4s\n",
      "20:\tlearn: 3188.8143907\ttotal: 8.26s\tremaining: 50.7s\n",
      "30:\tlearn: 2791.6560932\ttotal: 12.2s\tremaining: 46.7s\n",
      "40:\tlearn: 2497.3309689\ttotal: 16s\tremaining: 42.7s\n",
      "50:\tlearn: 2292.5192617\ttotal: 19.9s\tremaining: 38.7s\n",
      "60:\tlearn: 2149.4017947\ttotal: 23.8s\tremaining: 34.8s\n",
      "70:\tlearn: 2048.7752236\ttotal: 27.6s\tremaining: 30.7s\n",
      "80:\tlearn: 1980.3686908\ttotal: 31.4s\tremaining: 26.8s\n",
      "90:\tlearn: 1933.2720069\ttotal: 35.2s\tremaining: 22.8s\n",
      "100:\tlearn: 1888.5528019\ttotal: 38.9s\tremaining: 18.9s\n",
      "110:\tlearn: 1856.9911004\ttotal: 42.8s\tremaining: 15s\n",
      "120:\tlearn: 1831.3462429\ttotal: 46.6s\tremaining: 11.2s\n",
      "130:\tlearn: 1813.7751545\ttotal: 50.6s\tremaining: 7.34s\n",
      "140:\tlearn: 1798.7782535\ttotal: 54.3s\tremaining: 3.46s\n",
      "149:\tlearn: 1787.0578106\ttotal: 57.8s\tremaining: 0us\n",
      "CPU times: user 52.9 s, sys: 5.82 s, total: 58.8 s\n",
      "Wall time: 1min\n"
     ]
    },
    {
     "data": {
      "text/plain": [
       "<catboost.core.CatBoostRegressor at 0x7fb2b133cf10>"
      ]
     },
     "execution_count": 23,
     "metadata": {},
     "output_type": "execute_result"
    }
   ],
   "source": [
    "%%time\n",
    "model_cbr = CatBoostRegressor(loss_function='RMSE', iterations=150, depth=10)\n",
    "model_cbr.fit(X_train, y_train, cat_features=categ_features, verbose=10)\n"
   ]
  },
  {
   "cell_type": "markdown",
   "metadata": {},
   "source": [
    "Время на обучение модели почти 60 секунд, немного долго, но это время можно отрегулировать параметром iterations (чем меньше - тем быстрее)\n",
    "\n",
    "Далее смотрю время на предсказании и точность"
   ]
  },
  {
   "cell_type": "code",
   "execution_count": 24,
   "metadata": {},
   "outputs": [
    {
     "name": "stdout",
     "output_type": "stream",
     "text": [
      "RMSE= 1815.6985400982269\n",
      "CPU times: user 184 ms, sys: 13.3 ms, total: 197 ms\n",
      "Wall time: 170 ms\n"
     ]
    }
   ],
   "source": [
    "%%time\n",
    "pred = model_cbr.predict(X_test)\n",
    "print(\"RMSE=\", mean_squared_error(y_test, pred)**0.5)"
   ]
  },
  {
   "cell_type": "markdown",
   "metadata": {},
   "source": [
    "Предсказывает достаточно быстро, ошибка вполне устраивает\n",
    "\n",
    "Далее перечисляю гиперпараметры для LightGBM, параметры тоже взяты весьма случайно, есть проблема с пониманием того, какие значения параметров ожидает алгоритм"
   ]
  },
  {
   "cell_type": "code",
   "execution_count": 25,
   "metadata": {},
   "outputs": [],
   "source": [
    "params_lgbm = {\n",
    "    \"num_boost_round\":25,\n",
    "    \"max_depth\" : 10,\n",
    "    \"num_leaves\" : 150,\n",
    "    'learning_rate' : 0.1,\n",
    "    'boosting_type' : 'gbdt'\n",
    "}"
   ]
  },
  {
   "cell_type": "markdown",
   "metadata": {},
   "source": [
    "Так как в LightGBM и LinearRegression нет встроенного кодировщика категориальных признаков, необходимо закодировать эти признаки. Выбран LabelEncoder, просто он мне больше нравится"
   ]
  },
  {
   "cell_type": "markdown",
   "metadata": {},
   "source": [
    "Так же кодируем для теста"
   ]
  },
  {
   "cell_type": "code",
   "execution_count": 27,
   "metadata": {},
   "outputs": [],
   "source": [
    "# le.fit(X_test['vehicletype'])\n",
    "# X_test['vehicletype'] = le.transform(X_test['vehicletype'])\n",
    "\n",
    "# le.fit(X_test['gearbox'])\n",
    "# X_test['gearbox'] = le.transform(X_test['gearbox'])\n",
    "\n",
    "# le.fit(X_test['model'])\n",
    "# X_test['model'] = le.transform(X_test['model'])\n",
    "\n",
    "# le.fit(X_test['fueltype'])\n",
    "# X_test['fueltype'] = le.transform(X_test['fueltype'])\n",
    "\n",
    "# le.fit(X_test['brand'])\n",
    "# X_test['brand'] = le.transform(X_test['brand'])\n",
    "\n",
    "# le.fit(X_test['notrepaired'])\n",
    "# X_test['notrepaired'] = le.transform(X_test['notrepaired'])"
   ]
  },
  {
   "cell_type": "markdown",
   "metadata": {},
   "source": [
    "Для того, чтобы LightGBM мог работать с категориальными признаками, необходимо приветси переменные к типу category "
   ]
  },
  {
   "cell_type": "code",
   "execution_count": 28,
   "metadata": {},
   "outputs": [],
   "source": [
    "X_train_lgbm['vehicletype'] = X_train_lgbm['vehicletype'].astype('category')\n",
    "X_train_lgbm['gearbox'] = X_train_lgbm['gearbox'].astype('category')\n",
    "X_train_lgbm['model'] = X_train_lgbm['model'].astype('category')\n",
    "X_train_lgbm['fueltype'] = X_train_lgbm['fueltype'].astype('category')\n",
    "X_train_lgbm['brand'] = X_train_lgbm['brand'].astype('category')\n",
    "X_train_lgbm['notrepaired'] = X_train_lgbm['notrepaired'].astype('category')"
   ]
  },
  {
   "cell_type": "code",
   "execution_count": null,
   "metadata": {},
   "outputs": [],
   "source": [
    "X_test_lgbm['vehicletype'] = X_test_lgbm['vehicletype'].astype('category')\n",
    "X_test_lgbm['gearbox'] = X_test_lgbm['gearbox'].astype('category')\n",
    "X_test_lgbm['model'] = X_test_lgbm['model'].astype('category')\n",
    "X_test_lgbm['fueltype'] = X_test_lgbm['fueltype'].astype('category')\n",
    "X_test_lgbm['brand'] = X_test_lgbm['brand'].astype('category')\n",
    "X_test_lgbm['notrepaired'] = X_test_lgbm['notrepaired'].astype('category')"
   ]
  },
  {
   "cell_type": "markdown",
   "metadata": {},
   "source": [
    "Далее при помощи GridSearchCV ищутся оптимальные значения для параметров num_leaves и max_depth (дал небольшой диапазон значений, так как при большем диапазоне параметры не нашлись за сутки)"
   ]
  },
  {
   "cell_type": "code",
   "execution_count": 30,
   "metadata": {},
   "outputs": [
    {
     "name": "stdout",
     "output_type": "stream",
     "text": [
      "CPU times: user 7min 24s, sys: 3.21 s, total: 7min 27s\n",
      "Wall time: 7min 32s\n"
     ]
    }
   ],
   "source": [
    "%%time\n",
    "param_grid={'num_leaves': [num_leaves for num_leaves in range (150, 155)],\n",
    "           'max_depth': [max_depth for max_depth in range (10, 12)]}\n",
    "gs_rf = GridSearchCV(lgbm.sklearn.LGBMRegressor(), param_grid=param_grid)\n",
    "gs_rf.fit(X_train_lgbm, y_train)\n",
    "gs_rf.best_params_\n",
    "bp = gs_rf.best_params_"
   ]
  },
  {
   "cell_type": "markdown",
   "metadata": {},
   "source": [
    "Далее обучается модель LGBMRegressor, значения параметров для него были указаны выше"
   ]
  },
  {
   "cell_type": "markdown",
   "metadata": {},
   "source": [
    "Далее в модель передаются найденные параметры и модель обучаеся"
   ]
  },
  {
   "cell_type": "code",
   "execution_count": 32,
   "metadata": {},
   "outputs": [
    {
     "name": "stdout",
     "output_type": "stream",
     "text": [
      "CPU times: user 4.63 s, sys: 29.4 ms, total: 4.66 s\n",
      "Wall time: 4.69 s\n"
     ]
    },
    {
     "data": {
      "text/plain": [
       "LGBMRegressor(boosting_type='gbdt', class_weight=None, colsample_bytree=1.0,\n",
       "              importance_type='split', learning_rate=0.1, max_depth=10,\n",
       "              min_child_samples=20, min_child_weight=0.001, min_split_gain=0.0,\n",
       "              n_estimators=25, n_jobs=-1, num_leaves=150, objective=None,\n",
       "              random_state=None, reg_alpha=0.0, reg_lambda=0.0, silent=True,\n",
       "              subsample=1.0, subsample_for_bin=200000, subsample_freq=0)"
      ]
     },
     "execution_count": 32,
     "metadata": {},
     "output_type": "execute_result"
    }
   ],
   "source": [
    "%%time\n",
    "model_lgbm = lgbm.sklearn.LGBMRegressor(\n",
    "    num_leaves=bp[\"num_leaves\"], \n",
    "    n_estimators=params_lgbm[\"num_boost_round\"], \n",
    "    max_depth=bp[\"max_depth\"],\n",
    "    learning_rate=params_lgbm[\"learning_rate\"]\n",
    ")\n",
    "model_lgbm.fit(X_train, y_train)"
   ]
  },
  {
   "cell_type": "markdown",
   "metadata": {},
   "source": [
    "Обучается модель гораздо быстрее чем CatBoostRegressor"
   ]
  },
  {
   "cell_type": "code",
   "execution_count": 33,
   "metadata": {},
   "outputs": [
    {
     "name": "stdout",
     "output_type": "stream",
     "text": [
      "RMSE= 1762.3330491485274\n",
      "CPU times: user 282 ms, sys: 4.36 ms, total: 286 ms\n",
      "Wall time: 295 ms\n"
     ]
    }
   ],
   "source": [
    "%%time\n",
    "pred_lgbm = model_lgbm.predict(X_test)\n",
    "print(\"RMSE=\", mean_squared_error(y_test, pred_lgbm)**0.5)"
   ]
  },
  {
   "cell_type": "markdown",
   "metadata": {},
   "source": [
    "Скорость предсказания ниже, но ошибка сопоставима с CatBoostRegressor\n",
    "\n",
    "Далее LinearRegression. Эту модель взял из любопытства, было интересно, что покажет модель без тюнинга"
   ]
  },
  {
   "cell_type": "markdown",
   "metadata": {},
   "source": [
    "Для начала необходимо закодировать переменные"
   ]
  },
  {
   "cell_type": "code",
   "execution_count": 40,
   "metadata": {},
   "outputs": [],
   "source": [
    "le = preprocessing.LabelEncoder()\n",
    "# Так не работает\n",
    "# le.fit(X_train[['vehicletype', 'gearbox', 'model', 'fueltype', 'brand', 'notrepaired']])\n",
    "# X_train[['vehicletype', 'gearbox', 'model', 'fueltype', 'brand', 'notrepaired']] = le.transform(X_train[['vehicletype', 'gearbox', 'model', 'fueltype', 'brand', 'notrepaired']])\n",
    "# X_test[['vehicletype', 'gearbox', 'model', 'fueltype', 'brand', 'notrepaired']] = le.transform(X_test[['vehicletype', 'gearbox', 'model', 'fueltype', 'brand', 'notrepaired']])\n",
    "\n",
    "le.fit(X_train['vehicletype'])\n",
    "X_train['vehicletype'] = le.transform(X_train['vehicletype'])\n",
    "X_test['vehicletype'] = le.transform(X_test['vehicletype'])\n",
    "\n",
    "le.fit(X_train['gearbox'])\n",
    "X_train['gearbox'] = le.transform(X_train['gearbox'])\n",
    "X_test['gearbox'] = le.transform(X_test['gearbox'])\n",
    "\n",
    "le.fit(X_train['model'])\n",
    "X_train['model'] = le.transform(X_train['model'])\n",
    "X_test['model'] = le.transform(X_test['model'])\n",
    "\n",
    "le.fit(X_train['fueltype'])\n",
    "X_train['fueltype'] = le.transform(X_train['fueltype'])\n",
    "X_test['fueltype'] = le.transform(X_test['fueltype'])\n",
    "\n",
    "le.fit(X_train['brand'])\n",
    "X_train['brand'] = le.transform(X_train['brand'])\n",
    "X_test['brand'] = le.transform(X_test['brand'])\n",
    "\n",
    "le.fit(X_train['notrepaired'])\n",
    "X_train['notrepaired'] = le.transform(X_train['notrepaired'])\n",
    "X_test['notrepaired'] = le.transform(X_test['notrepaired'])"
   ]
  },
  {
   "cell_type": "code",
   "execution_count": 41,
   "metadata": {},
   "outputs": [
    {
     "name": "stdout",
     "output_type": "stream",
     "text": [
      "CPU times: user 65.9 ms, sys: 17 ms, total: 82.9 ms\n",
      "Wall time: 56 ms\n"
     ]
    },
    {
     "data": {
      "text/plain": [
       "LinearRegression(copy_X=True, fit_intercept=True, n_jobs=None, normalize=False)"
      ]
     },
     "execution_count": 41,
     "metadata": {},
     "output_type": "execute_result"
    }
   ],
   "source": [
    "%%time\n",
    "model_lr = LinearRegression()\n",
    "model_lr.fit(X_train, y_train)"
   ]
  },
  {
   "cell_type": "markdown",
   "metadata": {},
   "source": [
    "Скорость обучения очень высокая"
   ]
  },
  {
   "cell_type": "code",
   "execution_count": 42,
   "metadata": {},
   "outputs": [
    {
     "name": "stdout",
     "output_type": "stream",
     "text": [
      "RMSE= 2984.36894208168\n",
      "CPU times: user 8.2 ms, sys: 12.4 ms, total: 20.6 ms\n",
      "Wall time: 6.72 ms\n"
     ]
    }
   ],
   "source": [
    "%%time\n",
    "pred_lr = model_lr.predict(X_test)\n",
    "print(\"RMSE=\", mean_squared_error(y_test, pred_lr)**0.5)"
   ]
  },
  {
   "cell_type": "markdown",
   "metadata": {},
   "source": [
    "Скорость предсказания тоже очень высокая, но ошибка почти в 1.5 раза выше, чем у CatBoostRegressor"
   ]
  },
  {
   "cell_type": "markdown",
   "metadata": {},
   "source": [
    "### Выводы\n",
    "- Обучено 3 модели\n",
    "- Для каждой модели вычислены время обучения, время предсказания и найдена RMSE"
   ]
  },
  {
   "cell_type": "markdown",
   "metadata": {},
   "source": [
    "# 3. Анализ моделей"
   ]
  },
  {
   "cell_type": "markdown",
   "metadata": {},
   "source": [
    "Ниже приведена сводная <a id=\"table\"></a>таблица для трех моделей"
   ]
  },
  {
   "cell_type": "markdown",
   "metadata": {},
   "source": [
    "Модель|Время на обучение|Время на предсказание|Ошибка (RMSE)\n",
    "------|-----------------|---------------------|-------------\n",
    "CatBoostRegressor|60 s.|190 ms.|1815\n",
    "LightGBM|5 s.|295 ms.|1762\n",
    "LinearRegression|49 ms.|5 ms.|2984"
   ]
  },
  {
   "cell_type": "markdown",
   "metadata": {},
   "source": [
    "Выводы по таблице:\n",
    "- Самая долгая модель - CatBoostRegressor\n",
    "- Самая быстрая модель - LinearRegression\n",
    "- Самая точная модель - CatBoostRegressor\n",
    "- Самое лучшее соотношения времени обучения и точности - **LightGBM**"
   ]
  },
  {
   "cell_type": "markdown",
   "metadata": {},
   "source": [
    "## Выводы\n",
    "- Исходный датасет был предобработан (удалены пропуски, ненужные признаки, переименованы признаки)\n",
    "- Предобработанный датасет разделен на обучающую и тестовую выборки\n",
    "- Обучено три модели регрессии (CatBoostRegression, LightgbM, LiearRegression)\n",
    "- Найдено время обучения и RMSE (см. [таблицу](#table))\n",
    "- Выбрана оптимальная модель для заказчика (LightGBM c параметрами:\"num_boost_round\":25, \"max_depth\" : 11, \"num_leaves\" : 151, 'learning_rate' : 0.1, 'boosting_type' : 'gbdt' )\n",
    "\n",
    "\n",
    "Для текщей задачи важнее всего точность и время предсказания, так как модель обучается один раз (при найденных гиперпараметрах). Так что для заказчика время обучения роли не играет, но так как время предсказания у всех моделей очен низкое (меньше секунды) то соотвественно модель выбирается только на основе ошибки. В данном примере такой моделью оказалась LightGBM с перечисленными выше параметрами"
   ]
  }
 ],
 "metadata": {
  "kernelspec": {
   "display_name": "Python 3",
   "language": "python",
   "name": "python3"
  },
  "language_info": {
   "codemirror_mode": {
    "name": "ipython",
    "version": 3
   },
   "file_extension": ".py",
   "mimetype": "text/x-python",
   "name": "python",
   "nbconvert_exporter": "python",
   "pygments_lexer": "ipython3",
   "version": "3.8.3"
  }
 },
 "nbformat": 4,
 "nbformat_minor": 2
}
