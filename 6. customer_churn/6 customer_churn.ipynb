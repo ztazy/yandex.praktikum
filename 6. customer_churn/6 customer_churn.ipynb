{
 "cells": [
  {
   "cell_type": "markdown",
   "metadata": {},
   "source": [
    "# Отток клиентов"
   ]
  },
  {
   "cell_type": "markdown",
   "metadata": {},
   "source": [
    "Предоставленные данные имеют следующие поля:\n",
    "\n",
    "Признаки:\n",
    "- RowNumber — индекс строки в данных\n",
    "- CustomerId — уникальный идентификатор клиента\n",
    "- Surname — фамилия\n",
    "- CreditScore — кредитный рейтинг\n",
    "- Geography — страна проживания\n",
    "- Gender — пол\n",
    "- Age — возраст\n",
    "- Tenure — количество недвижимости у клиента\n",
    "- Balance — баланс на счёте\n",
    "- NumOfProducts — количество продуктов банка, используемых клиентом\n",
    "- HasCrCard — наличие кредитной карты\n",
    "- IsActiveMember — активность клиента\n",
    "- EstimatedSalary — предполагаемая зарплата\n",
    "\n",
    "Класс:\n",
    "- Exited — факт ухода клиента"
   ]
  },
  {
   "cell_type": "markdown",
   "metadata": {},
   "source": [
    "# 1. Подготовка данных"
   ]
  },
  {
   "cell_type": "markdown",
   "metadata": {},
   "source": [
    "Для начала необходимо импортировать все необходимые библиотеки, а так же оключить предупреждения"
   ]
  },
  {
   "cell_type": "code",
   "execution_count": 1,
   "metadata": {},
   "outputs": [],
   "source": [
    "import pandas as pd\n",
    "from sklearn.preprocessing import OrdinalEncoder, StandardScaler\n",
    "from sklearn.model_selection import train_test_split, GridSearchCV\n",
    "from sklearn.metrics import f1_score, confusion_matrix, roc_auc_score, roc_curve, recall_score, precision_score\n",
    "from sklearn.linear_model import LogisticRegression\n",
    "from sklearn.tree import DecisionTreeClassifier\n",
    "from sklearn.ensemble import RandomForestClassifier\n",
    "from sklearn.utils import shuffle\n",
    "import matplotlib.pyplot as plt\n",
    "import numpy as np\n",
    "import warnings\n",
    "warnings.filterwarnings(\"ignore\")"
   ]
  },
  {
   "cell_type": "code",
   "execution_count": 2,
   "metadata": {},
   "outputs": [],
   "source": [
    "df = pd.read_csv('/datasets/Churn.csv')"
   ]
  },
  {
   "cell_type": "code",
   "execution_count": 3,
   "metadata": {},
   "outputs": [
    {
     "name": "stdout",
     "output_type": "stream",
     "text": [
      "<class 'pandas.core.frame.DataFrame'>\n",
      "RangeIndex: 10000 entries, 0 to 9999\n",
      "Data columns (total 14 columns):\n",
      "RowNumber          10000 non-null int64\n",
      "CustomerId         10000 non-null int64\n",
      "Surname            10000 non-null object\n",
      "CreditScore        10000 non-null int64\n",
      "Geography          10000 non-null object\n",
      "Gender             10000 non-null object\n",
      "Age                10000 non-null int64\n",
      "Tenure             9091 non-null float64\n",
      "Balance            10000 non-null float64\n",
      "NumOfProducts      10000 non-null int64\n",
      "HasCrCard          10000 non-null int64\n",
      "IsActiveMember     10000 non-null int64\n",
      "EstimatedSalary    10000 non-null float64\n",
      "Exited             10000 non-null int64\n",
      "dtypes: float64(3), int64(8), object(3)\n",
      "memory usage: 1.1+ MB\n"
     ]
    }
   ],
   "source": [
    "df.info()"
   ]
  },
  {
   "cell_type": "markdown",
   "metadata": {},
   "source": [
    "Как можно увидеть в данных присутствуют следущие проблемы: \n",
    "- Названия признаков написаны с большой буквы, что для меня немного неудобно\n",
    "- Есть пропуски в столбце Tenure\n",
    "- Присуствуют категориалные признаки, от которых необходимо изавится для обучения модели\n",
    "- Необходимо проскейлить данные по столбцам Balance и EstimatedSalaryдля избежания выбросов\n",
    "\n",
    "После чего эти данные необходимо разбить на выборки"
   ]
  },
  {
   "cell_type": "markdown",
   "metadata": {},
   "source": []
  },
  {
   "cell_type": "code",
   "execution_count": 4,
   "metadata": {},
   "outputs": [
    {
     "data": {
      "text/html": [
       "<div>\n",
       "<style scoped>\n",
       "    .dataframe tbody tr th:only-of-type {\n",
       "        vertical-align: middle;\n",
       "    }\n",
       "\n",
       "    .dataframe tbody tr th {\n",
       "        vertical-align: top;\n",
       "    }\n",
       "\n",
       "    .dataframe thead th {\n",
       "        text-align: right;\n",
       "    }\n",
       "</style>\n",
       "<table border=\"1\" class=\"dataframe\">\n",
       "  <thead>\n",
       "    <tr style=\"text-align: right;\">\n",
       "      <th></th>\n",
       "      <th>RowNumber</th>\n",
       "      <th>CustomerId</th>\n",
       "      <th>Surname</th>\n",
       "      <th>CreditScore</th>\n",
       "      <th>Geography</th>\n",
       "      <th>Gender</th>\n",
       "      <th>Age</th>\n",
       "      <th>Tenure</th>\n",
       "      <th>Balance</th>\n",
       "      <th>NumOfProducts</th>\n",
       "      <th>HasCrCard</th>\n",
       "      <th>IsActiveMember</th>\n",
       "      <th>EstimatedSalary</th>\n",
       "      <th>Exited</th>\n",
       "    </tr>\n",
       "  </thead>\n",
       "  <tbody>\n",
       "    <tr>\n",
       "      <td>0</td>\n",
       "      <td>1</td>\n",
       "      <td>15634602</td>\n",
       "      <td>Hargrave</td>\n",
       "      <td>619</td>\n",
       "      <td>France</td>\n",
       "      <td>Female</td>\n",
       "      <td>42</td>\n",
       "      <td>2.0</td>\n",
       "      <td>0.00</td>\n",
       "      <td>1</td>\n",
       "      <td>1</td>\n",
       "      <td>1</td>\n",
       "      <td>101348.88</td>\n",
       "      <td>1</td>\n",
       "    </tr>\n",
       "    <tr>\n",
       "      <td>1</td>\n",
       "      <td>2</td>\n",
       "      <td>15647311</td>\n",
       "      <td>Hill</td>\n",
       "      <td>608</td>\n",
       "      <td>Spain</td>\n",
       "      <td>Female</td>\n",
       "      <td>41</td>\n",
       "      <td>1.0</td>\n",
       "      <td>83807.86</td>\n",
       "      <td>1</td>\n",
       "      <td>0</td>\n",
       "      <td>1</td>\n",
       "      <td>112542.58</td>\n",
       "      <td>0</td>\n",
       "    </tr>\n",
       "    <tr>\n",
       "      <td>2</td>\n",
       "      <td>3</td>\n",
       "      <td>15619304</td>\n",
       "      <td>Onio</td>\n",
       "      <td>502</td>\n",
       "      <td>France</td>\n",
       "      <td>Female</td>\n",
       "      <td>42</td>\n",
       "      <td>8.0</td>\n",
       "      <td>159660.80</td>\n",
       "      <td>3</td>\n",
       "      <td>1</td>\n",
       "      <td>0</td>\n",
       "      <td>113931.57</td>\n",
       "      <td>1</td>\n",
       "    </tr>\n",
       "    <tr>\n",
       "      <td>3</td>\n",
       "      <td>4</td>\n",
       "      <td>15701354</td>\n",
       "      <td>Boni</td>\n",
       "      <td>699</td>\n",
       "      <td>France</td>\n",
       "      <td>Female</td>\n",
       "      <td>39</td>\n",
       "      <td>1.0</td>\n",
       "      <td>0.00</td>\n",
       "      <td>2</td>\n",
       "      <td>0</td>\n",
       "      <td>0</td>\n",
       "      <td>93826.63</td>\n",
       "      <td>0</td>\n",
       "    </tr>\n",
       "    <tr>\n",
       "      <td>4</td>\n",
       "      <td>5</td>\n",
       "      <td>15737888</td>\n",
       "      <td>Mitchell</td>\n",
       "      <td>850</td>\n",
       "      <td>Spain</td>\n",
       "      <td>Female</td>\n",
       "      <td>43</td>\n",
       "      <td>2.0</td>\n",
       "      <td>125510.82</td>\n",
       "      <td>1</td>\n",
       "      <td>1</td>\n",
       "      <td>1</td>\n",
       "      <td>79084.10</td>\n",
       "      <td>0</td>\n",
       "    </tr>\n",
       "  </tbody>\n",
       "</table>\n",
       "</div>"
      ],
      "text/plain": [
       "   RowNumber  CustomerId   Surname  CreditScore Geography  Gender  Age  \\\n",
       "0          1    15634602  Hargrave          619    France  Female   42   \n",
       "1          2    15647311      Hill          608     Spain  Female   41   \n",
       "2          3    15619304      Onio          502    France  Female   42   \n",
       "3          4    15701354      Boni          699    France  Female   39   \n",
       "4          5    15737888  Mitchell          850     Spain  Female   43   \n",
       "\n",
       "   Tenure    Balance  NumOfProducts  HasCrCard  IsActiveMember  \\\n",
       "0     2.0       0.00              1          1               1   \n",
       "1     1.0   83807.86              1          0               1   \n",
       "2     8.0  159660.80              3          1               0   \n",
       "3     1.0       0.00              2          0               0   \n",
       "4     2.0  125510.82              1          1               1   \n",
       "\n",
       "   EstimatedSalary  Exited  \n",
       "0        101348.88       1  \n",
       "1        112542.58       0  \n",
       "2        113931.57       1  \n",
       "3         93826.63       0  \n",
       "4         79084.10       0  "
      ]
     },
     "execution_count": 4,
     "metadata": {},
     "output_type": "execute_result"
    }
   ],
   "source": [
    "df.head()"
   ]
  },
  {
   "cell_type": "markdown",
   "metadata": {},
   "source": [
    "Для начала привожу названия признаков к нижнем регистру"
   ]
  },
  {
   "cell_type": "code",
   "execution_count": 5,
   "metadata": {},
   "outputs": [],
   "source": [
    "df.columns = map(str.lower, df.columns)"
   ]
  },
  {
   "cell_type": "markdown",
   "metadata": {},
   "source": [
    "После чего заполняю пропуски медианой, так как данный метод заполнения не принесет отклонений, которые я могу вызвать, заполнив пропуски синтетическими значениями"
   ]
  },
  {
   "cell_type": "code",
   "execution_count": 6,
   "metadata": {},
   "outputs": [],
   "source": [
    "del df['rownumber']\n",
    "del df['customerid']\n",
    "del df['surname']"
   ]
  },
  {
   "cell_type": "code",
   "execution_count": 7,
   "metadata": {},
   "outputs": [],
   "source": [
    "df.fillna(value=df['tenure'].median(), inplace=True)"
   ]
  },
  {
   "cell_type": "markdown",
   "metadata": {},
   "source": [
    "После того кодирую категориальные признаки методом Ordinal Encoding (просто этот метод мне более симпатичен)"
   ]
  },
  {
   "cell_type": "code",
   "execution_count": 8,
   "metadata": {},
   "outputs": [],
   "source": [
    "encoder = OrdinalEncoder()\n",
    "df_encoded = pd.DataFrame(encoder.fit_transform(df), columns=df.columns)"
   ]
  },
  {
   "cell_type": "markdown",
   "metadata": {},
   "source": [
    "После кодирования необходимо промасштабировать значения баланса счета и зарплаты клиента (почему именно эти можно увидеть в ячейке ниже)"
   ]
  },
  {
   "cell_type": "code",
   "execution_count": 9,
   "metadata": {},
   "outputs": [
    {
     "name": "stdout",
     "output_type": "stream",
     "text": [
      "max creditscore: 850 | min creditscore: 350\n",
      "max age: 92 | min age: 18\n",
      "max balance: 250898.09 | min balance: 0.0\n",
      "max numofproducts: 4 | min numofproducts: 1\n",
      "max estimatedsalary: 199992.48 | min estimatedsalary: 11.58\n"
     ]
    }
   ],
   "source": [
    "print('max creditscore:', df['creditscore'].max(), '| min creditscore:',df['creditscore'].min())\n",
    "print('max age:', df['age'].max(), '| min age:',df['age'].min())\n",
    "print('max balance:', df['balance'].max(), '| min balance:',df['balance'].min())\n",
    "print('max numofproducts:', df['numofproducts'].max(), '| min numofproducts:',df['numofproducts'].min())\n",
    "print('max estimatedsalary:', df['estimatedsalary'].max(), '| min estimatedsalary:',df['estimatedsalary'].min())"
   ]
  },
  {
   "cell_type": "code",
   "execution_count": 10,
   "metadata": {},
   "outputs": [],
   "source": [
    "numeric = ['balance', 'estimatedsalary']\n",
    "scaler = StandardScaler()\n",
    "scaler.fit(df_encoded[numeric])\n",
    "df_encoded[numeric] = scaler.transform(df_encoded[numeric])"
   ]
  },
  {
   "cell_type": "markdown",
   "metadata": {},
   "source": [
    "Проверяю чтоб все было хорошо:)"
   ]
  },
  {
   "cell_type": "code",
   "execution_count": 11,
   "metadata": {
    "scrolled": true
   },
   "outputs": [
    {
     "data": {
      "text/html": [
       "<div>\n",
       "<style scoped>\n",
       "    .dataframe tbody tr th:only-of-type {\n",
       "        vertical-align: middle;\n",
       "    }\n",
       "\n",
       "    .dataframe tbody tr th {\n",
       "        vertical-align: top;\n",
       "    }\n",
       "\n",
       "    .dataframe thead th {\n",
       "        text-align: right;\n",
       "    }\n",
       "</style>\n",
       "<table border=\"1\" class=\"dataframe\">\n",
       "  <thead>\n",
       "    <tr style=\"text-align: right;\">\n",
       "      <th></th>\n",
       "      <th>creditscore</th>\n",
       "      <th>geography</th>\n",
       "      <th>gender</th>\n",
       "      <th>age</th>\n",
       "      <th>tenure</th>\n",
       "      <th>balance</th>\n",
       "      <th>numofproducts</th>\n",
       "      <th>hascrcard</th>\n",
       "      <th>isactivemember</th>\n",
       "      <th>estimatedsalary</th>\n",
       "      <th>exited</th>\n",
       "    </tr>\n",
       "  </thead>\n",
       "  <tbody>\n",
       "    <tr>\n",
       "      <td>0</td>\n",
       "      <td>228.0</td>\n",
       "      <td>0.0</td>\n",
       "      <td>0.0</td>\n",
       "      <td>24.0</td>\n",
       "      <td>2.0</td>\n",
       "      <td>-0.958432</td>\n",
       "      <td>0.0</td>\n",
       "      <td>1.0</td>\n",
       "      <td>1.0</td>\n",
       "      <td>0.024035</td>\n",
       "      <td>1.0</td>\n",
       "    </tr>\n",
       "    <tr>\n",
       "      <td>1</td>\n",
       "      <td>217.0</td>\n",
       "      <td>2.0</td>\n",
       "      <td>0.0</td>\n",
       "      <td>23.0</td>\n",
       "      <td>1.0</td>\n",
       "      <td>-0.608805</td>\n",
       "      <td>0.0</td>\n",
       "      <td>0.0</td>\n",
       "      <td>1.0</td>\n",
       "      <td>0.221848</td>\n",
       "      <td>0.0</td>\n",
       "    </tr>\n",
       "    <tr>\n",
       "      <td>2</td>\n",
       "      <td>111.0</td>\n",
       "      <td>0.0</td>\n",
       "      <td>0.0</td>\n",
       "      <td>24.0</td>\n",
       "      <td>8.0</td>\n",
       "      <td>1.767524</td>\n",
       "      <td>2.0</td>\n",
       "      <td>1.0</td>\n",
       "      <td>0.0</td>\n",
       "      <td>0.245405</td>\n",
       "      <td>1.0</td>\n",
       "    </tr>\n",
       "    <tr>\n",
       "      <td>3</td>\n",
       "      <td>308.0</td>\n",
       "      <td>0.0</td>\n",
       "      <td>0.0</td>\n",
       "      <td>21.0</td>\n",
       "      <td>1.0</td>\n",
       "      <td>-0.958432</td>\n",
       "      <td>1.0</td>\n",
       "      <td>0.0</td>\n",
       "      <td>0.0</td>\n",
       "      <td>-0.102066</td>\n",
       "      <td>0.0</td>\n",
       "    </tr>\n",
       "    <tr>\n",
       "      <td>4</td>\n",
       "      <td>459.0</td>\n",
       "      <td>2.0</td>\n",
       "      <td>0.0</td>\n",
       "      <td>25.0</td>\n",
       "      <td>2.0</td>\n",
       "      <td>0.780759</td>\n",
       "      <td>0.0</td>\n",
       "      <td>1.0</td>\n",
       "      <td>1.0</td>\n",
       "      <td>-0.371937</td>\n",
       "      <td>0.0</td>\n",
       "    </tr>\n",
       "  </tbody>\n",
       "</table>\n",
       "</div>"
      ],
      "text/plain": [
       "   creditscore  geography  gender   age  tenure   balance  numofproducts  \\\n",
       "0        228.0        0.0     0.0  24.0     2.0 -0.958432            0.0   \n",
       "1        217.0        2.0     0.0  23.0     1.0 -0.608805            0.0   \n",
       "2        111.0        0.0     0.0  24.0     8.0  1.767524            2.0   \n",
       "3        308.0        0.0     0.0  21.0     1.0 -0.958432            1.0   \n",
       "4        459.0        2.0     0.0  25.0     2.0  0.780759            0.0   \n",
       "\n",
       "   hascrcard  isactivemember  estimatedsalary  exited  \n",
       "0        1.0             1.0         0.024035     1.0  \n",
       "1        0.0             1.0         0.221848     0.0  \n",
       "2        1.0             0.0         0.245405     1.0  \n",
       "3        0.0             0.0        -0.102066     0.0  \n",
       "4        1.0             1.0        -0.371937     0.0  "
      ]
     },
     "execution_count": 11,
     "metadata": {},
     "output_type": "execute_result"
    }
   ],
   "source": [
    "df_encoded.head()"
   ]
  },
  {
   "cell_type": "markdown",
   "metadata": {},
   "source": [
    "Разбиваю данные на обучающую, валидационную и тестовую выборки с соотношением 80-10-10 с сохранением баланнсов классов"
   ]
  },
  {
   "cell_type": "code",
   "execution_count": 12,
   "metadata": {},
   "outputs": [],
   "source": [
    "X = df_encoded.drop('exited', axis=1)\n",
    "y = df_encoded['exited'] "
   ]
  },
  {
   "cell_type": "code",
   "execution_count": 13,
   "metadata": {},
   "outputs": [],
   "source": [
    "X_train, X_val_test, y_train, y_val_test = train_test_split(X, y, test_size=0.2, random_state=12345, stratify=y)\n",
    "X_val, X_test, y_val, y_test = train_test_split(X_val_test, y_val_test, test_size=0.5, random_state=12345, stratify=y_val_test)"
   ]
  },
  {
   "cell_type": "markdown",
   "metadata": {},
   "source": [
    "#### Выводы\n",
    "На этапе подготовки данных были проделаны следющие действия:\n",
    "- Приведение наименований признаков к нижнему регистру для удобства обращения\n",
    "- Заполнение пропусков медианой\n",
    "- Произведено кодирование категориальных принаков для возможности обучения модели методом Ordinal Encoding\n",
    "- Произвдено масштабирование признаков, в которых был разброс значений\n",
    "- Данные разбиты на обучающую, валидационную и тестовую выборки"
   ]
  },
  {
   "cell_type": "markdown",
   "metadata": {},
   "source": [
    "# 2. Исследование задачи"
   ]
  },
  {
   "cell_type": "markdown",
   "metadata": {},
   "source": [
    "Для начала необходимо посмотреть, какое значение F1 можно получить на валидации у моделей со стандартными гиперпараметрами. Так же вывожу confusion_matrix из собственного любопытства"
   ]
  },
  {
   "cell_type": "code",
   "execution_count": 14,
   "metadata": {},
   "outputs": [],
   "source": [
    "model = DecisionTreeClassifier(random_state=12345)\n",
    "model.fit(X_train, y_train)\n",
    "predictions_valid = model.predict(X_val)"
   ]
  },
  {
   "cell_type": "code",
   "execution_count": 15,
   "metadata": {},
   "outputs": [
    {
     "data": {
      "text/plain": [
       "<matplotlib.axes._subplots.AxesSubplot at 0x7fade17bf9d0>"
      ]
     },
     "execution_count": 15,
     "metadata": {},
     "output_type": "execute_result"
    },
    {
     "data": {
      "image/png": "[encoded data removed]",
      "text/plain": [
       "<Figure size 432x288 with 1 Axes>"
      ]
     },
     "metadata": {
      "needs_background": "light"
     },
     "output_type": "display_data"
    }
   ],
   "source": [
    "feat_importances = pd.Series(model.feature_importances_, index=X_train.columns)\n",
    "feat_importances.nlargest(13).plot(kind='barh')"
   ]
  },
  {
   "cell_type": "code",
   "execution_count": 16,
   "metadata": {},
   "outputs": [
    {
     "name": "stdout",
     "output_type": "stream",
     "text": [
      "[[691 105]\n",
      " [100 104]]\n"
     ]
    }
   ],
   "source": [
    "print(confusion_matrix(y_val, predictions_valid))"
   ]
  },
  {
   "cell_type": "code",
   "execution_count": 17,
   "metadata": {},
   "outputs": [
    {
     "name": "stdout",
     "output_type": "stream",
     "text": [
      "0.5036319612590799\n"
     ]
    }
   ],
   "source": [
    "print(f1_score(y_val, predictions_valid))"
   ]
  },
  {
   "cell_type": "markdown",
   "metadata": {},
   "source": [
    "Дерево решений без настройки показало неплохой резуьтат. Этому методу, на мой взгляд, \"мешают\" признаки hascard, gender, geography. Их будет необходимо откинуть на тестовом обучении. Теперь сделаю все тоже самое для рандомного леса"
   ]
  },
  {
   "cell_type": "code",
   "execution_count": 18,
   "metadata": {},
   "outputs": [],
   "source": [
    "model = RandomForestClassifier(random_state=12345)\n",
    "model.fit(X_train, y_train)\n",
    "predictions_valid = model.predict(X_val)"
   ]
  },
  {
   "cell_type": "code",
   "execution_count": 19,
   "metadata": {},
   "outputs": [
    {
     "data": {
      "text/plain": [
       "<matplotlib.axes._subplots.AxesSubplot at 0x7fade16c1c10>"
      ]
     },
     "execution_count": 19,
     "metadata": {},
     "output_type": "execute_result"
    },
    {
     "data": {
      "image/png": "[encoded data removed]",
      "text/plain": [
       "<Figure size 432x288 with 1 Axes>"
      ]
     },
     "metadata": {
      "needs_background": "light"
     },
     "output_type": "display_data"
    }
   ],
   "source": [
    "feat_importances = pd.Series(model.feature_importances_, index=X_train.columns)\n",
    "feat_importances.nlargest(13).plot(kind='barh')"
   ]
  },
  {
   "cell_type": "code",
   "execution_count": 20,
   "metadata": {},
   "outputs": [
    {
     "name": "stdout",
     "output_type": "stream",
     "text": [
      "[[762  34]\n",
      " [119  85]]\n"
     ]
    }
   ],
   "source": [
    "print(confusion_matrix(y_val, predictions_valid))"
   ]
  },
  {
   "cell_type": "code",
   "execution_count": 21,
   "metadata": {},
   "outputs": [
    {
     "name": "stdout",
     "output_type": "stream",
     "text": [
      "0.5263157894736842\n"
     ]
    }
   ],
   "source": [
    "print(f1_score(y_val, predictions_valid))"
   ]
  },
  {
   "cell_type": "markdown",
   "metadata": {},
   "source": [
    "Случайный лес показал значение лучше, этому методу, на мой взгляд, \"мешают\" признаки hascard, gender, geography, isactivemember, tenure. теперь время логистической регрессии"
   ]
  },
  {
   "cell_type": "code",
   "execution_count": 22,
   "metadata": {},
   "outputs": [],
   "source": [
    "model = LogisticRegression(random_state=12345)\n",
    "model.fit(X_train, y_train)\n",
    "predictions_valid = model.predict(X_val)"
   ]
  },
  {
   "cell_type": "code",
   "execution_count": 23,
   "metadata": {},
   "outputs": [
    {
     "data": {
      "text/plain": [
       "array([[-8.27934340e-04,  5.60669131e-02, -5.39418559e-01,\n",
       "         7.14259272e-02, -1.50888595e-02,  2.06056363e-01,\n",
       "        -1.26933843e-01, -6.02575918e-03, -1.10755513e+00,\n",
       "         2.07102195e-02]])"
      ]
     },
     "execution_count": 23,
     "metadata": {},
     "output_type": "execute_result"
    }
   ],
   "source": [
    "names_of_variables =np.array(X_train.columns)\n",
    "weights = model.coef_\n",
    "weights"
   ]
  },
  {
   "cell_type": "code",
   "execution_count": 24,
   "metadata": {},
   "outputs": [
    {
     "name": "stdout",
     "output_type": "stream",
     "text": [
      "[[776  20]\n",
      " [172  32]]\n"
     ]
    }
   ],
   "source": [
    "print(confusion_matrix(y_val, predictions_valid))"
   ]
  },
  {
   "cell_type": "code",
   "execution_count": 25,
   "metadata": {},
   "outputs": [
    {
     "name": "stdout",
     "output_type": "stream",
     "text": [
      "0.25\n"
     ]
    }
   ],
   "source": [
    "print(f1_score(y_val, predictions_valid))"
   ]
  },
  {
   "cell_type": "markdown",
   "metadata": {},
   "source": [
    "Уже во второй раз логистическая регрессия расстраивает меня:( Далее необходимо посмотреть на балнс классов. возможно поможет оставить только age, estimatedsalary и balance. этот метод нашел в интернете, не уверен что я правильно его интерпретирую, но попробовать стоит"
   ]
  },
  {
   "cell_type": "code",
   "execution_count": 26,
   "metadata": {
    "scrolled": true
   },
   "outputs": [
    {
     "data": {
      "text/plain": [
       "0.0    0.79625\n",
       "1.0    0.20375\n",
       "Name: exited, dtype: float64"
      ]
     },
     "execution_count": 26,
     "metadata": {},
     "output_type": "execute_result"
    }
   ],
   "source": [
    "y_train.value_counts(normalize=True)"
   ]
  },
  {
   "cell_type": "markdown",
   "metadata": {},
   "source": [
    "Соотношение классов 80-20, что не очень хорошо. \n",
    "\n",
    "#### Выводы\n",
    "\n",
    "- Были оценены значения F1 меры на трех моделях - дерево решений, случайный лес и логистическая регрессия\n",
    "- Лучше всего себя показал случайный лес, хуже всего - логистическая регрессия\n",
    "- Баланс классов составляет соотношение 80% данных - это данные о клиентах, которые не покидают банк, 20% - данные \"перебежчиков\"\n",
    "- Были найдены мешающие признаки для каждой модели"
   ]
  },
  {
   "cell_type": "markdown",
   "metadata": {},
   "source": [
    "# 3. Борьба с дисбалансом"
   ]
  },
  {
   "cell_type": "markdown",
   "metadata": {},
   "source": [
    "Самое простое, что я запомнил из тренажера - это увеличение объема выборки. Поэтому для начала было решено ипользовать именно его. Ниже описана функция, которая увеличивает объем выборки и перемешивает данные."
   ]
  },
  {
   "cell_type": "code",
   "execution_count": 27,
   "metadata": {},
   "outputs": [],
   "source": [
    "def upsample(features, target, repeat):\n",
    "    features_zeros = features[target == 0]\n",
    "    features_ones = features[target == 1]\n",
    "    target_zeros = target[target == 0]\n",
    "    target_ones = target[target == 1]\n",
    "\n",
    "    features_upsampled = pd.concat([features_zeros] + [features_ones] * repeat)\n",
    "    target_upsampled = pd.concat([target_zeros] + [target_ones] * repeat)\n",
    "    \n",
    "    features_upsampled, target_upsampled = shuffle(\n",
    "        features_upsampled, target_upsampled, random_state=12345)\n",
    "    \n",
    "    return features_upsampled, target_upsampled"
   ]
  },
  {
   "cell_type": "markdown",
   "metadata": {},
   "source": [
    "Увеличваю обучающую выборку в 10 раз"
   ]
  },
  {
   "cell_type": "code",
   "execution_count": 28,
   "metadata": {},
   "outputs": [],
   "source": [
    "X_train_upsampled, y_train_upsampled = upsample(X_train, y_train, 10)"
   ]
  },
  {
   "cell_type": "markdown",
   "metadata": {},
   "source": [
    "Проверяю корректность работы выборки"
   ]
  },
  {
   "cell_type": "code",
   "execution_count": 29,
   "metadata": {},
   "outputs": [
    {
     "data": {
      "text/plain": [
       "(22670, 10)"
      ]
     },
     "execution_count": 29,
     "metadata": {},
     "output_type": "execute_result"
    }
   ],
   "source": [
    "X_train_upsampled.shape"
   ]
  },
  {
   "cell_type": "markdown",
   "metadata": {},
   "source": [
    "Проделываю те же действия, как и в предидущем пункте для оценки значений"
   ]
  },
  {
   "cell_type": "code",
   "execution_count": 30,
   "metadata": {},
   "outputs": [],
   "source": [
    "model = DecisionTreeClassifier(random_state=12345)\n",
    "model.fit(X_train_upsampled, y_train_upsampled)\n",
    "predictions_valid = model.predict(X_val)"
   ]
  },
  {
   "cell_type": "code",
   "execution_count": 31,
   "metadata": {},
   "outputs": [
    {
     "name": "stdout",
     "output_type": "stream",
     "text": [
      "[[704  92]\n",
      " [ 95 109]]\n"
     ]
    }
   ],
   "source": [
    "print(confusion_matrix(y_val, predictions_valid))"
   ]
  },
  {
   "cell_type": "code",
   "execution_count": 32,
   "metadata": {},
   "outputs": [
    {
     "name": "stdout",
     "output_type": "stream",
     "text": [
      "0.5382716049382716\n"
     ]
    }
   ],
   "source": [
    "print(f1_score(y_val, predictions_valid))"
   ]
  },
  {
   "cell_type": "code",
   "execution_count": 33,
   "metadata": {},
   "outputs": [],
   "source": [
    "model = RandomForestClassifier(random_state=12345)\n",
    "model.fit(X_train_upsampled, y_train_upsampled)\n",
    "predictions_valid = model.predict(X_val)"
   ]
  },
  {
   "cell_type": "code",
   "execution_count": 34,
   "metadata": {},
   "outputs": [
    {
     "name": "stdout",
     "output_type": "stream",
     "text": [
      "[[744  52]\n",
      " [104 100]]\n"
     ]
    }
   ],
   "source": [
    "print(confusion_matrix(y_val, predictions_valid))"
   ]
  },
  {
   "cell_type": "code",
   "execution_count": 35,
   "metadata": {},
   "outputs": [
    {
     "name": "stdout",
     "output_type": "stream",
     "text": [
      "0.5617977528089888\n"
     ]
    }
   ],
   "source": [
    "print(f1_score(y_val, predictions_valid))"
   ]
  },
  {
   "cell_type": "code",
   "execution_count": 36,
   "metadata": {},
   "outputs": [],
   "source": [
    "model = LogisticRegression(random_state=12345)\n",
    "model.fit(X_train_upsampled, y_train_upsampled)\n",
    "predictions_valid = model.predict(X_val)"
   ]
  },
  {
   "cell_type": "code",
   "execution_count": 37,
   "metadata": {},
   "outputs": [
    {
     "name": "stdout",
     "output_type": "stream",
     "text": [
      "[[253 543]\n",
      " [ 14 190]]\n"
     ]
    }
   ],
   "source": [
    "print(confusion_matrix(y_val, predictions_valid))"
   ]
  },
  {
   "cell_type": "code",
   "execution_count": 38,
   "metadata": {},
   "outputs": [
    {
     "name": "stdout",
     "output_type": "stream",
     "text": [
      "0.4055496264674493\n"
     ]
    }
   ],
   "source": [
    "print(f1_score(y_val, predictions_valid))"
   ]
  },
  {
   "cell_type": "markdown",
   "metadata": {},
   "source": [
    "Как можно увидеть, во всех трех случаях значения F1-меры выросло, особенно на логистической регрессии. Необходимо произвести тюнинг моделей для поиска оптимальных значений и переходить к тестированию."
   ]
  },
  {
   "cell_type": "code",
   "execution_count": null,
   "metadata": {},
   "outputs": [],
   "source": [
    "%%time\n",
    "param_grid={'max_depth': [deep for deep in range (2, 20)]}\n",
    "gs_dt = GridSearchCV(DecisionTreeClassifier(random_state=12345), param_grid=param_grid)\n",
    "gs_dt.fit(X_train, y_train)\n",
    "gs_dt.best_params_"
   ]
  },
  {
   "cell_type": "code",
   "execution_count": null,
   "metadata": {},
   "outputs": [],
   "source": [
    "%%time\n",
    "param_grid={'max_depth': [deep for deep in range (2, 10)],\n",
    "           'n_estimators': [n_est for n_est in range (10, 100, 10)]}\n",
    "gs_rf = GridSearchCV(RandomForestClassifier(random_state=12345), param_grid=param_grid)\n",
    "gs_rf.fit(X_train_upsampled, y_train_upsampled)\n",
    "gs_rf.best_params_"
   ]
  },
  {
   "cell_type": "code",
   "execution_count": null,
   "metadata": {},
   "outputs": [],
   "source": [
    "%%time\n",
    "param_grid={'penalty': ['l1', 'l2'],\n",
    "           'C': [0.1, 0.2, 0.3, 0.4, 0.5, 0.6, 0.7, 0.8, 0.9, 1.0]}\n",
    "gs_lr = GridSearchCV(LogisticRegression(random_state=12345), param_grid=param_grid)\n",
    "gs_lr.fit(X_train, y_train)\n",
    "gs_lr.best_params_"
   ]
  },
  {
   "cell_type": "markdown",
   "metadata": {},
   "source": [
    "#### Выводы\n",
    "- Было произведено увеличение обучающей выборки\n",
    "- F1-мера увеличилась на всех трех моделях\n",
    "- Выбранные гиперпараметры для моделей:\n",
    "    - Дерево решений: глубина = 5\n",
    "    - Случайный лес: глубина = 9, количество деревьев = 50\n",
    "    - Логистическая регрессия: l2, С = 0.8"
   ]
  },
  {
   "cell_type": "markdown",
   "metadata": {},
   "source": [
    "# 4. Тестирование модели"
   ]
  },
  {
   "cell_type": "markdown",
   "metadata": {},
   "source": [
    "На этом этапе производится оценка моделей на тестовых данных, а также оценка значений площади AUC-ROC кривой и F1-меры. Так же для каждой модели передается значение class_weight='balanced', что позволяет  алгоритму посчитать, во сколько раз\n",
    "класс «0» встречается чаще класса «1»."
   ]
  },
  {
   "cell_type": "code",
   "execution_count": 40,
   "metadata": {},
   "outputs": [],
   "source": [
    "X_train_fs_tree = X_train[['creditscore', 'age', 'tenure', 'balance', 'numofproducts', 'isactivemember', 'estimatedsalary']]\n",
    "X_test_fs_tree = X_test[['creditscore', 'age', 'tenure', 'balance', 'numofproducts', 'isactivemember', 'estimatedsalary']]\n",
    "\n",
    "X_train_fs_rf = X_train[['creditscore', 'age', 'balance', 'numofproducts', 'estimatedsalary']]\n",
    "X_test_fs_rf = X_test[['creditscore', 'age', 'balance', 'numofproducts', 'estimatedsalary']]\n",
    "\n",
    "X_train_fs_lr = X_train[['age','estimatedsalary', 'balance']]\n",
    "X_test_fs_lr = X_test[['age','estimatedsalary', 'balance']]"
   ]
  },
  {
   "cell_type": "code",
   "execution_count": 41,
   "metadata": {},
   "outputs": [
    {
     "name": "stdout",
     "output_type": "stream",
     "text": [
      "Точность классификации на тестовой выборке:0.757\n",
      "Точность:0.729064039408867\n",
      "Полнота:0.44047619047619047\n",
      "Площадь AUC-ROC кривой:0.827991050182025\n",
      "F1-мера:0.549165120593692\n"
     ]
    }
   ],
   "source": [
    "model = DecisionTreeClassifier(class_weight='balanced',random_state=12345, max_depth=5)\n",
    "model.fit(X_train, y_train)\n",
    "predictions_test = model.predict(X_test)\n",
    "score = model.score(X_test, y_test)\n",
    "print('Точность классификации на тестовой выборке:{}'.format(score))\n",
    "probabilities_test = model.predict_proba(X_test)\n",
    "probabilities_one_test = probabilities_test[:, 1]\n",
    "auc_roc = roc_auc_score(y_test, probabilities_one_test)\n",
    "print('Точность:{}'.format(recall_score(y_test, predictions_test)))\n",
    "print('Полнота:{}'.format(precision_score(y_test, predictions_test)))\n",
    "print('Площадь AUC-ROC кривой:{}'.format(auc_roc))\n",
    "print('F1-мера:{}'.format(f1_score(y_test, predictions_test)))"
   ]
  },
  {
   "cell_type": "code",
   "execution_count": 42,
   "metadata": {},
   "outputs": [
    {
     "data": {
      "image/png": "[encoded data removed]",
      "text/plain": [
       "<Figure size 432x288 with 1 Axes>"
      ]
     },
     "metadata": {
      "needs_background": "light"
     },
     "output_type": "display_data"
    }
   ],
   "source": [
    "fpr, tpr, thresholds = roc_curve(y_test, probabilities_one_test)\n",
    "plt.figure()\n",
    "plt.plot(fpr, tpr)\n",
    "plt.xlim([0.0, 1.0])\n",
    "plt.ylim([0.0, 1.0])\n",
    "plt.xlabel('False Positive Rate')\n",
    "plt.ylabel('True Positive Rate')\n",
    "plt.title('ROC-кривая')\n",
    "plt.show()"
   ]
  },
  {
   "cell_type": "code",
   "execution_count": 43,
   "metadata": {},
   "outputs": [
    {
     "name": "stdout",
     "output_type": "stream",
     "text": [
      "Точность классификации на тестовой выборке:0.782\n",
      "Точность:0.7142857142857143\n",
      "Полнота:0.47540983606557374\n",
      "Площадь AUC-ROC кривой:0.8292148512587226\n",
      "F1-мера:0.5708661417322834\n"
     ]
    }
   ],
   "source": [
    "model = DecisionTreeClassifier(class_weight='balanced',random_state=12345, max_depth=5)\n",
    "model.fit(X_train_fs_tree, y_train)\n",
    "predictions_test = model.predict(X_test_fs_tree)\n",
    "score = model.score(X_test_fs_tree, y_test)\n",
    "print('Точность классификации на тестовой выборке:{}'.format(score))\n",
    "probabilities_test = model.predict_proba(X_test_fs_tree)\n",
    "probabilities_one_test = probabilities_test[:, 1]\n",
    "auc_roc = roc_auc_score(y_test, probabilities_one_test)\n",
    "print('Точность:{}'.format(recall_score(y_test, predictions_test)))\n",
    "print('Полнота:{}'.format(precision_score(y_test, predictions_test)))\n",
    "print('Площадь AUC-ROC кривой:{}'.format(auc_roc))\n",
    "print('F1-мера:{}'.format(f1_score(y_test, predictions_test)))"
   ]
  },
  {
   "cell_type": "code",
   "execution_count": 44,
   "metadata": {},
   "outputs": [
    {
     "data": {
      "image/png": "[encoded data removed]",
      "text/plain": [
       "<Figure size 432x288 with 1 Axes>"
      ]
     },
     "metadata": {
      "needs_background": "light"
     },
     "output_type": "display_data"
    }
   ],
   "source": [
    "fpr, tpr, thresholds = roc_curve(y_test, probabilities_one_test)\n",
    "plt.figure()\n",
    "plt.plot(fpr, tpr)\n",
    "plt.xlim([0.0, 1.0])\n",
    "plt.ylim([0.0, 1.0])\n",
    "plt.xlabel('False Positive Rate')\n",
    "plt.ylabel('True Positive Rate')\n",
    "plt.title('ROC-кривая')\n",
    "plt.show()"
   ]
  },
  {
   "cell_type": "markdown",
   "metadata": {},
   "source": [
    "Для модели решающего дерева без удаления неинформативных признаков эти значения следущие:\n",
    "- Точность классификации на тестовой выборке:0.757\n",
    "- Точность:0.729064039408867\n",
    "- Полнота:0.44047619047619047\n",
    "- Площадь AUC-ROC кривой:0.827991050182025\n",
    "- F1-мера:0.549165120593692\n",
    "\n",
    "Для модели решающего дерева с удалением неинформативных признаков эти значения следущие:\n",
    "- Точность классификации на тестовой выборке:0.782\n",
    "- Точность:0.7142857142857143\n",
    "- Полнота:0.47540983606557374\n",
    "- Площадь AUC-ROC кривой:0.8292148512587226\n",
    "- F1-мера:0.5708661417322834\n",
    "\n",
    "Значения точности классификации, полноты, F1-меры и площадь под кривой выросли после удаления неинформаивных признаков, но точность уменьшилась"
   ]
  },
  {
   "cell_type": "code",
   "execution_count": 45,
   "metadata": {},
   "outputs": [
    {
     "name": "stdout",
     "output_type": "stream",
     "text": [
      "Точность классификации на тестовой выборке:0.823\n",
      "Площадь AUC-ROC кривой:0.8582492227627\n",
      "Точность:0.6945812807881774\n",
      "Полнота:0.55078125\n",
      "F1-мера:0.6143790849673202\n"
     ]
    }
   ],
   "source": [
    "model = RandomForestClassifier(class_weight='balanced',random_state=12345, n_estimators=50, max_depth=9)\n",
    "model.fit(X_train, y_train)\n",
    "predictions_test = model.predict(X_test)\n",
    "score = model.score(X_test, y_test)\n",
    "print('Точность классификации на тестовой выборке:{}'.format(score))\n",
    "probabilities_test = model.predict_proba(X_test)\n",
    "probabilities_one_test = probabilities_test[:, 1]\n",
    "auc_roc = roc_auc_score(y_test, probabilities_one_test)\n",
    "print('Площадь AUC-ROC кривой:{}'.format(auc_roc))\n",
    "print('Точность:{}'.format(recall_score(y_test, predictions_test)))\n",
    "print('Полнота:{}'.format(precision_score(y_test, predictions_test)))\n",
    "print('F1-мера:{}'.format(f1_score(y_test, predictions_test)))"
   ]
  },
  {
   "cell_type": "code",
   "execution_count": 46,
   "metadata": {},
   "outputs": [
    {
     "data": {
      "image/png": "[encoded data removed]",
      "text/plain": [
       "<Figure size 432x288 with 1 Axes>"
      ]
     },
     "metadata": {
      "needs_background": "light"
     },
     "output_type": "display_data"
    }
   ],
   "source": [
    "fpr, tpr, thresholds = roc_curve(y_test, probabilities_one_test)\n",
    "plt.figure()\n",
    "plt.plot(fpr, tpr)\n",
    "plt.xlim([0.0, 1.0])\n",
    "plt.ylim([0.0, 1.0])\n",
    "plt.xlabel('False Positive Rate')\n",
    "plt.ylabel('True Positive Rate')\n",
    "plt.title('ROC-кривая')\n",
    "plt.show()"
   ]
  },
  {
   "cell_type": "code",
   "execution_count": 47,
   "metadata": {},
   "outputs": [
    {
     "name": "stdout",
     "output_type": "stream",
     "text": [
      "Точность классификации на тестовой выборке:0.797\n",
      "Площадь AUC-ROC кривой:0.8478963601189189\n",
      "Точность:0.7093596059113301\n",
      "Полнота:0.5\n",
      "F1-мера:0.5865580448065173\n"
     ]
    }
   ],
   "source": [
    "model = RandomForestClassifier(class_weight='balanced',random_state=12345, n_estimators=50, max_depth=9)\n",
    "model.fit(X_train_fs_rf, y_train)\n",
    "predictions_test = model.predict(X_test_fs_rf)\n",
    "score = model.score(X_test_fs_rf, y_test)\n",
    "print('Точность классификации на тестовой выборке:{}'.format(score))\n",
    "probabilities_test = model.predict_proba(X_test_fs_rf)\n",
    "probabilities_one_test = probabilities_test[:, 1]\n",
    "auc_roc = roc_auc_score(y_test, probabilities_one_test)\n",
    "print('Площадь AUC-ROC кривой:{}'.format(auc_roc))\n",
    "print('Точность:{}'.format(recall_score(y_test, predictions_test)))\n",
    "print('Полнота:{}'.format(precision_score(y_test, predictions_test)))\n",
    "print('F1-мера:{}'.format(f1_score(y_test, predictions_test)))"
   ]
  },
  {
   "cell_type": "code",
   "execution_count": 48,
   "metadata": {},
   "outputs": [
    {
     "data": {
      "image/png": "[encoded data removed]",
      "text/plain": [
       "<Figure size 432x288 with 1 Axes>"
      ]
     },
     "metadata": {
      "needs_background": "light"
     },
     "output_type": "display_data"
    }
   ],
   "source": [
    "fpr, tpr, thresholds = roc_curve(y_test, probabilities_one_test)\n",
    "plt.figure()\n",
    "plt.plot(fpr, tpr)\n",
    "plt.xlim([0.0, 1.0])\n",
    "plt.ylim([0.0, 1.0])\n",
    "plt.xlabel('False Positive Rate')\n",
    "plt.ylabel('True Positive Rate')\n",
    "plt.title('ROC-кривая')\n",
    "plt.show()"
   ]
  },
  {
   "cell_type": "markdown",
   "metadata": {},
   "source": [
    "Для модели случайного леса без удаления неинформативных признаков эти значения следущие:\n",
    "- Точность классификации на тестовой выборке:0.823\n",
    "- Площадь AUC-ROC кривой:0.8582492227627\n",
    "- Точность:0.6945812807881774\n",
    "- Полнота:0.55078125\n",
    "- F1-мера:0.6143790849673202\n",
    "\n",
    "Для модели случайного леса с удалением неинформативных признаков эти значения следущие:\n",
    "- Точность классификации на тестовой выборке:0.797\n",
    "- Площадь AUC-ROC кривой:0.8478963601189189\n",
    "- Точность:0.7093596059113301\n",
    "- Полнота:0.5\n",
    "- F1-мера:0.5865580448065173\n",
    "\n",
    "После удаления неинформативных признаков значение точности увеличилась, все остальные метрики уменьшились"
   ]
  },
  {
   "cell_type": "code",
   "execution_count": 49,
   "metadata": {},
   "outputs": [
    {
     "name": "stdout",
     "output_type": "stream",
     "text": [
      "Точность классификации на тестовой выборке:0.695\n",
      "Площадь AUC-ROC кривой:0.765994400182952\n",
      "Точность:0.729064039408867\n",
      "Полнота:0.37185929648241206\n",
      "F1-мера:0.49251247920133107\n"
     ]
    }
   ],
   "source": [
    "model = LogisticRegression(class_weight='balanced',random_state=12345, C=0.8, penalty='l2')\n",
    "model.fit(X_train, y_train)\n",
    "predictions_test = model.predict(X_test)\n",
    "score = model.score(X_test, y_test)\n",
    "print('Точность классификации на тестовой выборке:{}'.format(score))\n",
    "probabilities_test = model.predict_proba(X_test)\n",
    "probabilities_one_test = probabilities_test[:, 1]\n",
    "auc_roc = roc_auc_score(y_test, probabilities_one_test)\n",
    "print('Площадь AUC-ROC кривой:{}'.format(auc_roc))\n",
    "print('Точность:{}'.format(recall_score(y_test, predictions_test)))\n",
    "print('Полнота:{}'.format(precision_score(y_test, predictions_test)))\n",
    "print('F1-мера:{}'.format(f1_score(y_test, predictions_test)))"
   ]
  },
  {
   "cell_type": "code",
   "execution_count": 50,
   "metadata": {
    "scrolled": false
   },
   "outputs": [
    {
     "data": {
      "image/png": "[encoded data removed]",
      "text/plain": [
       "<Figure size 432x288 with 1 Axes>"
      ]
     },
     "metadata": {
      "needs_background": "light"
     },
     "output_type": "display_data"
    }
   ],
   "source": [
    "fpr, tpr, thresholds = roc_curve(y_test, probabilities_one_test)\n",
    "plt.figure()\n",
    "plt.plot(fpr, tpr)\n",
    "plt.xlim([0.0, 1.0])\n",
    "plt.ylim([0.0, 1.0])\n",
    "plt.xlabel('False Positive Rate')\n",
    "plt.ylabel('True Positive Rate')\n",
    "plt.title('ROC-кривая')\n",
    "plt.show()"
   ]
  },
  {
   "cell_type": "code",
   "execution_count": 51,
   "metadata": {},
   "outputs": [
    {
     "name": "stdout",
     "output_type": "stream",
     "text": [
      "Точность классификации на тестовой выборке:0.723\n",
      "Площадь AUC-ROC кривой:0.7565686595669722\n",
      "Точность:0.7044334975369458\n",
      "Полнота:0.3972222222222222\n",
      "F1-мера:0.5079928952042628\n"
     ]
    }
   ],
   "source": [
    "model = LogisticRegression(class_weight='balanced',random_state=12345, C=0.8, penalty='l2')\n",
    "model.fit(X_train_fs_lr, y_train)\n",
    "predictions_test = model.predict(X_test_fs_lr)\n",
    "score = model.score(X_test_fs_lr, y_test)\n",
    "print('Точность классификации на тестовой выборке:{}'.format(score))\n",
    "probabilities_test = model.predict_proba(X_test_fs_lr)\n",
    "probabilities_one_test = probabilities_test[:, 1]\n",
    "auc_roc = roc_auc_score(y_test, probabilities_one_test)\n",
    "print('Площадь AUC-ROC кривой:{}'.format(auc_roc))\n",
    "print('Точность:{}'.format(recall_score(y_test, predictions_test)))\n",
    "print('Полнота:{}'.format(precision_score(y_test, predictions_test)))\n",
    "print('F1-мера:{}'.format(f1_score(y_test, predictions_test)))"
   ]
  },
  {
   "cell_type": "code",
   "execution_count": 52,
   "metadata": {},
   "outputs": [
    {
     "data": {
      "image/png": "[encoded data removed]",
      "text/plain": [
       "<Figure size 432x288 with 1 Axes>"
      ]
     },
     "metadata": {
      "needs_background": "light"
     },
     "output_type": "display_data"
    }
   ],
   "source": [
    "fpr, tpr, thresholds = roc_curve(y_test, probabilities_one_test)\n",
    "plt.figure()\n",
    "plt.plot(fpr, tpr)\n",
    "plt.xlim([0.0, 1.0])\n",
    "plt.ylim([0.0, 1.0])\n",
    "plt.xlabel('False Positive Rate')\n",
    "plt.ylabel('True Positive Rate')\n",
    "plt.title('ROC-кривая')\n",
    "plt.show()"
   ]
  },
  {
   "cell_type": "markdown",
   "metadata": {},
   "source": [
    "Для модели логистической регрессии без удаления неинформативных признаков эти значения следущие:\n",
    "- Точность классификации на тестовой выборке:0.695\n",
    "- Площадь AUC-ROC кривой:0.765994400182952\n",
    "- Точность:0.729064039408867\n",
    "- Полнота:0.37185929648241206\n",
    "- F1-мера:0.49251247920133107\n",
    "\n",
    "Для модели логистической регрессии с удалением неинформативных признаков эти значения следущие:\n",
    "- Точность классификации на тестовой выборке:0.723\n",
    "- Площадь AUC-ROC кривой:0.7565686595669722\n",
    "- Точность:0.7044334975369458\n",
    "- Полнота:0.3972222222222222\n",
    "- F1-мера:0.5079928952042628\n",
    "\n",
    "После удаления неинформативных признаков значения точности классификации, полноты и F1-меры увеличились. Значения площади под кривой и точности уменьшились"
   ]
  },
  {
   "cell_type": "markdown",
   "metadata": {},
   "source": [
    "# Выводы\n",
    "- На этапе подготовки данных были заполнены пропуски медианой по столбцу. Затем категориальные данные были закодированы и необходимые признаки промасштабированы. затем выборка была разбита в соотношении 80-10-10\n",
    "- На этапе Исследования задачи были оценены F1-меры на всех ненастроеных моделях и найден текущий баланс классов\n",
    "- На этапе избавления от дисбаланса был проведен апсемплинг данных и повторно оценена F1-мера, которая выросла, а так же найдены оптимальные гиперпараметры для моделей\n",
    "- На этапе тестирования для моделей добавлен параметр class_weight='balanced' для моделей и оценена площадь AUC-ROC кривой и F1-мера. Лучше всего показал себя <b>алгоритм случайного леса (0.8625881538528101 и 0.6287015945330295 соответственно)</b>, второе место заняло дерево решений (0.827104103442095 и 0.5481481481481482 соответственно), хуже всех проявила себя линейная регрессия (0.7655493816096074 и 0.4891122278056951 соответственно) \n",
    "\n",
    "### Дополнительные выводы\n",
    "Попробовал удалить неинформативные признаки с помощью feature_importances_ для \"деревянных\" алгоритмов, но хороших результатов добиться не получилось, так как целевая метрика либо не достигла нужного уровня, либо вообще ухудшилась. Для линейной регрессии смог найти метод нахождения информативных признаков при помощи весов, но возможно не правильно его интерпретировал. Все результаты представлены в соответсвующих блоках (все таки нахождение нужных признаков по моему должно располагаться в исследовании задачи:). Тема future slection мне очень интересна, но пока что нет времени и сил нормально в ней разобраться) так же добавил метрики полноты и точности.  "
   ]
  }
 ],
 "metadata": {
  "kernelspec": {
   "display_name": "Python 3",
   "language": "python",
   "name": "python3"
  },
  "language_info": {
   "codemirror_mode": {
    "name": "ipython",
    "version": 3
   },
   "file_extension": ".py",
   "mimetype": "text/x-python",
   "name": "python",
   "nbconvert_exporter": "python",
   "pygments_lexer": "ipython3",
   "version": "3.8.3"
  }
 },
 "nbformat": 4,
 "nbformat_minor": 2
}
