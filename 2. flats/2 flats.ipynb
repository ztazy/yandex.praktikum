{
 "cells": [
  {
   "cell_type": "code",
   "execution_count": 1,
   "metadata": {},
   "outputs": [],
   "source": [
    "import pandas as pd\n",
    "import matplotlib.pyplot as plt \n",
    "import math\n",
    "pd.set_option('display.max_columns', None)\n",
    "#pd.set_option('display.max_rows', None)"
   ]
  },
  {
   "cell_type": "markdown",
   "metadata": {},
   "source": [
    "### Шаг 1. Откройте файл с данными и изучите общую информацию. "
   ]
  },
  {
   "cell_type": "code",
   "execution_count": 2,
   "metadata": {},
   "outputs": [],
   "source": [
    "flat = pd.read_csv('/datasets/real_estate_data.csv',  sep='\\t')"
   ]
  },
  {
   "cell_type": "code",
   "execution_count": 3,
   "metadata": {
    "scrolled": true
   },
   "outputs": [
    {
     "name": "stdout",
     "output_type": "stream",
     "text": [
      "<class 'pandas.core.frame.DataFrame'>\n",
      "RangeIndex: 23699 entries, 0 to 23698\n",
      "Data columns (total 22 columns):\n",
      "total_images            23699 non-null int64\n",
      "last_price              23699 non-null float64\n",
      "total_area              23699 non-null float64\n",
      "first_day_exposition    23699 non-null object\n",
      "rooms                   23699 non-null int64\n",
      "ceiling_height          14504 non-null float64\n",
      "floors_total            23613 non-null float64\n",
      "living_area             21796 non-null float64\n",
      "floor                   23699 non-null int64\n",
      "is_apartment            2775 non-null object\n",
      "studio                  23699 non-null bool\n",
      "open_plan               23699 non-null bool\n",
      "kitchen_area            21421 non-null float64\n",
      "balcony                 12180 non-null float64\n",
      "locality_name           23650 non-null object\n",
      "airports_nearest        18157 non-null float64\n",
      "cityCenters_nearest     18180 non-null float64\n",
      "parks_around3000        18181 non-null float64\n",
      "parks_nearest           8079 non-null float64\n",
      "ponds_around3000        18181 non-null float64\n",
      "ponds_nearest           9110 non-null float64\n",
      "days_exposition         20518 non-null float64\n",
      "dtypes: bool(2), float64(14), int64(3), object(3)\n",
      "memory usage: 3.7+ MB\n"
     ]
    }
   ],
   "source": [
    "flat.info()"
   ]
  },
  {
   "cell_type": "markdown",
   "metadata": {},
   "source": [
    "### Вывод"
   ]
  },
  {
   "cell_type": "markdown",
   "metadata": {},
   "source": [
    "Всего 23699 записей. Пропущенные значения обнаружены в следующих столбцах:\n",
    "    1. ceiling_height (14504) \n",
    "    2. living_area (21796)\n",
    "    3. is_apartment(2775)\n",
    "    4. kitchen_area (21421)\n",
    "    5. balcony (12180)\n",
    "    6. locality_name (23650)\n",
    "    7. airports_nearest (18157) \n",
    "    8. cityCenters_nearest (18180) \n",
    "    9. parks_around3000 (18181) \n",
    "    10. parks_nearest (8079)\n",
    "    11. ponds_around3000 (18181) \n",
    "    12. ponds_nearest (9110)\n",
    "    13. days_exposition (20518) \n",
    "Так же были обнаружены неподходящие типы данных, а именно:\n",
    "    1. float64 для столбца floors_total. Считаю это ненужным, т.к. число этажей не может быть нецелочисленным\n",
    "    2. object для столбца is_apartment. т.к. в нем есть пропуски, просто привести его к bool не получится, надо заполнять пропуски\n",
    "    3. float64 для столбца balcony. Опять та же ситуация, что и с количеством этажей в доме. Количество балконов не может быть нецелочисленным\n",
    "    4. float64 для столбца parks_around3000. Количество парков не может быть нецелочисленным"
   ]
  },
  {
   "cell_type": "markdown",
   "metadata": {},
   "source": [
    "### Шаг 2. Предобработка данных"
   ]
  },
  {
   "cell_type": "code",
   "execution_count": 4,
   "metadata": {},
   "outputs": [],
   "source": [
    "#Заполнение пропусков в названии населенного пункта словом unknown\n",
    "flat['locality_name'].fillna('unknown', inplace=True)"
   ]
  },
  {
   "cell_type": "code",
   "execution_count": 5,
   "metadata": {},
   "outputs": [],
   "source": [
    "#Рассчет средней высоты потолков в разрезе населенных пунктов \n",
    "name_to_height = flat.groupby('locality_name')['ceiling_height'].median().to_dict()"
   ]
  },
  {
   "cell_type": "code",
   "execution_count": 6,
   "metadata": {},
   "outputs": [],
   "source": [
    "flat['ceiling_height'].fillna(-1, inplace=True)"
   ]
  },
  {
   "cell_type": "code",
   "execution_count": 7,
   "metadata": {},
   "outputs": [],
   "source": [
    "def fill_ceiling_height(row):\n",
    "    if row['ceiling_height'] == -1:\n",
    "        return name_to_height[row['locality_name']]\n",
    "    return row['ceiling_height']"
   ]
  },
  {
   "cell_type": "code",
   "execution_count": 8,
   "metadata": {},
   "outputs": [],
   "source": [
    "#Заполнение пропущенных значений высоты потолков медианной высотой потолков \n",
    "flat['ceiling_height'] = flat.apply(fill_ceiling_height, axis=1)"
   ]
  },
  {
   "cell_type": "code",
   "execution_count": 9,
   "metadata": {},
   "outputs": [],
   "source": [
    "#Заполним количество балконов нулями(если не указали количество - значит их нет:)\n",
    "flat['balcony'].fillna(0, inplace=True)"
   ]
  },
  {
   "cell_type": "markdown",
   "metadata": {},
   "source": [
    "Далее я рассчитываю коэффициент соотношения общей и жилой площади в разрезе количества комнат для заполнения пропусков в жилой площади"
   ]
  },
  {
   "cell_type": "code",
   "execution_count": 10,
   "metadata": {},
   "outputs": [
    {
     "data": {
      "text/html": [
       "<div>\n",
       "<style scoped>\n",
       "    .dataframe tbody tr th:only-of-type {\n",
       "        vertical-align: middle;\n",
       "    }\n",
       "\n",
       "    .dataframe tbody tr th {\n",
       "        vertical-align: top;\n",
       "    }\n",
       "\n",
       "    .dataframe thead th {\n",
       "        text-align: right;\n",
       "    }\n",
       "</style>\n",
       "<table border=\"1\" class=\"dataframe\">\n",
       "  <thead>\n",
       "    <tr style=\"text-align: right;\">\n",
       "      <th></th>\n",
       "      <th>living_area</th>\n",
       "      <th>total_area</th>\n",
       "      <th>coef</th>\n",
       "    </tr>\n",
       "    <tr>\n",
       "      <th>rooms</th>\n",
       "      <th></th>\n",
       "      <th></th>\n",
       "      <th></th>\n",
       "    </tr>\n",
       "  </thead>\n",
       "  <tbody>\n",
       "    <tr>\n",
       "      <td>0</td>\n",
       "      <td>18.865246</td>\n",
       "      <td>27.642678</td>\n",
       "      <td>0.682468</td>\n",
       "    </tr>\n",
       "    <tr>\n",
       "      <td>1</td>\n",
       "      <td>17.893552</td>\n",
       "      <td>37.477817</td>\n",
       "      <td>0.477444</td>\n",
       "    </tr>\n",
       "    <tr>\n",
       "      <td>2</td>\n",
       "      <td>31.736849</td>\n",
       "      <td>55.754385</td>\n",
       "      <td>0.569226</td>\n",
       "    </tr>\n",
       "    <tr>\n",
       "      <td>3</td>\n",
       "      <td>47.387941</td>\n",
       "      <td>77.421487</td>\n",
       "      <td>0.612077</td>\n",
       "    </tr>\n",
       "    <tr>\n",
       "      <td>4</td>\n",
       "      <td>66.983223</td>\n",
       "      <td>106.674141</td>\n",
       "      <td>0.627924</td>\n",
       "    </tr>\n",
       "    <tr>\n",
       "      <td>5</td>\n",
       "      <td>100.009247</td>\n",
       "      <td>160.047979</td>\n",
       "      <td>0.624870</td>\n",
       "    </tr>\n",
       "    <tr>\n",
       "      <td>6</td>\n",
       "      <td>130.983636</td>\n",
       "      <td>200.162121</td>\n",
       "      <td>0.654388</td>\n",
       "    </tr>\n",
       "    <tr>\n",
       "      <td>7</td>\n",
       "      <td>163.564151</td>\n",
       "      <td>256.441509</td>\n",
       "      <td>0.637822</td>\n",
       "    </tr>\n",
       "    <tr>\n",
       "      <td>8</td>\n",
       "      <td>168.683333</td>\n",
       "      <td>259.233333</td>\n",
       "      <td>0.650701</td>\n",
       "    </tr>\n",
       "    <tr>\n",
       "      <td>9</td>\n",
       "      <td>190.257143</td>\n",
       "      <td>316.114286</td>\n",
       "      <td>0.601862</td>\n",
       "    </tr>\n",
       "    <tr>\n",
       "      <td>10</td>\n",
       "      <td>165.566667</td>\n",
       "      <td>259.566667</td>\n",
       "      <td>0.637858</td>\n",
       "    </tr>\n",
       "    <tr>\n",
       "      <td>11</td>\n",
       "      <td>133.900000</td>\n",
       "      <td>188.900000</td>\n",
       "      <td>0.708841</td>\n",
       "    </tr>\n",
       "    <tr>\n",
       "      <td>12</td>\n",
       "      <td>409.700000</td>\n",
       "      <td>900.000000</td>\n",
       "      <td>0.455222</td>\n",
       "    </tr>\n",
       "    <tr>\n",
       "      <td>14</td>\n",
       "      <td>195.150000</td>\n",
       "      <td>304.200000</td>\n",
       "      <td>0.641519</td>\n",
       "    </tr>\n",
       "    <tr>\n",
       "      <td>15</td>\n",
       "      <td>409.000000</td>\n",
       "      <td>590.000000</td>\n",
       "      <td>0.693220</td>\n",
       "    </tr>\n",
       "    <tr>\n",
       "      <td>16</td>\n",
       "      <td>180.000000</td>\n",
       "      <td>270.000000</td>\n",
       "      <td>0.666667</td>\n",
       "    </tr>\n",
       "    <tr>\n",
       "      <td>19</td>\n",
       "      <td>264.500000</td>\n",
       "      <td>374.600000</td>\n",
       "      <td>0.706086</td>\n",
       "    </tr>\n",
       "  </tbody>\n",
       "</table>\n",
       "</div>"
      ],
      "text/plain": [
       "       living_area  total_area      coef\n",
       "rooms                                   \n",
       "0        18.865246   27.642678  0.682468\n",
       "1        17.893552   37.477817  0.477444\n",
       "2        31.736849   55.754385  0.569226\n",
       "3        47.387941   77.421487  0.612077\n",
       "4        66.983223  106.674141  0.627924\n",
       "5       100.009247  160.047979  0.624870\n",
       "6       130.983636  200.162121  0.654388\n",
       "7       163.564151  256.441509  0.637822\n",
       "8       168.683333  259.233333  0.650701\n",
       "9       190.257143  316.114286  0.601862\n",
       "10      165.566667  259.566667  0.637858\n",
       "11      133.900000  188.900000  0.708841\n",
       "12      409.700000  900.000000  0.455222\n",
       "14      195.150000  304.200000  0.641519\n",
       "15      409.000000  590.000000  0.693220\n",
       "16      180.000000  270.000000  0.666667\n",
       "19      264.500000  374.600000  0.706086"
      ]
     },
     "execution_count": 10,
     "metadata": {},
     "output_type": "execute_result"
    }
   ],
   "source": [
    "living_area_coef = flat.query('living_area>0').pivot_table(index='rooms', values=['total_area', 'living_area'], aggfunc='mean')\n",
    "\n",
    "living_area_coef['coef'] = living_area_coef['living_area'] / living_area_coef['total_area']\n",
    "living_area_coef"
   ]
  },
  {
   "cell_type": "code",
   "execution_count": 11,
   "metadata": {},
   "outputs": [],
   "source": [
    "flat['living_area'].fillna(-1, inplace=True)"
   ]
  },
  {
   "cell_type": "code",
   "execution_count": 12,
   "metadata": {},
   "outputs": [],
   "source": [
    "def living_area_calc(row, living_area_calc):\n",
    "    if row['living_area'] == -1:\n",
    "        room = row['rooms']\n",
    "        #total_area = data['total_area']\n",
    "        coef = living_area_calc.query('rooms == @room')['coef'].iloc[0]\n",
    "        return coef*row['total_area']\n",
    "    return row['living_area']   "
   ]
  },
  {
   "cell_type": "code",
   "execution_count": 13,
   "metadata": {},
   "outputs": [],
   "source": [
    "flat['living_area'] = flat.apply(living_area_calc, axis=1, args=(living_area_coef,))"
   ]
  },
  {
   "cell_type": "markdown",
   "metadata": {},
   "source": [
    "Для заполнения пропусков в кухонной площади использовал другой метод. Я нашел соотношение жилой площади к площади кухни для каждой записи, где данные не пропущены. После чего нашел самый часто встречаемый коэффициент и рассчитал площадь кухни с помощью этого коэффициента"
   ]
  },
  {
   "cell_type": "code",
   "execution_count": 14,
   "metadata": {},
   "outputs": [
    {
     "data": {
      "text/plain": [
       "<matplotlib.axes._subplots.AxesSubplot at 0x7f3d12ede650>"
      ]
     },
     "execution_count": 14,
     "metadata": {},
     "output_type": "execute_result"
    },
    {
     "data": {
      "image/png": "[encoded data removed]",
      "text/plain": [
       "<Figure size 432x288 with 1 Axes>"
      ]
     },
     "metadata": {
      "needs_background": "light"
     },
     "output_type": "display_data"
    }
   ],
   "source": [
    "flat['part_kitchen_area'] = round(flat['kitchen_area'] / flat['total_area'], 2)\n",
    "flat['part_kitchen_area'].fillna(0, inplace=True)\n",
    "flat['part_kitchen_area'].hist(bins=100, range=(0, 1))"
   ]
  },
  {
   "cell_type": "code",
   "execution_count": 15,
   "metadata": {},
   "outputs": [],
   "source": [
    "flat['kitchen_area'].fillna(flat['total_area'] * 0.14, inplace=True)"
   ]
  },
  {
   "cell_type": "markdown",
   "metadata": {},
   "source": [
    "После чего решил выполнить проверку корректности моих гипотез, и понял что такая гипотеза не универсальна"
   ]
  },
  {
   "cell_type": "code",
   "execution_count": 16,
   "metadata": {},
   "outputs": [
    {
     "data": {
      "text/plain": [
       "7239     -29.800000\n",
       "7857     -22.200000\n",
       "4366     -20.300000\n",
       "6802     -20.000000\n",
       "12481    -19.769474\n",
       "            ...    \n",
       "19961    227.000000\n",
       "12859    289.400000\n",
       "15651    290.000000\n",
       "14991    325.400000\n",
       "19540    378.300000\n",
       "Length: 23699, dtype: float64"
      ]
     },
     "execution_count": 16,
     "metadata": {},
     "output_type": "execute_result"
    }
   ],
   "source": [
    "(flat['total_area'] - flat['living_area'] - flat['kitchen_area']).sort_values()"
   ]
  },
  {
   "cell_type": "markdown",
   "metadata": {},
   "source": [
    "Оцениваю количество записей, для которых гипотеза не сработала"
   ]
  },
  {
   "cell_type": "code",
   "execution_count": 17,
   "metadata": {},
   "outputs": [
    {
     "data": {
      "text/plain": [
       "total_images            98\n",
       "last_price              98\n",
       "total_area              98\n",
       "first_day_exposition    98\n",
       "rooms                   98\n",
       "ceiling_height          98\n",
       "floors_total            98\n",
       "living_area             98\n",
       "floor                   98\n",
       "is_apartment            23\n",
       "studio                  98\n",
       "open_plan               98\n",
       "kitchen_area            98\n",
       "balcony                 98\n",
       "locality_name           98\n",
       "airports_nearest        68\n",
       "cityCenters_nearest     68\n",
       "parks_around3000        68\n",
       "parks_nearest           30\n",
       "ponds_around3000        68\n",
       "ponds_nearest           35\n",
       "days_exposition         88\n",
       "part_kitchen_area       98\n",
       "dtype: int64"
      ]
     },
     "execution_count": 17,
     "metadata": {},
     "output_type": "execute_result"
    }
   ],
   "source": [
    "flat.query('total_area < living_area+kitchen_area').count()"
   ]
  },
  {
   "cell_type": "markdown",
   "metadata": {},
   "source": [
    "Так как данных немного, было решено откинуть их"
   ]
  },
  {
   "cell_type": "code",
   "execution_count": 18,
   "metadata": {},
   "outputs": [],
   "source": [
    "flat = flat.query('total_area > living_area+kitchen_area')"
   ]
  },
  {
   "cell_type": "markdown",
   "metadata": {},
   "source": [
    "По аналогии с количеством балконов было заполнено поле is_apartment значением False"
   ]
  },
  {
   "cell_type": "code",
   "execution_count": 19,
   "metadata": {},
   "outputs": [],
   "source": [
    "flat['is_apartment'].fillna(False, inplace=True)"
   ]
  },
  {
   "cell_type": "markdown",
   "metadata": {},
   "source": [
    "так как в признаке \"количество этажей\" небольшое количество пропусков, решено откинуть и эти данные"
   ]
  },
  {
   "cell_type": "code",
   "execution_count": 20,
   "metadata": {},
   "outputs": [
    {
     "data": {
      "text/plain": [
       "<matplotlib.axes._subplots.AxesSubplot at 0x7f3d11c2a690>"
      ]
     },
     "execution_count": 20,
     "metadata": {},
     "output_type": "execute_result"
    },
    {
     "data": {
      "image/png": "[encoded data removed]",
      "text/plain": [
       "<Figure size 432x288 with 1 Axes>"
      ]
     },
     "metadata": {
      "needs_background": "light"
     },
     "output_type": "display_data"
    }
   ],
   "source": [
    "flat['floors_total'].hist(bins=100, range=(0, 30))"
   ]
  },
  {
   "cell_type": "code",
   "execution_count": 21,
   "metadata": {},
   "outputs": [],
   "source": [
    "flat.dropna(subset = ['floors_total'], inplace = True)"
   ]
  },
  {
   "cell_type": "markdown",
   "metadata": {},
   "source": [
    "Далее я заполняю количество парков и озер в пределах 3 км нулями, так как если человек, составлявший объявление, пропустил это поле, значит, что парков/озер рядом нет. Так же заполняю пропущенные значения в поле ближайший парк/озеро -1"
   ]
  },
  {
   "cell_type": "code",
   "execution_count": 22,
   "metadata": {},
   "outputs": [],
   "source": [
    "flat['parks_around3000'].fillna(0, inplace=True)\n",
    "flat['ponds_around3000'].fillna(0, inplace=True)\n",
    "flat['parks_nearest'].fillna(-1, inplace=True)\n",
    "flat['ponds_nearest'].fillna(-1, inplace=True)"
   ]
  },
  {
   "cell_type": "markdown",
   "metadata": {},
   "source": [
    "Так как нас в дальнейшем будут интересовать только проданные квартиры, откидываем непроданные квартиры"
   ]
  },
  {
   "cell_type": "code",
   "execution_count": 23,
   "metadata": {},
   "outputs": [],
   "source": [
    "flat.dropna(subset=['days_exposition'], inplace=True)"
   ]
  },
  {
   "cell_type": "markdown",
   "metadata": {},
   "source": [
    "Приведем тип поля к нужным, на мой взгляд, и так же предобработаем признак \"Название нас. пункта\"(приведем к нижнему регистру)"
   ]
  },
  {
   "cell_type": "code",
   "execution_count": 24,
   "metadata": {},
   "outputs": [],
   "source": [
    "flat['floors_total'] = flat['floors_total'].astype('int')\n",
    "flat['balcony'] = flat['balcony'].astype('int')\n",
    "flat['parks_around3000'] = flat['parks_around3000'].astype('int')\n",
    "flat['ponds_around3000'] = flat['ponds_around3000'].astype('int')\n",
    "flat['locality_name'] = flat['locality_name'].str.lower()\n",
    "flat['days_exposition'] = flat['days_exposition'].astype('int')"
   ]
  },
  {
   "cell_type": "code",
   "execution_count": 25,
   "metadata": {},
   "outputs": [
    {
     "name": "stdout",
     "output_type": "stream",
     "text": [
      "<class 'pandas.core.frame.DataFrame'>\n",
      "Int64Index: 20292 entries, 1 to 23697\n",
      "Data columns (total 23 columns):\n",
      "total_images            20292 non-null int64\n",
      "last_price              20292 non-null float64\n",
      "total_area              20292 non-null float64\n",
      "first_day_exposition    20292 non-null object\n",
      "rooms                   20292 non-null int64\n",
      "ceiling_height          20199 non-null float64\n",
      "floors_total            20292 non-null int64\n",
      "living_area             20292 non-null float64\n",
      "floor                   20292 non-null int64\n",
      "is_apartment            20292 non-null bool\n",
      "studio                  20292 non-null bool\n",
      "open_plan               20292 non-null bool\n",
      "kitchen_area            20292 non-null float64\n",
      "balcony                 20292 non-null int64\n",
      "locality_name           20292 non-null object\n",
      "airports_nearest        15680 non-null float64\n",
      "cityCenters_nearest     15702 non-null float64\n",
      "parks_around3000        20292 non-null int64\n",
      "parks_nearest           20292 non-null float64\n",
      "ponds_around3000        20292 non-null int64\n",
      "ponds_nearest           20292 non-null float64\n",
      "days_exposition         20292 non-null int64\n",
      "part_kitchen_area       20292 non-null float64\n",
      "dtypes: bool(3), float64(10), int64(8), object(2)\n",
      "memory usage: 3.3+ MB\n"
     ]
    }
   ],
   "source": [
    "flat.info()"
   ]
  },
  {
   "cell_type": "markdown",
   "metadata": {},
   "source": [
    "Оставшиеся пропущенные значения по высоте потолков забьем медианой по всем высотам потолка. Причиной оставшихся пропущенных значений является случаи, когда есть нас.пункт, в котором продается одна или несколько квартир, для которых не указана высота потолка"
   ]
  },
  {
   "cell_type": "code",
   "execution_count": 26,
   "metadata": {},
   "outputs": [],
   "source": [
    "flat['ceiling_height'].fillna(flat.query('ceiling_height != \"NaN\"')['ceiling_height'].median(), inplace=True)"
   ]
  },
  {
   "cell_type": "markdown",
   "metadata": {},
   "source": [
    "Заполним пропуски по расстоянию до аэропорта/центра нас.пункта значением -1"
   ]
  },
  {
   "cell_type": "code",
   "execution_count": 27,
   "metadata": {},
   "outputs": [],
   "source": [
    "flat['cityCenters_nearest'].fillna(-1, inplace=True)\n",
    "flat['airports_nearest'].fillna(-1, inplace=True)"
   ]
  },
  {
   "cell_type": "markdown",
   "metadata": {},
   "source": [
    "#### Выводы по пункту 2\n",
    "Были заполнены пропущенные значения там, где это возможно/есть определенная логика заполнения\n",
    "В некоторых признаках данные с пропущенными значениями были отброшены во избежание аномалии в данных"
   ]
  },
  {
   "cell_type": "markdown",
   "metadata": {},
   "source": [
    "### Шаг 3. Посчитайте и добавьте в таблицу"
   ]
  },
  {
   "cell_type": "code",
   "execution_count": 28,
   "metadata": {},
   "outputs": [],
   "source": [
    "flat['square_meter_price'] = flat['last_price'] / flat['total_area']"
   ]
  },
  {
   "cell_type": "code",
   "execution_count": 29,
   "metadata": {},
   "outputs": [],
   "source": [
    "flat['first_day_exposition'] = pd.to_datetime(flat['first_day_exposition'], format='%Y-%m-%dT%H:%M:%S')\n",
    "flat['week_day'] = flat['first_day_exposition'].dt.weekday\n",
    "flat['month'] = flat['first_day_exposition'].dt.month\n",
    "flat['year'] = flat['first_day_exposition'].dt.year"
   ]
  },
  {
   "cell_type": "code",
   "execution_count": 30,
   "metadata": {},
   "outputs": [],
   "source": [
    "def floor(data):\n",
    "    if data['floor'] == 1:\n",
    "        return 'первый'\n",
    "    elif data['floor'] == data['floors_total']:\n",
    "        return 'последний'\n",
    "    else:\n",
    "        return 'другой'\n",
    "        \n",
    "flat['floors_category'] = flat.apply(floor, axis=1)"
   ]
  },
  {
   "cell_type": "code",
   "execution_count": 31,
   "metadata": {},
   "outputs": [],
   "source": [
    "flat['floor_space_ratio'] = flat['living_area'] / flat['total_area']\n",
    "flat['kitchen_to_total_ratio'] = flat['kitchen_area'] / flat['total_area']"
   ]
  },
  {
   "cell_type": "markdown",
   "metadata": {},
   "source": [
    "#### Выводы по пункту 3\n",
    "В данном пункте добавлены новые столбцы, расчет которых достаточно тривиален. на значения некоторых расчетных величин я ссылался ранее."
   ]
  },
  {
   "cell_type": "markdown",
   "metadata": {},
   "source": [
    "### Шаг 4. Проведите исследовательский анализ данных и выполните инструкции:"
   ]
  },
  {
   "cell_type": "code",
   "execution_count": 32,
   "metadata": {},
   "outputs": [
    {
     "data": {
      "text/plain": [
       "<matplotlib.axes._subplots.AxesSubplot at 0x7f3d11978890>"
      ]
     },
     "execution_count": 32,
     "metadata": {},
     "output_type": "execute_result"
    },
    {
     "data": {
      "image/png": "[encoded data removed]",
      "text/plain": [
       "<Figure size 432x288 with 1 Axes>"
      ]
     },
     "metadata": {
      "needs_background": "light"
     },
     "output_type": "display_data"
    }
   ],
   "source": [
    "flat['total_area'].hist(bins=100, range=(10, 250))#30-50"
   ]
  },
  {
   "cell_type": "markdown",
   "metadata": {},
   "source": [
    "По данной гистограме видно, что основное количество представленных квартир имеет площадь от 30 до 50 кв.м."
   ]
  },
  {
   "cell_type": "code",
   "execution_count": 33,
   "metadata": {},
   "outputs": [
    {
     "data": {
      "text/plain": [
       "<matplotlib.axes._subplots.AxesSubplot at 0x7f3d119e47d0>"
      ]
     },
     "execution_count": 33,
     "metadata": {},
     "output_type": "execute_result"
    },
    {
     "data": {
      "image/png": "[encoded data removed]",
      "text/plain": [
       "<Figure size 432x288 with 1 Axes>"
      ]
     },
     "metadata": {
      "needs_background": "light"
     },
     "output_type": "display_data"
    }
   ],
   "source": [
    "flat['last_price'].hist(bins=100, range=(1000000, 10000000))#2.5-4.3kk"
   ]
  },
  {
   "cell_type": "markdown",
   "metadata": {},
   "source": [
    "Данная гистгорамма показывает, что разброс цен для большинства представленных квартир находится в промежутке от 2.5 до 4.3 млн "
   ]
  },
  {
   "cell_type": "code",
   "execution_count": 34,
   "metadata": {},
   "outputs": [
    {
     "data": {
      "text/plain": [
       "<matplotlib.axes._subplots.AxesSubplot at 0x7f3d117cbf50>"
      ]
     },
     "execution_count": 34,
     "metadata": {},
     "output_type": "execute_result"
    },
    {
     "data": {
      "image/png": "[encoded data removed]",
      "text/plain": [
       "<Figure size 432x288 with 1 Axes>"
      ]
     },
     "metadata": {
      "needs_background": "light"
     },
     "output_type": "display_data"
    }
   ],
   "source": [
    "flat['rooms'].hist(bins=8, range=(0, 8))#1-2-3"
   ]
  },
  {
   "cell_type": "markdown",
   "metadata": {},
   "source": [
    "Данная гистгорамма показывает, что основная часть квартир имеет от 1 до 3 комнат"
   ]
  },
  {
   "cell_type": "code",
   "execution_count": 35,
   "metadata": {},
   "outputs": [
    {
     "data": {
      "text/plain": [
       "<matplotlib.axes._subplots.AxesSubplot at 0x7f3d1170c6d0>"
      ]
     },
     "execution_count": 35,
     "metadata": {},
     "output_type": "execute_result"
    },
    {
     "data": {
      "image/png": "[encoded data removed]",
      "text/plain": [
       "<Figure size 432x288 with 1 Axes>"
      ]
     },
     "metadata": {
      "needs_background": "light"
     },
     "output_type": "display_data"
    }
   ],
   "source": [
    "flat['ceiling_height'].hist(bins=3, range=(2, 5))#2-3"
   ]
  },
  {
   "cell_type": "markdown",
   "metadata": {},
   "source": [
    "Данная гистгорамма показывает, что большинство высот потолков находится в промежутке 2-3 м."
   ]
  },
  {
   "cell_type": "markdown",
   "metadata": {},
   "source": [
    "Далее я произвожу расчет средней длительности продажи квартиры"
   ]
  },
  {
   "cell_type": "code",
   "execution_count": 36,
   "metadata": {},
   "outputs": [
    {
     "data": {
      "text/plain": [
       "<matplotlib.axes._subplots.AxesSubplot at 0x7f3d11644550>"
      ]
     },
     "execution_count": 36,
     "metadata": {},
     "output_type": "execute_result"
    },
    {
     "data": {
      "image/png": "[encoded data removed]",
      "text/plain": [
       "<Figure size 432x288 with 1 Axes>"
      ]
     },
     "metadata": {
      "needs_background": "light"
     },
     "output_type": "display_data"
    }
   ],
   "source": [
    "flat['days_exposition'].hist(bins=100,range=(0,1000))"
   ]
  },
  {
   "cell_type": "code",
   "execution_count": 37,
   "metadata": {},
   "outputs": [
    {
     "data": {
      "text/plain": [
       "{'whiskers': [<matplotlib.lines.Line2D at 0x7f3d1148e610>,\n",
       "  <matplotlib.lines.Line2D at 0x7f3d11494750>],\n",
       " 'caps': [<matplotlib.lines.Line2D at 0x7f3d11494c50>,\n",
       "  <matplotlib.lines.Line2D at 0x7f3d114a7210>],\n",
       " 'boxes': [<matplotlib.lines.Line2D at 0x7f3d1148e590>],\n",
       " 'medians': [<matplotlib.lines.Line2D at 0x7f3d1149c6d0>],\n",
       " 'fliers': [<matplotlib.lines.Line2D at 0x7f3d1149cbd0>],\n",
       " 'means': []}"
      ]
     },
     "execution_count": 37,
     "metadata": {},
     "output_type": "execute_result"
    },
    {
     "data": {
      "image/png": "[encoded data removed]",
      "text/plain": [
       "<Figure size 432x288 with 1 Axes>"
      ]
     },
     "metadata": {
      "needs_background": "light"
     },
     "output_type": "display_data"
    }
   ],
   "source": [
    "plt.ylim(0,600)\n",
    "plt.boxplot(flat['days_exposition'])"
   ]
  },
  {
   "cell_type": "markdown",
   "metadata": {},
   "source": [
    "Как видно из диаграммы размаха средняя длительность продажи квартиры около 90 дней "
   ]
  },
  {
   "cell_type": "markdown",
   "metadata": {},
   "source": [
    "Далее я нахожу значения-выбросы и откидываю их"
   ]
  },
  {
   "cell_type": "code",
   "execution_count": 38,
   "metadata": {},
   "outputs": [
    {
     "data": {
      "text/plain": [
       "{'whiskers': [<matplotlib.lines.Line2D at 0x7f3d113fd290>,\n",
       "  <matplotlib.lines.Line2D at 0x7f3d113fd850>],\n",
       " 'caps': [<matplotlib.lines.Line2D at 0x7f3d113fdd50>,\n",
       "  <matplotlib.lines.Line2D at 0x7f3d113f6610>],\n",
       " 'boxes': [<matplotlib.lines.Line2D at 0x7f3d113f65d0>],\n",
       " 'medians': [<matplotlib.lines.Line2D at 0x7f3d114067d0>],\n",
       " 'fliers': [<matplotlib.lines.Line2D at 0x7f3d11406cd0>],\n",
       " 'means': []}"
      ]
     },
     "execution_count": 38,
     "metadata": {},
     "output_type": "execute_result"
    },
    {
     "data": {
      "image/png": "[encoded data removed]",
      "text/plain": [
       "<Figure size 432x288 with 1 Axes>"
      ]
     },
     "metadata": {
      "needs_background": "light"
     },
     "output_type": "display_data"
    }
   ],
   "source": [
    "#flat['total_area'].hist()\n",
    "plt.ylim(0,200)\n",
    "plt.boxplot(flat['total_area'])"
   ]
  },
  {
   "cell_type": "markdown",
   "metadata": {},
   "source": [
    "Для общей площади большинство данных лежит в промежутке от 20 до 115 кв.м. Для этого я создаю новый датафрейм, в который буду записывать значения без выбросов"
   ]
  },
  {
   "cell_type": "code",
   "execution_count": 39,
   "metadata": {},
   "outputs": [],
   "source": [
    "flat_filtered = flat.query('total_area>20 and total_area<115')"
   ]
  },
  {
   "cell_type": "code",
   "execution_count": 40,
   "metadata": {},
   "outputs": [
    {
     "data": {
      "text/plain": [
       "{'whiskers': [<matplotlib.lines.Line2D at 0x7f3d113668d0>,\n",
       "  <matplotlib.lines.Line2D at 0x7f3d11366e10>],\n",
       " 'caps': [<matplotlib.lines.Line2D at 0x7f3d113dac50>,\n",
       "  <matplotlib.lines.Line2D at 0x7f3d1136c850>],\n",
       " 'boxes': [<matplotlib.lines.Line2D at 0x7f3d113dac10>],\n",
       " 'medians': [<matplotlib.lines.Line2D at 0x7f3d1136cd90>],\n",
       " 'fliers': [<matplotlib.lines.Line2D at 0x7f3d11366ed0>],\n",
       " 'means': []}"
      ]
     },
     "execution_count": 40,
     "metadata": {},
     "output_type": "execute_result"
    },
    {
     "data": {
      "image/png": "[encoded data removed]",
      "text/plain": [
       "<Figure size 432x288 with 1 Axes>"
      ]
     },
     "metadata": {
      "needs_background": "light"
     },
     "output_type": "display_data"
    }
   ],
   "source": [
    "#flat_filtered['rooms'].hist(bins = 11,range=(0,11))\n",
    "plt.ylim(0,10)\n",
    "plt.boxplot(flat['rooms'])"
   ]
  },
  {
   "cell_type": "code",
   "execution_count": 41,
   "metadata": {},
   "outputs": [],
   "source": [
    "flat_filtered = flat_filtered.query('rooms<6')"
   ]
  },
  {
   "cell_type": "markdown",
   "metadata": {},
   "source": [
    "Относительно количества комнат можно сделать следующий вывод: квартиры с 7 и более комнатами являются выбросами. Найдем такое значение для высоты потолков "
   ]
  },
  {
   "cell_type": "code",
   "execution_count": 42,
   "metadata": {},
   "outputs": [
    {
     "data": {
      "text/plain": [
       "{'whiskers': [<matplotlib.lines.Line2D at 0x7f3d0f30e850>,\n",
       "  <matplotlib.lines.Line2D at 0x7f3d0f30ed90>],\n",
       " 'caps': [<matplotlib.lines.Line2D at 0x7f3d0f300bd0>,\n",
       "  <matplotlib.lines.Line2D at 0x7f3d0f3127d0>],\n",
       " 'boxes': [<matplotlib.lines.Line2D at 0x7f3d0f300b90>],\n",
       " 'medians': [<matplotlib.lines.Line2D at 0x7f3d0f312d10>],\n",
       " 'fliers': [<matplotlib.lines.Line2D at 0x7f3d0f30ee50>],\n",
       " 'means': []}"
      ]
     },
     "execution_count": 42,
     "metadata": {},
     "output_type": "execute_result"
    },
    {
     "data": {
      "image/png": "[encoded data removed]",
      "text/plain": [
       "<Figure size 432x288 with 1 Axes>"
      ]
     },
     "metadata": {
      "needs_background": "light"
     },
     "output_type": "display_data"
    }
   ],
   "source": [
    "#flat_filtered['ceiling_height'].hist(range=(2,5))\n",
    "plt.ylim(2,3)\n",
    "plt.boxplot(flat['ceiling_height'])"
   ]
  },
  {
   "cell_type": "code",
   "execution_count": 43,
   "metadata": {},
   "outputs": [],
   "source": [
    "flat_filtered = flat.query('ceiling_height>2.3 and ceiling_height<2.95')"
   ]
  },
  {
   "cell_type": "markdown",
   "metadata": {},
   "source": [
    "И последний признак, где могут быть выбросы - это цена"
   ]
  },
  {
   "cell_type": "code",
   "execution_count": 44,
   "metadata": {},
   "outputs": [
    {
     "data": {
      "text/plain": [
       "763000000.0"
      ]
     },
     "execution_count": 44,
     "metadata": {},
     "output_type": "execute_result"
    }
   ],
   "source": [
    "flat_filtered['last_price'].max()"
   ]
  },
  {
   "cell_type": "code",
   "execution_count": 45,
   "metadata": {},
   "outputs": [
    {
     "data": {
      "text/plain": [
       "12190.0"
      ]
     },
     "execution_count": 45,
     "metadata": {},
     "output_type": "execute_result"
    }
   ],
   "source": [
    "flat_filtered['last_price'].min()"
   ]
  },
  {
   "cell_type": "code",
   "execution_count": 46,
   "metadata": {},
   "outputs": [
    {
     "data": {
      "text/plain": [
       "{'whiskers': [<matplotlib.lines.Line2D at 0x7f3d0f27dc10>,\n",
       "  <matplotlib.lines.Line2D at 0x7f3d0f271f90>],\n",
       " 'caps': [<matplotlib.lines.Line2D at 0x7f3d0f2826d0>,\n",
       "  <matplotlib.lines.Line2D at 0x7f3d0f282bd0>],\n",
       " 'boxes': [<matplotlib.lines.Line2D at 0x7f3d0f271f50>],\n",
       " 'medians': [<matplotlib.lines.Line2D at 0x7f3d0f27dd10>],\n",
       " 'fliers': [<matplotlib.lines.Line2D at 0x7f3d0f28c650>],\n",
       " 'means': []}"
      ]
     },
     "execution_count": 46,
     "metadata": {},
     "output_type": "execute_result"
    },
    {
     "data": {
      "image/png": "[encoded data removed]",
      "text/plain": [
       "<Figure size 432x288 with 1 Axes>"
      ]
     },
     "metadata": {
      "needs_background": "light"
     },
     "output_type": "display_data"
    }
   ],
   "source": [
    "#flat_filtered['last_price'].hist(bins=1000, range=(1000000, 40000000))\n",
    "plt.ylim(0,20000000)\n",
    "plt.boxplot(flat['last_price'])"
   ]
  },
  {
   "cell_type": "code",
   "execution_count": 47,
   "metadata": {},
   "outputs": [],
   "source": [
    "flat_filtered = flat_filtered.query('last_price > 700000 and last_price < 10000000')"
   ]
  },
  {
   "cell_type": "code",
   "execution_count": 48,
   "metadata": {},
   "outputs": [
    {
     "name": "stdout",
     "output_type": "stream",
     "text": [
      "<class 'pandas.core.frame.DataFrame'>\n",
      "Int64Index: 16889 entries, 1 to 23695\n",
      "Data columns (total 30 columns):\n",
      "total_images              16889 non-null int64\n",
      "last_price                16889 non-null float64\n",
      "total_area                16889 non-null float64\n",
      "first_day_exposition      16889 non-null datetime64[ns]\n",
      "rooms                     16889 non-null int64\n",
      "ceiling_height            16889 non-null float64\n",
      "floors_total              16889 non-null int64\n",
      "living_area               16889 non-null float64\n",
      "floor                     16889 non-null int64\n",
      "is_apartment              16889 non-null bool\n",
      "studio                    16889 non-null bool\n",
      "open_plan                 16889 non-null bool\n",
      "kitchen_area              16889 non-null float64\n",
      "balcony                   16889 non-null int64\n",
      "locality_name             16889 non-null object\n",
      "airports_nearest          16889 non-null float64\n",
      "cityCenters_nearest       16889 non-null float64\n",
      "parks_around3000          16889 non-null int64\n",
      "parks_nearest             16889 non-null float64\n",
      "ponds_around3000          16889 non-null int64\n",
      "ponds_nearest             16889 non-null float64\n",
      "days_exposition           16889 non-null int64\n",
      "part_kitchen_area         16889 non-null float64\n",
      "square_meter_price        16889 non-null float64\n",
      "week_day                  16889 non-null int64\n",
      "month                     16889 non-null int64\n",
      "year                      16889 non-null int64\n",
      "floors_category           16889 non-null object\n",
      "floor_space_ratio         16889 non-null float64\n",
      "kitchen_to_total_ratio    16889 non-null float64\n",
      "dtypes: bool(3), datetime64[ns](1), float64(13), int64(11), object(2)\n",
      "memory usage: 3.7+ MB\n"
     ]
    }
   ],
   "source": [
    "flat_filtered.info()"
   ]
  },
  {
   "cell_type": "code",
   "execution_count": 49,
   "metadata": {},
   "outputs": [
    {
     "name": "stdout",
     "output_type": "stream",
     "text": [
      "                     total_area     rooms  last_price  cityCenters_nearest\n",
      "total_area             1.000000  0.807169    0.659950             0.006585\n",
      "rooms                  0.807169  1.000000    0.420736             0.008966\n",
      "last_price             0.659950  0.420736    1.000000             0.158652\n",
      "cityCenters_nearest    0.006585  0.008966    0.158652             1.000000\n"
     ]
    },
    {
     "data": {
      "text/plain": [
       "array([[<matplotlib.axes._subplots.AxesSubplot object at 0x7f3d0f23f310>,\n",
       "        <matplotlib.axes._subplots.AxesSubplot object at 0x7f3d0f1ebad0>,\n",
       "        <matplotlib.axes._subplots.AxesSubplot object at 0x7f3d0f1a8e10>,\n",
       "        <matplotlib.axes._subplots.AxesSubplot object at 0x7f3d0f1dfad0>],\n",
       "       [<matplotlib.axes._subplots.AxesSubplot object at 0x7f3d0f19ee50>,\n",
       "        <matplotlib.axes._subplots.AxesSubplot object at 0x7f3d0f155b10>,\n",
       "        <matplotlib.axes._subplots.AxesSubplot object at 0x7f3d0f114f90>,\n",
       "        <matplotlib.axes._subplots.AxesSubplot object at 0x7f3d0f0c9b50>],\n",
       "       [<matplotlib.axes._subplots.AxesSubplot object at 0x7f3d0f0d46d0>,\n",
       "        <matplotlib.axes._subplots.AxesSubplot object at 0x7f3d0f097090>,\n",
       "        <matplotlib.axes._subplots.AxesSubplot object at 0x7f3d0efc1f10>,\n",
       "        <matplotlib.axes._subplots.AxesSubplot object at 0x7f3d0ef76bd0>],\n",
       "       [<matplotlib.axes._subplots.AxesSubplot object at 0x7f3d0ef36410>,\n",
       "        <matplotlib.axes._subplots.AxesSubplot object at 0x7f3d0eeead10>,\n",
       "        <matplotlib.axes._subplots.AxesSubplot object at 0x7f3d0eeabf50>,\n",
       "        <matplotlib.axes._subplots.AxesSubplot object at 0x7f3d0eee0c10>]],\n",
       "      dtype=object)"
      ]
     },
     "execution_count": 49,
     "metadata": {},
     "output_type": "execute_result"
    },
    {
     "data": {
      "image/png": "[encoded data removed]",
      "text/plain": [
       "<Figure size 648x648 with 16 Axes>"
      ]
     },
     "metadata": {
      "needs_background": "light"
     },
     "output_type": "display_data"
    }
   ],
   "source": [
    "flat_stat_multi = flat_filtered.loc[:, ['total_area', 'rooms', 'last_price', 'cityCenters_nearest']]\n",
    "print(flat_stat_multi.corr())\n",
    "pd.plotting.scatter_matrix(flat_stat_multi, figsize=(9, 9))"
   ]
  },
  {
   "cell_type": "markdown",
   "metadata": {},
   "source": [
    "Также я рассмотрел зависимость цены от некоторых параметров, а именно: общая площадь, количество комнат, расстояние до центра нас.пункта. были выявлены следующие зависимости:\n",
    "    - чем больше комнат, тем больше цена\n",
    "    - чем больше площадь, тем больше цена\n",
    "    - расстояние до центра города почти не влияет на ценообразование"
   ]
  },
  {
   "cell_type": "code",
   "execution_count": 50,
   "metadata": {},
   "outputs": [
    {
     "name": "stdout",
     "output_type": "stream",
     "text": [
      "                 last_price\n",
      "floors_category            \n",
      "другой            4350000.0\n",
      "первый            3650000.0\n",
      "последний         3847500.0\n"
     ]
    },
    {
     "data": {
      "image/png": "[encoded data removed]",
      "text/plain": [
       "<Figure size 432x288 with 1 Axes>"
      ]
     },
     "metadata": {
      "needs_background": "light"
     },
     "output_type": "display_data"
    }
   ],
   "source": [
    "flat_floors_category = flat_filtered.pivot_table(index='floors_category', values='last_price', aggfunc='median')\n",
    "flat_floors_category.plot(y='last_price', kind ='bar')\n",
    "print(flat_floors_category)"
   ]
  },
  {
   "cell_type": "markdown",
   "metadata": {},
   "source": [
    "Изучив распределение цен по признаку первый-другой-последний этаж я пришел к выводу что рейтинг цены квартиры зависит от этажа, а именно: самые дешевые - первый этаж, самые дорогие находятся ни на первом, ни на последнем этаже"
   ]
  },
  {
   "cell_type": "code",
   "execution_count": 51,
   "metadata": {},
   "outputs": [
    {
     "name": "stdout",
     "output_type": "stream",
     "text": [
      "          last_price\n",
      "week_day            \n",
      "4          4150000.0\n",
      "6          4150000.0\n",
      "0          4200000.0\n",
      "1          4200000.0\n",
      "2          4200000.0\n",
      "3          4200000.0\n",
      "5          4200000.0\n"
     ]
    },
    {
     "data": {
      "image/png": "[encoded data removed]",
      "text/plain": [
       "<Figure size 432x288 with 1 Axes>"
      ]
     },
     "metadata": {
      "needs_background": "light"
     },
     "output_type": "display_data"
    }
   ],
   "source": [
    "flat_group_by_week_name = flat_filtered.pivot_table(index='week_day', values='last_price', aggfunc='median')\n",
    "flat_group_by_week_name.plot(y='last_price', kind ='bar')\n",
    "print(flat_group_by_week_name.sort_values(by='last_price'))"
   ]
  },
  {
   "cell_type": "markdown",
   "metadata": {},
   "source": [
    "Аналогично с днем недели можно сделать следующие выводы:\n",
    "    -самые дорогие квартиры выставляют на продажу во вторник\n",
    "    -самые дешевые выставляют на продажу в субботу и воскресенье"
   ]
  },
  {
   "cell_type": "code",
   "execution_count": 52,
   "metadata": {},
   "outputs": [
    {
     "name": "stdout",
     "output_type": "stream",
     "text": [
      "       last_price\n",
      "month            \n",
      "6       4050000.0\n",
      "3       4150000.0\n",
      "7       4150000.0\n",
      "2       4190000.0\n",
      "12      4194500.0\n",
      "8       4199000.0\n",
      "1       4200000.0\n",
      "4       4200000.0\n",
      "5       4200000.0\n",
      "9       4200000.0\n",
      "10      4200000.0\n",
      "11      4250000.0\n"
     ]
    },
    {
     "data": {
      "image/png": "[encoded data removed]",
      "text/plain": [
       "<Figure size 432x288 with 1 Axes>"
      ]
     },
     "metadata": {
      "needs_background": "light"
     },
     "output_type": "display_data"
    }
   ],
   "source": [
    "flat_group_by_month = flat_filtered.pivot_table(index='month', values='last_price', aggfunc='median')\n",
    "flat_group_by_month.plot(y='last_price', kind ='bar')\n",
    "print(flat_group_by_month.sort_values(by='last_price'))"
   ]
  },
  {
   "cell_type": "markdown",
   "metadata": {},
   "source": [
    "Аналогично с месяцем можно сделать следующие выводы:\n",
    "    -самые дорогие квартиры выставляют на продажу в сентябре\n",
    "    -самые дешевые выставляют на продажу в июне"
   ]
  },
  {
   "cell_type": "code",
   "execution_count": null,
   "metadata": {},
   "outputs": [],
   "source": [
    "flat_group_by_year = flat_filtered.pivot_table(index='year', values='last_price', aggfunc='median')\n",
    "flat_group_by_year.plot(y='last_price', kind ='bar')\n",
    "print(flat_group_by_year.sort_values(by='last_price'))"
   ]
  },
  {
   "cell_type": "markdown",
   "metadata": {},
   "source": [
    "в разрезе по годам видна тенденция на резкое удешевление квартир, после чего квартиры снова постепенно начинают дорожать. Самые дорогие квартиры были выставлены на продажу в 14 году, самые дешевые - в 17"
   ]
  },
  {
   "cell_type": "code",
   "execution_count": null,
   "metadata": {},
   "outputs": [],
   "source": [
    "flat_filtered_tmp = flat_filtered[flat_filtered['cityCenters_nearest'] != -1]\n",
    "flat_locality_name = (flat_filtered_tmp\n",
    "                             .pivot_table(index='locality_name', values ='square_meter_price', aggfunc='count')\n",
    "                             .sort_values(by = 'square_meter_price', ascending = False)\n",
    "                             .head(11))\n",
    "flat_locality_name"
   ]
  },
  {
   "cell_type": "markdown",
   "metadata": {},
   "source": [
    "в данном списке представлены населенные пункты с самым большим количеством квартир. для решения поставленной задачи откинем СПБ тк по нему буде проведен отдельный анализ"
   ]
  },
  {
   "cell_type": "code",
   "execution_count": null,
   "metadata": {},
   "outputs": [],
   "source": [
    "list_of_locality = ['посёлок шушары',\n",
    "                    'колпино',\n",
    "                    'посёлок парголово',\n",
    "                    'пушкин',\n",
    "                    'петергоф',\n",
    "                    'сестрорецк',\n",
    "                    'красное село',\n",
    "                    'ломоносов',\n",
    "                    'кронштадт',\n",
    "                    'посёлок металлострой']\n",
    "flat_locality = flat_filtered_tmp.query('locality_name in @list_of_locality')\n",
    "data_pivot_locality_name = (flat_locality\n",
    "                                .pivot_table(index='locality_name', \n",
    "                                                   values =['square_meter_price', 'cityCenters_nearest'], \n",
    "                                                   aggfunc='median')\n",
    "                                .sort_values(by = 'square_meter_price', ascending = False))\n",
    "data_pivot_locality_name"
   ]
  },
  {
   "cell_type": "markdown",
   "metadata": {},
   "source": [
    "В данной таблице представлены данные по средней цене за квадратный метр. самые дешевые квартиры по цене за квадратный метр находятся в Ломоносове, самые дорогие - в Сестрорецке"
   ]
  },
  {
   "cell_type": "markdown",
   "metadata": {},
   "source": [
    "Необходимо добавить признак с количеством километров до центра"
   ]
  },
  {
   "cell_type": "code",
   "execution_count": null,
   "metadata": {},
   "outputs": [],
   "source": [
    "flat_filtered['cityCenter_km'] = round(flat_filtered['cityCenters_nearest'] / 1000)"
   ]
  },
  {
   "cell_type": "markdown",
   "metadata": {},
   "source": [
    "Для наглядности я построил гистограмму в которой показано распределение цены квартир в СПБ. Необходимо по данной гистограмме найти центральную зону"
   ]
  },
  {
   "cell_type": "code",
   "execution_count": null,
   "metadata": {},
   "outputs": [],
   "source": [
    "tmp = (flat_filtered\n",
    "    .query('locality_name==\"санкт-петербург\"')\n",
    "    .pivot_table(index='cityCenter_km', values='last_price', aggfunc='median'))\n",
    "tmp.hist(bins=100, range=(4000000, 5500000), figsize=(12,6))"
   ]
  },
  {
   "cell_type": "code",
   "execution_count": null,
   "metadata": {},
   "outputs": [],
   "source": [
    "tmp.sort_values(by='last_price')"
   ]
  },
  {
   "cell_type": "markdown",
   "metadata": {},
   "source": [
    "Оснвываясь на гистограмме и усредненным значениям цены центральная зона получилась в промежутке от 10 до 15 км"
   ]
  },
  {
   "cell_type": "code",
   "execution_count": null,
   "metadata": {},
   "outputs": [],
   "source": [
    "flat_central_segment = flat_filtered.query('cityCenter_km > 10 and cityCenter_km < 15')"
   ]
  },
  {
   "cell_type": "markdown",
   "metadata": {},
   "source": [
    "Далее я произвожу анализ центральной зоны"
   ]
  },
  {
   "cell_type": "code",
   "execution_count": null,
   "metadata": {},
   "outputs": [],
   "source": [
    "flat_stat_central = flat_central_segment.loc[:, ['total_area', 'last_price', 'rooms', 'ceiling_height', 'floor']]\n",
    "print(flat_stat_central.corr())\n",
    "pd.plotting.scatter_matrix(flat_stat_central, figsize=(12, 12))"
   ]
  },
  {
   "cell_type": "markdown",
   "metadata": {},
   "source": [
    "Был произведен анализ ценообразования квартир в центральном сегменте СПБ. Были выявленны следующие зависимости:\n",
    "    - общая площадь, количество комнат, высота потолков и этаж влияют на ценообразование\n",
    "    - сильнее всего на ценообразование влияет общая площадь, меньше всего - этаж"
   ]
  },
  {
   "cell_type": "markdown",
   "metadata": {},
   "source": [
    "### Шаг 5. Общий вывод"
   ]
  },
  {
   "cell_type": "markdown",
   "metadata": {},
   "source": [
    "В данной работе идет поиск параметров, которые влияют на ценообразование. Данные, которые были предоставлены, были с проблемами, а именно:\n",
    "    - Пропущенные значения\n",
    "    - Несоответствие типов данных\n",
    "Была выполнена предобработка данных для последующего анализа. были заполнены пропуски или удалены некоторые значения (см шаг 2).\n",
    "Затем были рассчитаны дополнительные параметры для оценки.\n",
    "После чего начался поиск параметров, которые влияют на ценообразование квартир. Такими параметрами являются:\n",
    "    - Общая площадь недвижимости\n",
    "    - Количество комнат\n",
    "    - Этаж\n",
    "    - Высота потолков\n",
    "Неожиданностью для меня стало то, что расстояние до центра нас.пункта не особо влияет на ценообразование. "
   ]
  }
 ],
 "metadata": {
  "kernelspec": {
   "display_name": "Python 3",
   "language": "python",
   "name": "python3"
  },
  "language_info": {
   "codemirror_mode": {
    "name": "ipython",
    "version": 3
   },
   "file_extension": ".py",
   "mimetype": "text/x-python",
   "name": "python",
   "nbconvert_exporter": "python",
   "pygments_lexer": "ipython3",
   "version": "3.8.3"
  }
 },
 "nbformat": 4,
 "nbformat_minor": 2
}
