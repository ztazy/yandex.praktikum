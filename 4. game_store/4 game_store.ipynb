{
 "cells": [
  {
   "cell_type": "markdown",
   "metadata": {},
   "source": [
    "Суть данного проекта: оценка игрового рынка и предположительный прогноз на 2017 год для магазина, занимающегося продажей игры на разных платформах. Для этого был предоставлен набор данных (спаршеный с metacritic?) со следующими признаками:\n",
    "1. Name — название игры\n",
    "1. Platform — платформа\n",
    "1. Year_of_Release — год выпуска\n",
    "1. Genre — жанр игры\n",
    "1. NA_sales — продажи в Северной Америке (миллионы долларов)\n",
    "1. EU_sales — продажи в Европе (миллионы долларов)\n",
    "1. JP_sales — продажи в Японии (миллионы долларов)\n",
    "1. Other_sales — продажи в других странах (миллионы долларов)\n",
    "1. Critic_Score — оценка критиков (максимум 100)\n",
    "1. User_Score — оценка пользователей (максимум 10)\n",
    "1. Rating — рейтинг от организации ESRB "
   ]
  },
  {
   "cell_type": "markdown",
   "metadata": {},
   "source": [
    "[1. Окрываю данные...](#opendata)\n",
    "\n",
    "[1.1 Описываю проблемы в данных...](#opendatares)\n",
    "\n",
    "[2. Предобрабатываю данные...](#preproc)\n",
    "\n",
    "[2.1 Описываю как заполнил пропуски...](#preprocres)\n",
    "\n",
    "[3. Провожу исследовательский анализ...](#researchanalys)\n",
    "\n",
    "[3.1 Описываю результаты исследовательского анализа...](#researchanalysres)\n",
    "\n",
    "[4. Определяю портрет пользователя...](#userportrait)\n",
    "\n",
    "[4.1 Результаты опредленеия портрета пользователя по рынкам...](#userportraitres)\n",
    "\n",
    "[5 Проверяю гипотезы...](#hypotheses)\n",
    "\n",
    "[5.1 Результаты проверки гипотезы...](#hypothesesres)\n",
    "\n",
    "[6. Описываю выводы по работе...](#hypothesesres)"
   ]
  },
  {
   "cell_type": "code",
   "execution_count": 1,
   "metadata": {},
   "outputs": [],
   "source": [
    "import pandas as pd\n",
    "from sklearn.preprocessing import LabelEncoder\n",
    "import matplotlib.pyplot as plt\n",
    "import seaborn as sns\n",
    "from pylab import rcParams\n",
    "from scipy import stats as st\n",
    "import warnings\n",
    "warnings.filterwarnings(\"ignore\")"
   ]
  },
  {
   "cell_type": "markdown",
   "metadata": {},
   "source": [
    "<a id='opendata'></a>\n",
    "<H2>Окрытие данных</H2>\n",
    "\n",
    "Для начала необходимо открыть датасет и оценить в каких фичах есть пропуски, корректно ли приведены типы данных у фич"
   ]
  },
  {
   "cell_type": "code",
   "execution_count": 2,
   "metadata": {},
   "outputs": [],
   "source": [
    "games = pd.read_csv('/datasets/games.csv')"
   ]
  },
  {
   "cell_type": "code",
   "execution_count": 3,
   "metadata": {},
   "outputs": [
    {
     "data": {
      "text/html": [
       "<div>\n",
       "<style scoped>\n",
       "    .dataframe tbody tr th:only-of-type {\n",
       "        vertical-align: middle;\n",
       "    }\n",
       "\n",
       "    .dataframe tbody tr th {\n",
       "        vertical-align: top;\n",
       "    }\n",
       "\n",
       "    .dataframe thead th {\n",
       "        text-align: right;\n",
       "    }\n",
       "</style>\n",
       "<table border=\"1\" class=\"dataframe\">\n",
       "  <thead>\n",
       "    <tr style=\"text-align: right;\">\n",
       "      <th></th>\n",
       "      <th>Name</th>\n",
       "      <th>Platform</th>\n",
       "      <th>Year_of_Release</th>\n",
       "      <th>Genre</th>\n",
       "      <th>NA_sales</th>\n",
       "      <th>EU_sales</th>\n",
       "      <th>JP_sales</th>\n",
       "      <th>Other_sales</th>\n",
       "      <th>Critic_Score</th>\n",
       "      <th>User_Score</th>\n",
       "      <th>Rating</th>\n",
       "    </tr>\n",
       "  </thead>\n",
       "  <tbody>\n",
       "    <tr>\n",
       "      <td>0</td>\n",
       "      <td>Wii Sports</td>\n",
       "      <td>Wii</td>\n",
       "      <td>2006.0</td>\n",
       "      <td>Sports</td>\n",
       "      <td>41.36</td>\n",
       "      <td>28.96</td>\n",
       "      <td>3.77</td>\n",
       "      <td>8.45</td>\n",
       "      <td>76.0</td>\n",
       "      <td>8</td>\n",
       "      <td>E</td>\n",
       "    </tr>\n",
       "    <tr>\n",
       "      <td>1</td>\n",
       "      <td>Super Mario Bros.</td>\n",
       "      <td>NES</td>\n",
       "      <td>1985.0</td>\n",
       "      <td>Platform</td>\n",
       "      <td>29.08</td>\n",
       "      <td>3.58</td>\n",
       "      <td>6.81</td>\n",
       "      <td>0.77</td>\n",
       "      <td>NaN</td>\n",
       "      <td>NaN</td>\n",
       "      <td>NaN</td>\n",
       "    </tr>\n",
       "    <tr>\n",
       "      <td>2</td>\n",
       "      <td>Mario Kart Wii</td>\n",
       "      <td>Wii</td>\n",
       "      <td>2008.0</td>\n",
       "      <td>Racing</td>\n",
       "      <td>15.68</td>\n",
       "      <td>12.76</td>\n",
       "      <td>3.79</td>\n",
       "      <td>3.29</td>\n",
       "      <td>82.0</td>\n",
       "      <td>8.3</td>\n",
       "      <td>E</td>\n",
       "    </tr>\n",
       "    <tr>\n",
       "      <td>3</td>\n",
       "      <td>Wii Sports Resort</td>\n",
       "      <td>Wii</td>\n",
       "      <td>2009.0</td>\n",
       "      <td>Sports</td>\n",
       "      <td>15.61</td>\n",
       "      <td>10.93</td>\n",
       "      <td>3.28</td>\n",
       "      <td>2.95</td>\n",
       "      <td>80.0</td>\n",
       "      <td>8</td>\n",
       "      <td>E</td>\n",
       "    </tr>\n",
       "    <tr>\n",
       "      <td>4</td>\n",
       "      <td>Pokemon Red/Pokemon Blue</td>\n",
       "      <td>GB</td>\n",
       "      <td>1996.0</td>\n",
       "      <td>Role-Playing</td>\n",
       "      <td>11.27</td>\n",
       "      <td>8.89</td>\n",
       "      <td>10.22</td>\n",
       "      <td>1.00</td>\n",
       "      <td>NaN</td>\n",
       "      <td>NaN</td>\n",
       "      <td>NaN</td>\n",
       "    </tr>\n",
       "    <tr>\n",
       "      <td>5</td>\n",
       "      <td>Tetris</td>\n",
       "      <td>GB</td>\n",
       "      <td>1989.0</td>\n",
       "      <td>Puzzle</td>\n",
       "      <td>23.20</td>\n",
       "      <td>2.26</td>\n",
       "      <td>4.22</td>\n",
       "      <td>0.58</td>\n",
       "      <td>NaN</td>\n",
       "      <td>NaN</td>\n",
       "      <td>NaN</td>\n",
       "    </tr>\n",
       "    <tr>\n",
       "      <td>6</td>\n",
       "      <td>New Super Mario Bros.</td>\n",
       "      <td>DS</td>\n",
       "      <td>2006.0</td>\n",
       "      <td>Platform</td>\n",
       "      <td>11.28</td>\n",
       "      <td>9.14</td>\n",
       "      <td>6.50</td>\n",
       "      <td>2.88</td>\n",
       "      <td>89.0</td>\n",
       "      <td>8.5</td>\n",
       "      <td>E</td>\n",
       "    </tr>\n",
       "    <tr>\n",
       "      <td>7</td>\n",
       "      <td>Wii Play</td>\n",
       "      <td>Wii</td>\n",
       "      <td>2006.0</td>\n",
       "      <td>Misc</td>\n",
       "      <td>13.96</td>\n",
       "      <td>9.18</td>\n",
       "      <td>2.93</td>\n",
       "      <td>2.84</td>\n",
       "      <td>58.0</td>\n",
       "      <td>6.6</td>\n",
       "      <td>E</td>\n",
       "    </tr>\n",
       "    <tr>\n",
       "      <td>8</td>\n",
       "      <td>New Super Mario Bros. Wii</td>\n",
       "      <td>Wii</td>\n",
       "      <td>2009.0</td>\n",
       "      <td>Platform</td>\n",
       "      <td>14.44</td>\n",
       "      <td>6.94</td>\n",
       "      <td>4.70</td>\n",
       "      <td>2.24</td>\n",
       "      <td>87.0</td>\n",
       "      <td>8.4</td>\n",
       "      <td>E</td>\n",
       "    </tr>\n",
       "    <tr>\n",
       "      <td>9</td>\n",
       "      <td>Duck Hunt</td>\n",
       "      <td>NES</td>\n",
       "      <td>1984.0</td>\n",
       "      <td>Shooter</td>\n",
       "      <td>26.93</td>\n",
       "      <td>0.63</td>\n",
       "      <td>0.28</td>\n",
       "      <td>0.47</td>\n",
       "      <td>NaN</td>\n",
       "      <td>NaN</td>\n",
       "      <td>NaN</td>\n",
       "    </tr>\n",
       "  </tbody>\n",
       "</table>\n",
       "</div>"
      ],
      "text/plain": [
       "                        Name Platform  Year_of_Release         Genre  \\\n",
       "0                 Wii Sports      Wii           2006.0        Sports   \n",
       "1          Super Mario Bros.      NES           1985.0      Platform   \n",
       "2             Mario Kart Wii      Wii           2008.0        Racing   \n",
       "3          Wii Sports Resort      Wii           2009.0        Sports   \n",
       "4   Pokemon Red/Pokemon Blue       GB           1996.0  Role-Playing   \n",
       "5                     Tetris       GB           1989.0        Puzzle   \n",
       "6      New Super Mario Bros.       DS           2006.0      Platform   \n",
       "7                   Wii Play      Wii           2006.0          Misc   \n",
       "8  New Super Mario Bros. Wii      Wii           2009.0      Platform   \n",
       "9                  Duck Hunt      NES           1984.0       Shooter   \n",
       "\n",
       "   NA_sales  EU_sales  JP_sales  Other_sales  Critic_Score User_Score Rating  \n",
       "0     41.36     28.96      3.77         8.45          76.0          8      E  \n",
       "1     29.08      3.58      6.81         0.77           NaN        NaN    NaN  \n",
       "2     15.68     12.76      3.79         3.29          82.0        8.3      E  \n",
       "3     15.61     10.93      3.28         2.95          80.0          8      E  \n",
       "4     11.27      8.89     10.22         1.00           NaN        NaN    NaN  \n",
       "5     23.20      2.26      4.22         0.58           NaN        NaN    NaN  \n",
       "6     11.28      9.14      6.50         2.88          89.0        8.5      E  \n",
       "7     13.96      9.18      2.93         2.84          58.0        6.6      E  \n",
       "8     14.44      6.94      4.70         2.24          87.0        8.4      E  \n",
       "9     26.93      0.63      0.28         0.47           NaN        NaN    NaN  "
      ]
     },
     "execution_count": 3,
     "metadata": {},
     "output_type": "execute_result"
    }
   ],
   "source": [
    "games.head(10)"
   ]
  },
  {
   "cell_type": "code",
   "execution_count": 4,
   "metadata": {},
   "outputs": [
    {
     "data": {
      "text/html": [
       "<div>\n",
       "<style scoped>\n",
       "    .dataframe tbody tr th:only-of-type {\n",
       "        vertical-align: middle;\n",
       "    }\n",
       "\n",
       "    .dataframe tbody tr th {\n",
       "        vertical-align: top;\n",
       "    }\n",
       "\n",
       "    .dataframe thead th {\n",
       "        text-align: right;\n",
       "    }\n",
       "</style>\n",
       "<table border=\"1\" class=\"dataframe\">\n",
       "  <thead>\n",
       "    <tr style=\"text-align: right;\">\n",
       "      <th></th>\n",
       "      <th>Name</th>\n",
       "      <th>Platform</th>\n",
       "      <th>Year_of_Release</th>\n",
       "      <th>Genre</th>\n",
       "      <th>NA_sales</th>\n",
       "      <th>EU_sales</th>\n",
       "      <th>JP_sales</th>\n",
       "      <th>Other_sales</th>\n",
       "      <th>Critic_Score</th>\n",
       "      <th>User_Score</th>\n",
       "      <th>Rating</th>\n",
       "    </tr>\n",
       "  </thead>\n",
       "  <tbody>\n",
       "    <tr>\n",
       "      <td>16712</td>\n",
       "      <td>Haitaka no Psychedelica</td>\n",
       "      <td>PSV</td>\n",
       "      <td>2016.0</td>\n",
       "      <td>Adventure</td>\n",
       "      <td>0.00</td>\n",
       "      <td>0.0</td>\n",
       "      <td>0.01</td>\n",
       "      <td>0.0</td>\n",
       "      <td>NaN</td>\n",
       "      <td>NaN</td>\n",
       "      <td>NaN</td>\n",
       "    </tr>\n",
       "    <tr>\n",
       "      <td>16713</td>\n",
       "      <td>Spirits &amp; Spells</td>\n",
       "      <td>GBA</td>\n",
       "      <td>2003.0</td>\n",
       "      <td>Platform</td>\n",
       "      <td>0.01</td>\n",
       "      <td>0.0</td>\n",
       "      <td>0.00</td>\n",
       "      <td>0.0</td>\n",
       "      <td>NaN</td>\n",
       "      <td>NaN</td>\n",
       "      <td>NaN</td>\n",
       "    </tr>\n",
       "    <tr>\n",
       "      <td>16714</td>\n",
       "      <td>Winning Post 8 2016</td>\n",
       "      <td>PSV</td>\n",
       "      <td>2016.0</td>\n",
       "      <td>Simulation</td>\n",
       "      <td>0.00</td>\n",
       "      <td>0.0</td>\n",
       "      <td>0.01</td>\n",
       "      <td>0.0</td>\n",
       "      <td>NaN</td>\n",
       "      <td>NaN</td>\n",
       "      <td>NaN</td>\n",
       "    </tr>\n",
       "  </tbody>\n",
       "</table>\n",
       "</div>"
      ],
      "text/plain": [
       "                          Name Platform  Year_of_Release       Genre  \\\n",
       "16712  Haitaka no Psychedelica      PSV           2016.0   Adventure   \n",
       "16713         Spirits & Spells      GBA           2003.0    Platform   \n",
       "16714      Winning Post 8 2016      PSV           2016.0  Simulation   \n",
       "\n",
       "       NA_sales  EU_sales  JP_sales  Other_sales  Critic_Score User_Score  \\\n",
       "16712      0.00       0.0      0.01          0.0           NaN        NaN   \n",
       "16713      0.01       0.0      0.00          0.0           NaN        NaN   \n",
       "16714      0.00       0.0      0.01          0.0           NaN        NaN   \n",
       "\n",
       "      Rating  \n",
       "16712    NaN  \n",
       "16713    NaN  \n",
       "16714    NaN  "
      ]
     },
     "execution_count": 4,
     "metadata": {},
     "output_type": "execute_result"
    }
   ],
   "source": [
    "games.tail(3)"
   ]
  },
  {
   "cell_type": "code",
   "execution_count": 5,
   "metadata": {},
   "outputs": [
    {
     "name": "stdout",
     "output_type": "stream",
     "text": [
      "<class 'pandas.core.frame.DataFrame'>\n",
      "RangeIndex: 16715 entries, 0 to 16714\n",
      "Data columns (total 11 columns):\n",
      "Name               16713 non-null object\n",
      "Platform           16715 non-null object\n",
      "Year_of_Release    16446 non-null float64\n",
      "Genre              16713 non-null object\n",
      "NA_sales           16715 non-null float64\n",
      "EU_sales           16715 non-null float64\n",
      "JP_sales           16715 non-null float64\n",
      "Other_sales        16715 non-null float64\n",
      "Critic_Score       8137 non-null float64\n",
      "User_Score         10014 non-null object\n",
      "Rating             9949 non-null object\n",
      "dtypes: float64(6), object(5)\n",
      "memory usage: 1.4+ MB\n"
     ]
    }
   ],
   "source": [
    "games.info()"
   ]
  },
  {
   "cell_type": "markdown",
   "metadata": {},
   "source": [
    "<a id='opendatares'></a>\n",
    "<H4>Выводы</H4>\n",
    "\n",
    "В представленном наборе данных есть пропуски в полях:\n",
    "- Name: 2 значения\n",
    "- Year_of_Release: 269 значений\n",
    "- Genre: 2 значения\n",
    "- Critic_Score: 8578 значений\n",
    "- User_Score: 6701 значений\n",
    "- Rating: 6766 значений\n",
    "\n",
    "Также есть проблемы с типами данных:\n",
    "- Year_of_Release: представлен в float, но так как это год, то лучше представить значение в int"
   ]
  },
  {
   "cell_type": "markdown",
   "metadata": {},
   "source": [
    "<a id='preproc'></a>\n",
    "<H2>Предобработка данных</H2>\n",
    "\n",
    "Для начала приведу названия фич к нижнему регистру для удобного обращения"
   ]
  },
  {
   "cell_type": "code",
   "execution_count": 6,
   "metadata": {},
   "outputs": [],
   "source": [
    "games.columns = map(str.lower, games.columns)\n",
    "games['name'] = games['name'].str.lower()\n",
    "games['platform'] = games['platform'].str.lower()\n",
    "games['genre'] = games['genre'].str.lower()"
   ]
  },
  {
   "cell_type": "markdown",
   "metadata": {},
   "source": [
    "Надо исправить тип данных для года. Но для начала надо заполнить пропуски в этом поле нетипичным значением, это будет -1"
   ]
  },
  {
   "cell_type": "code",
   "execution_count": 7,
   "metadata": {},
   "outputs": [],
   "source": [
    "games['year_of_release'].fillna(value=-1, inplace=True)\n",
    "games['year_of_release'] = games['year_of_release'].astype('int32')"
   ]
  },
  {
   "cell_type": "markdown",
   "metadata": {},
   "source": [
    "Откинем строки с проущенными значениями в имени"
   ]
  },
  {
   "cell_type": "code",
   "execution_count": 8,
   "metadata": {},
   "outputs": [],
   "source": [
    "games.dropna(subset = ['name'], inplace = True)"
   ]
  },
  {
   "cell_type": "code",
   "execution_count": 9,
   "metadata": {},
   "outputs": [
    {
     "data": {
      "text/plain": [
       "0"
      ]
     },
     "execution_count": 9,
     "metadata": {},
     "output_type": "execute_result"
    }
   ],
   "source": [
    "games['platform'].isnull().sum()"
   ]
  },
  {
   "cell_type": "markdown",
   "metadata": {},
   "source": [
    "Откинув строки с пустым названием игры избавился и от строк с пустым жанром, отлично \n",
    "\n",
    "Создаю столбец по суммарным продажам во всех регионах\n"
   ]
  },
  {
   "cell_type": "code",
   "execution_count": 10,
   "metadata": {},
   "outputs": [],
   "source": [
    "games['all_sales'] = games['na_sales'] + games['eu_sales'] + games['jp_sales'] + games['other_sales']"
   ]
  },
  {
   "cell_type": "markdown",
   "metadata": {},
   "source": [
    "Закодируем категориалные переменные для поиска зависимостей для заполнения пропусков"
   ]
  },
  {
   "cell_type": "code",
   "execution_count": 11,
   "metadata": {},
   "outputs": [],
   "source": [
    "le = LabelEncoder()\n",
    "le.fit(games.platform)\n",
    "games['platform_code'] = le.transform(games.platform)"
   ]
  },
  {
   "cell_type": "code",
   "execution_count": 12,
   "metadata": {},
   "outputs": [],
   "source": [
    "le.fit(games.genre)\n",
    "games['genre_code'] = le.transform(games.genre)"
   ]
  },
  {
   "cell_type": "markdown",
   "metadata": {},
   "source": [
    "Отфильтруем датасет для получения полностью заполненых строк"
   ]
  },
  {
   "cell_type": "code",
   "execution_count": 13,
   "metadata": {},
   "outputs": [],
   "source": [
    " games_tst = games.query('critic_score != \"NaN\" and user_score != \"NaN\" and year_of_release != \"NaN\" and genre != \"NaN\" and rating != \"NaN\"')"
   ]
  },
  {
   "cell_type": "markdown",
   "metadata": {},
   "source": [
    "Поиск корелляций "
   ]
  },
  {
   "cell_type": "code",
   "execution_count": 14,
   "metadata": {},
   "outputs": [
    {
     "data": {
      "text/html": [
       "<div>\n",
       "<style scoped>\n",
       "    .dataframe tbody tr th:only-of-type {\n",
       "        vertical-align: middle;\n",
       "    }\n",
       "\n",
       "    .dataframe tbody tr th {\n",
       "        vertical-align: top;\n",
       "    }\n",
       "\n",
       "    .dataframe thead th {\n",
       "        text-align: right;\n",
       "    }\n",
       "</style>\n",
       "<table border=\"1\" class=\"dataframe\">\n",
       "  <thead>\n",
       "    <tr style=\"text-align: right;\">\n",
       "      <th></th>\n",
       "      <th>critic_score</th>\n",
       "      <th>platform_code</th>\n",
       "      <th>genre_code</th>\n",
       "      <th>all_sales</th>\n",
       "      <th>year_of_release</th>\n",
       "    </tr>\n",
       "  </thead>\n",
       "  <tbody>\n",
       "    <tr>\n",
       "      <td>critic_score</td>\n",
       "      <td>1.000000</td>\n",
       "      <td>0.022083</td>\n",
       "      <td>0.140810</td>\n",
       "      <td>0.245507</td>\n",
       "      <td>0.013954</td>\n",
       "    </tr>\n",
       "    <tr>\n",
       "      <td>platform_code</td>\n",
       "      <td>0.022083</td>\n",
       "      <td>1.000000</td>\n",
       "      <td>0.018992</td>\n",
       "      <td>0.049295</td>\n",
       "      <td>-0.012701</td>\n",
       "    </tr>\n",
       "    <tr>\n",
       "      <td>genre_code</td>\n",
       "      <td>0.140810</td>\n",
       "      <td>0.018992</td>\n",
       "      <td>1.000000</td>\n",
       "      <td>0.007807</td>\n",
       "      <td>-0.006758</td>\n",
       "    </tr>\n",
       "    <tr>\n",
       "      <td>all_sales</td>\n",
       "      <td>0.245507</td>\n",
       "      <td>0.049295</td>\n",
       "      <td>0.007807</td>\n",
       "      <td>1.000000</td>\n",
       "      <td>0.017840</td>\n",
       "    </tr>\n",
       "    <tr>\n",
       "      <td>year_of_release</td>\n",
       "      <td>0.013954</td>\n",
       "      <td>-0.012701</td>\n",
       "      <td>-0.006758</td>\n",
       "      <td>0.017840</td>\n",
       "      <td>1.000000</td>\n",
       "    </tr>\n",
       "  </tbody>\n",
       "</table>\n",
       "</div>"
      ],
      "text/plain": [
       "                 critic_score  platform_code  genre_code  all_sales  \\\n",
       "critic_score         1.000000       0.022083    0.140810   0.245507   \n",
       "platform_code        0.022083       1.000000    0.018992   0.049295   \n",
       "genre_code           0.140810       0.018992    1.000000   0.007807   \n",
       "all_sales            0.245507       0.049295    0.007807   1.000000   \n",
       "year_of_release      0.013954      -0.012701   -0.006758   0.017840   \n",
       "\n",
       "                 year_of_release  \n",
       "critic_score            0.013954  \n",
       "platform_code          -0.012701  \n",
       "genre_code             -0.006758  \n",
       "all_sales               0.017840  \n",
       "year_of_release         1.000000  "
      ]
     },
     "execution_count": 14,
     "metadata": {},
     "output_type": "execute_result"
    }
   ],
   "source": [
    "game_stat_multi = games_tst.loc[:, ['critic_score', 'platform_code', 'genre_code', 'all_sales', 'year_of_release']]\n",
    "game_stat_multi.corr()"
   ]
  },
  {
   "cell_type": "markdown",
   "metadata": {},
   "source": [
    "Зависимостей нет, заполняю пропуски нетипичными значениями для более простой фильтрации"
   ]
  },
  {
   "cell_type": "code",
   "execution_count": 15,
   "metadata": {},
   "outputs": [],
   "source": [
    "games['critic_score'].fillna(value=-1, inplace=True)"
   ]
  },
  {
   "cell_type": "code",
   "execution_count": 16,
   "metadata": {},
   "outputs": [],
   "source": [
    "games['user_score'].fillna(value=-1, inplace=True)"
   ]
  },
  {
   "cell_type": "markdown",
   "metadata": {},
   "source": [
    "<a id='preprocres'></a>\n",
    "<H4>Выводы</H4>\n",
    "\n",
    "Все пропуски были заполнены нетипичными значениями для последующей удобной фильтрации\n",
    "Названия столбцов и значения категориальных столбцов были приведены к нижнему регистру \n",
    "Так же категориальные переменные были закодированы для поиска статисической зависимости. Но никаких зависимостей не было найдено, поэтому все пропуски были заполнены нетипичными значениями"
   ]
  },
  {
   "cell_type": "markdown",
   "metadata": {},
   "source": [
    "<a id='researchanalys'></a>\n",
    "<H2>Исследовательский анализ данных</H2>"
   ]
  },
  {
   "cell_type": "markdown",
   "metadata": {},
   "source": [
    "Смотрю распределение количества игр по годам"
   ]
  },
  {
   "cell_type": "code",
   "execution_count": 17,
   "metadata": {
    "scrolled": false
   },
   "outputs": [
    {
     "data": {
      "text/plain": [
       "year_of_release\n",
       "-1        269\n",
       " 1980       9\n",
       " 1981      46\n",
       " 1982      36\n",
       " 1983      17\n",
       " 1984      14\n",
       " 1985      14\n",
       " 1986      21\n",
       " 1987      16\n",
       " 1988      15\n",
       " 1989      17\n",
       " 1990      16\n",
       " 1991      41\n",
       " 1992      43\n",
       " 1993      60\n",
       " 1994     121\n",
       " 1995     219\n",
       " 1996     263\n",
       " 1997     289\n",
       " 1998     379\n",
       " 1999     338\n",
       " 2000     350\n",
       " 2001     482\n",
       " 2002     829\n",
       " 2003     775\n",
       " 2004     762\n",
       " 2005     939\n",
       " 2006    1006\n",
       " 2007    1197\n",
       " 2008    1427\n",
       " 2009    1426\n",
       " 2010    1255\n",
       " 2011    1136\n",
       " 2012     653\n",
       " 2013     544\n",
       " 2014     581\n",
       " 2015     606\n",
       " 2016     502\n",
       "Name: name, dtype: int64"
      ]
     },
     "execution_count": 17,
     "metadata": {},
     "output_type": "execute_result"
    }
   ],
   "source": [
    "games.groupby(['year_of_release'])['name'].count()"
   ]
  },
  {
   "cell_type": "markdown",
   "metadata": {},
   "source": [
    "Начиная с 91 года по 02 количство игр растет, пик выпуска игр был в 08-09 годах"
   ]
  },
  {
   "cell_type": "code",
   "execution_count": 18,
   "metadata": {},
   "outputs": [],
   "source": [
    "platform_name = games.pivot_table(index='platform', values='all_sales', aggfunc='sum').sort_values(by='all_sales').query('all_sales>259').reset_index()['platform'].tolist()"
   ]
  },
  {
   "cell_type": "code",
   "execution_count": 19,
   "metadata": {},
   "outputs": [],
   "source": [
    "df_for_graph = games.query('year_of_release>0').pivot_table(index=['platform', 'year_of_release'], values='all_sales', aggfunc='sum').reset_index()"
   ]
  },
  {
   "cell_type": "code",
   "execution_count": 76,
   "metadata": {
    "scrolled": true
   },
   "outputs": [
    {
     "data": {
      "image/png": "[encoded data removed]",
      "text/plain": [
       "<Figure size 1440x360 with 1 Axes>"
      ]
     },
     "metadata": {
      "needs_background": "light"
     },
     "output_type": "display_data"
    },
    {
     "data": {
      "image/png": "[encoded data removed]",
      "text/plain": [
       "<Figure size 1440x360 with 1 Axes>"
      ]
     },
     "metadata": {
      "needs_background": "light"
     },
     "output_type": "display_data"
    },
    {
     "data": {
      "image/png": "[encoded data removed]",
      "text/plain": [
       "<Figure size 1440x360 with 1 Axes>"
      ]
     },
     "metadata": {
      "needs_background": "light"
     },
     "output_type": "display_data"
    },
    {
     "data": {
      "image/png": "[encoded data removed]",
      "text/plain": [
       "<Figure size 1440x360 with 1 Axes>"
      ]
     },
     "metadata": {
      "needs_background": "light"
     },
     "output_type": "display_data"
    },
    {
     "data": {
      "image/png": "[encoded data removed]",
      "text/plain": [
       "<Figure size 1440x360 with 1 Axes>"
      ]
     },
     "metadata": {
      "needs_background": "light"
     },
     "output_type": "display_data"
    },
    {
     "data": {
      "image/png": "[encoded data removed]",
      "text/plain": [
       "<Figure size 1440x360 with 1 Axes>"
      ]
     },
     "metadata": {
      "needs_background": "light"
     },
     "output_type": "display_data"
    },
    {
     "data": {
      "image/png": "[encoded data removed]",
      "text/plain": [
       "<Figure size 1440x360 with 1 Axes>"
      ]
     },
     "metadata": {
      "needs_background": "light"
     },
     "output_type": "display_data"
    },
    {
     "data": {
      "image/png": "[encoded data removed]",
      "text/plain": [
       "<Figure size 1440x360 with 1 Axes>"
      ]
     },
     "metadata": {
      "needs_background": "light"
     },
     "output_type": "display_data"
    },
    {
     "data": {
      "image/png": "[encoded data removed]",
      "text/plain": [
       "<Figure size 1440x360 with 1 Axes>"
      ]
     },
     "metadata": {
      "needs_background": "light"
     },
     "output_type": "display_data"
    },
    {
     "data": {
      "image/png": "[encoded data removed]",
      "text/plain": [
       "<Figure size 1440x360 with 1 Axes>"
      ]
     },
     "metadata": {
      "needs_background": "light"
     },
     "output_type": "display_data"
    }
   ],
   "source": [
    "rcParams['figure.figsize'] = 20, 5\n",
    "for platform in platform_name:\n",
    "    tmp = df_for_graph.query('platform==@platform')\n",
    "    tmp.rename(columns={'all_sales':'Продажи во всех регионах, млн. долларов', 'year_of_release':'Год выхода, год'}, inplace=True)\n",
    "    plt.title(platform)\n",
    "#     plt.xlabel('Год выхода')\n",
    "#     plt.ylabel('Продажи во всех регионах, млн. долларов')\n",
    "    sns.barplot(x=\"Год выхода, год\", y=\"Продажи во всех регионах, млн. долларов\", data=tmp)\n",
    "    plt.show()"
   ]
  },
  {
   "cell_type": "markdown",
   "metadata": {},
   "source": [
    "Исходя из графиков видно, что срок жизни популярных консолей примерно 10 лет. Чего нельзя сказать о pc, но продажи на данной платформе оставляют желать лучшего, т.к. основная проблема pc это пиратство. На мой взгляд для прогноза на 2017 надо смотреть на рынок промежутком в 4 года, т.е. с 2013 года. Странно, что в список не попал xbox one, но фильтрация по году исправит данную ситуацию."
   ]
  },
  {
   "cell_type": "code",
   "execution_count": 21,
   "metadata": {},
   "outputs": [],
   "source": [
    "games_upd = games.query('year_of_release > 2012')"
   ]
  },
  {
   "cell_type": "code",
   "execution_count": 78,
   "metadata": {},
   "outputs": [],
   "source": [
    "games_upd.reset_index(drop=True,inplace=True)"
   ]
  },
  {
   "cell_type": "markdown",
   "metadata": {},
   "source": [
    "Собираю датафрейм с разбивкой по годам и платформам для просмотра сумм по продажам во всех регионах"
   ]
  },
  {
   "cell_type": "code",
   "execution_count": 23,
   "metadata": {},
   "outputs": [],
   "source": [
    "sales_by_year = games_upd.groupby(['year_of_release', 'platform'])[['all_sales']].sum().reset_index()"
   ]
  },
  {
   "cell_type": "markdown",
   "metadata": {},
   "source": [
    "Получаю список платформ для цикла"
   ]
  },
  {
   "cell_type": "code",
   "execution_count": 24,
   "metadata": {},
   "outputs": [],
   "source": [
    "platforms = sales_by_year['platform'].unique()"
   ]
  },
  {
   "cell_type": "code",
   "execution_count": 25,
   "metadata": {
    "scrolled": true
   },
   "outputs": [
    {
     "name": "stdout",
     "output_type": "stream",
     "text": [
      "    Год выхода, год Платформа  Продажи во всех регионах, млн. долларов\n",
      "0              2013       3ds                                    56.57\n",
      "11             2014       3ds                                    43.76\n",
      "21             2015       3ds                                    27.78\n",
      "31             2016       3ds                                    15.14\n"
     ]
    },
    {
     "data": {
      "image/png": "[encoded data removed]",
      "text/plain": [
       "<Figure size 576x360 with 1 Axes>"
      ]
     },
     "metadata": {
      "needs_background": "light"
     },
     "output_type": "display_data"
    },
    {
     "name": "stdout",
     "output_type": "stream",
     "text": [
      "   Год выхода, год Платформа  Продажи во всех регионах, млн. долларов\n",
      "1             2013        ds                                     1.54\n"
     ]
    },
    {
     "data": {
      "image/png": "[encoded data removed]",
      "text/plain": [
       "<Figure size 576x360 with 1 Axes>"
      ]
     },
     "metadata": {
      "needs_background": "light"
     },
     "output_type": "display_data"
    },
    {
     "name": "stdout",
     "output_type": "stream",
     "text": [
      "    Год выхода, год Платформа  Продажи во всех регионах, млн. долларов\n",
      "2              2013        pc                                    12.38\n",
      "12             2014        pc                                    13.28\n",
      "22             2015        pc                                     8.52\n",
      "32             2016        pc                                     5.25\n"
     ]
    },
    {
     "data": {
      "image/png": "[encoded data removed]",
      "text/plain": [
       "<Figure size 576x360 with 1 Axes>"
      ]
     },
     "metadata": {
      "needs_background": "light"
     },
     "output_type": "display_data"
    },
    {
     "name": "stdout",
     "output_type": "stream",
     "text": [
      "    Год выхода, год Платформа  Продажи во всех регионах, млн. долларов\n",
      "3              2013       ps3                                   113.25\n",
      "13             2014       ps3                                    47.76\n",
      "23             2015       ps3                                    16.82\n",
      "33             2016       ps3                                     3.60\n"
     ]
    },
    {
     "data": {
      "image/png": "[encoded data removed]",
      "text/plain": [
       "<Figure size 576x360 with 1 Axes>"
      ]
     },
     "metadata": {
      "needs_background": "light"
     },
     "output_type": "display_data"
    },
    {
     "name": "stdout",
     "output_type": "stream",
     "text": [
      "    Год выхода, год Платформа  Продажи во всех регионах, млн. долларов\n",
      "4              2013       ps4                                    25.99\n",
      "14             2014       ps4                                   100.00\n",
      "24             2015       ps4                                   118.90\n",
      "34             2016       ps4                                    69.25\n"
     ]
    },
    {
     "data": {
      "image/png": "[encoded data removed]",
      "text/plain": [
       "<Figure size 576x360 with 1 Axes>"
      ]
     },
     "metadata": {
      "needs_background": "light"
     },
     "output_type": "display_data"
    },
    {
     "name": "stdout",
     "output_type": "stream",
     "text": [
      "    Год выхода, год Платформа  Продажи во всех регионах, млн. долларов\n",
      "5              2013       psp                                     3.14\n",
      "15             2014       psp                                     0.24\n",
      "25             2015       psp                                     0.12\n"
     ]
    },
    {
     "data": {
      "image/png": "[encoded data removed]",
      "text/plain": [
       "<Figure size 576x360 with 1 Axes>"
      ]
     },
     "metadata": {
      "needs_background": "light"
     },
     "output_type": "display_data"
    },
    {
     "name": "stdout",
     "output_type": "stream",
     "text": [
      "    Год выхода, год Платформа  Продажи во всех регионах, млн. долларов\n",
      "6              2013       psv                                    10.59\n",
      "16             2014       psv                                    11.90\n",
      "26             2015       psv                                     6.25\n",
      "35             2016       psv                                     4.25\n"
     ]
    },
    {
     "data": {
      "image/png": "[encoded data removed]",
      "text/plain": [
       "<Figure size 576x360 with 1 Axes>"
      ]
     },
     "metadata": {
      "needs_background": "light"
     },
     "output_type": "display_data"
    },
    {
     "name": "stdout",
     "output_type": "stream",
     "text": [
      "    Год выхода, год Платформа  Продажи во всех регионах, млн. долларов\n",
      "7              2013       wii                                     8.59\n",
      "17             2014       wii                                     3.75\n",
      "27             2015       wii                                     1.14\n",
      "36             2016       wii                                     0.18\n"
     ]
    },
    {
     "data": {
      "image/png": "[encoded data removed]",
      "text/plain": [
       "<Figure size 576x360 with 1 Axes>"
      ]
     },
     "metadata": {
      "needs_background": "light"
     },
     "output_type": "display_data"
    },
    {
     "name": "stdout",
     "output_type": "stream",
     "text": [
      "    Год выхода, год Платформа  Продажи во всех регионах, млн. долларов\n",
      "8              2013      wiiu                                    21.65\n",
      "18             2014      wiiu                                    22.03\n",
      "28             2015      wiiu                                    16.35\n",
      "37             2016      wiiu                                     4.60\n"
     ]
    },
    {
     "data": {
      "image/png": "[encoded data removed]",
      "text/plain": [
       "<Figure size 576x360 with 1 Axes>"
      ]
     },
     "metadata": {
      "needs_background": "light"
     },
     "output_type": "display_data"
    },
    {
     "name": "stdout",
     "output_type": "stream",
     "text": [
      "    Год выхода, год Платформа  Продажи во всех регионах, млн. долларов\n",
      "9              2013      x360                                    88.58\n",
      "19             2014      x360                                    34.74\n",
      "29             2015      x360                                    11.96\n",
      "38             2016      x360                                     1.52\n"
     ]
    },
    {
     "data": {
      "image/png": "[encoded data removed]",
      "text/plain": [
       "<Figure size 576x360 with 1 Axes>"
      ]
     },
     "metadata": {
      "needs_background": "light"
     },
     "output_type": "display_data"
    },
    {
     "name": "stdout",
     "output_type": "stream",
     "text": [
      "    Год выхода, год Платформа  Продажи во всех регионах, млн. долларов\n",
      "10             2013      xone                                    18.96\n",
      "20             2014      xone                                    54.07\n",
      "30             2015      xone                                    60.14\n",
      "39             2016      xone                                    26.15\n"
     ]
    },
    {
     "data": {
      "image/png": "[encoded data removed]",
      "text/plain": [
       "<Figure size 576x360 with 1 Axes>"
      ]
     },
     "metadata": {
      "needs_background": "light"
     },
     "output_type": "display_data"
    }
   ],
   "source": [
    "rcParams['figure.figsize'] = 8, 5\n",
    "for platform in platforms:\n",
    "    graph = sales_by_year.query('platform == @platform')\n",
    "    graph.rename(columns={'all_sales':'Продажи во всех регионах, млн. долларов', 'platform':'Платформа', 'year_of_release':'Год выхода, год'}, inplace=True)\n",
    "    print(graph)\n",
    "    plt.title(platform)\n",
    "    sns.barplot(x=\"Год выхода, год\", y=\"Продажи во всех регионах, млн. долларов\", data=graph)\n",
    "    plt.show()"
   ]
  },
  {
   "cell_type": "markdown",
   "metadata": {},
   "source": [
    "Как видно из графиков ни у одной из платформ нет тенденции роста, но если смотреть на суммарный объем продаж, то можно выделить 3: ps4 (как лидера продаж), 3ds и xbox one "
   ]
  },
  {
   "cell_type": "markdown",
   "metadata": {},
   "source": [
    "Отфильтрую исходный датафрейм для получения данных по нужным платформам и год больше 2012"
   ]
  },
  {
   "cell_type": "code",
   "execution_count": 26,
   "metadata": {},
   "outputs": [],
   "source": [
    "games_filtered = games.query('year_of_release > 2012 and platform == \"ps4\" or platform == \"3ds\" or platform == \"xone\"').reset_index()"
   ]
  },
  {
   "cell_type": "markdown",
   "metadata": {},
   "source": [
    "Далее строю диаграммы размаха по рассматреиваемым платформам и сумме проданных игр"
   ]
  },
  {
   "cell_type": "code",
   "execution_count": 27,
   "metadata": {
    "scrolled": false
   },
   "outputs": [
    {
     "data": {
      "text/plain": [
       "0.8013775510204081"
      ]
     },
     "execution_count": 27,
     "metadata": {},
     "output_type": "execute_result"
    },
    {
     "data": {
      "image/png": "[encoded data removed]",
      "text/plain": [
       "<Figure size 1440x360 with 1 Axes>"
      ]
     },
     "metadata": {
      "needs_background": "light"
     },
     "output_type": "display_data"
    }
   ],
   "source": [
    "rcParams['figure.figsize'] = 20, 5\n",
    "plt.title(\"Диаграмма размаха по продажам для PS4\")\n",
    "sns.boxplot(x=games_filtered.query('platform==\"ps4\"')['all_sales'])\n",
    "plt.xlabel('Продажи во всех регионах, млн. долларов')\n",
    "games_filtered.query('platform==\"ps4\"')['all_sales'].mean()"
   ]
  },
  {
   "cell_type": "code",
   "execution_count": 28,
   "metadata": {},
   "outputs": [
    {
     "data": {
      "text/plain": [
       "0.6450202429149797"
      ]
     },
     "execution_count": 28,
     "metadata": {},
     "output_type": "execute_result"
    },
    {
     "data": {
      "image/png": "[encoded data removed]",
      "text/plain": [
       "<Figure size 1440x360 with 1 Axes>"
      ]
     },
     "metadata": {
      "needs_background": "light"
     },
     "output_type": "display_data"
    }
   ],
   "source": [
    "plt.title(\"Диаграмма размаха по продажам для XBOX ONE\")\n",
    "sns.boxplot(x=games_filtered.query('platform==\"xone\"')['all_sales'])\n",
    "plt.xlabel('Продажи во всех регионах, млн. долларов')\n",
    "games_filtered.query('platform==\"xone\"')['all_sales'].mean()"
   ]
  },
  {
   "cell_type": "code",
   "execution_count": 29,
   "metadata": {},
   "outputs": [
    {
     "data": {
      "text/plain": [
       "0.4980769230769232"
      ]
     },
     "execution_count": 29,
     "metadata": {},
     "output_type": "execute_result"
    },
    {
     "data": {
      "image/png": "[encoded data removed]",
      "text/plain": [
       "<Figure size 1440x360 with 1 Axes>"
      ]
     },
     "metadata": {
      "needs_background": "light"
     },
     "output_type": "display_data"
    }
   ],
   "source": [
    "plt.title(\"Диаграмма размаха по продажам для 3DS\")\n",
    "sns.boxplot(x=games_filtered.query('platform==\"3ds\"')['all_sales'])\n",
    "plt.xlabel('Продажи во всех регионах, млн. долларов')\n",
    "games_filtered.query('platform==\"3ds\"')['all_sales'].mean()"
   ]
  },
  {
   "cell_type": "markdown",
   "metadata": {},
   "source": [
    "Топ по средней продаваемости одной игры следующий\n",
    "- ps4\n",
    "- xbox one\n",
    "- 3ds\n",
    "\n",
    "Но некоторые игры на ps4 и 3ds принесли выручку в почти 15 млн долларов, в свою очередь на xbox one максимальная выручка была примерно в 8 млн долларов. Разница между платформами по средним продажам одной игры составляет примерно 160 тыс долларов. "
   ]
  },
  {
   "cell_type": "markdown",
   "metadata": {},
   "source": [
    "Строю диаграмму рассеивания и корелляцию между продажами и оценками критиков и пользователей"
   ]
  },
  {
   "cell_type": "code",
   "execution_count": 74,
   "metadata": {
    "scrolled": true
   },
   "outputs": [
    {
     "name": "stdout",
     "output_type": "stream",
     "text": [
      "\n",
      "Корелляция для ps4\n",
      "                                         Оценка критиков, 0-100  \\\n",
      "Оценка критиков, 0-100                                 1.000000   \n",
      "Оценка пользователей, 0-10                             0.557654   \n",
      "Продажи во всех регионах, млн. долларов                0.405895   \n",
      "\n",
      "                                         Оценка пользователей, 0-10  \\\n",
      "Оценка критиков, 0-100                                     0.557654   \n",
      "Оценка пользователей, 0-10                                 1.000000   \n",
      "Продажи во всех регионах, млн. долларов                   -0.033625   \n",
      "\n",
      "                                         Продажи во всех регионах, млн. долларов  \n",
      "Оценка критиков, 0-100                                                  0.405895  \n",
      "Оценка пользователей, 0-10                                             -0.033625  \n",
      "Продажи во всех регионах, млн. долларов                                 1.000000  \n"
     ]
    },
    {
     "data": {
      "image/png": "[encoded data removed]",
      "text/plain": [
       "<Figure size 864x864 with 12 Axes>"
      ]
     },
     "metadata": {
      "needs_background": "light"
     },
     "output_type": "display_data"
    },
    {
     "name": "stdout",
     "output_type": "stream",
     "text": [
      "\n",
      "Корелляция для xone\n",
      "                                         Оценка критиков, 0-100  \\\n",
      "Оценка критиков, 0-100                                 1.000000   \n",
      "Оценка пользователей, 0-10                             0.472462   \n",
      "Продажи во всех регионах, млн. долларов                0.410422   \n",
      "\n",
      "                                         Оценка пользователей, 0-10  \\\n",
      "Оценка критиков, 0-100                                     0.472462   \n",
      "Оценка пользователей, 0-10                                 1.000000   \n",
      "Продажи во всех регионах, млн. долларов                   -0.094003   \n",
      "\n",
      "                                         Продажи во всех регионах, млн. долларов  \n",
      "Оценка критиков, 0-100                                                  0.410422  \n",
      "Оценка пользователей, 0-10                                             -0.094003  \n",
      "Продажи во всех регионах, млн. долларов                                 1.000000  \n"
     ]
    },
    {
     "data": {
      "image/png": "[encoded data removed]",
      "text/plain": [
       "<Figure size 864x864 with 12 Axes>"
      ]
     },
     "metadata": {
      "needs_background": "light"
     },
     "output_type": "display_data"
    },
    {
     "name": "stdout",
     "output_type": "stream",
     "text": [
      "\n",
      "Корелляция для 3ds\n",
      "                                         Оценка критиков, 0-100  \\\n",
      "Оценка критиков, 0-100                                 1.000000   \n",
      "Оценка пользователей, 0-10                             0.744168   \n",
      "Продажи во всех регионах, млн. долларов                0.339824   \n",
      "\n",
      "                                         Оценка пользователей, 0-10  \\\n",
      "Оценка критиков, 0-100                                     0.744168   \n",
      "Оценка пользователей, 0-10                                 1.000000   \n",
      "Продажи во всех регионах, млн. долларов                    0.233403   \n",
      "\n",
      "                                         Продажи во всех регионах, млн. долларов  \n",
      "Оценка критиков, 0-100                                                  0.339824  \n",
      "Оценка пользователей, 0-10                                              0.233403  \n",
      "Продажи во всех регионах, млн. долларов                                 1.000000  \n"
     ]
    },
    {
     "data": {
      "image/png": "[encoded data removed]",
      "text/plain": [
       "<Figure size 864x864 with 12 Axes>"
      ]
     },
     "metadata": {
      "needs_background": "light"
     },
     "output_type": "display_data"
    }
   ],
   "source": [
    "rcParams['figure.figsize'] = 15, 15\n",
    "platforms = ['ps4', 'xone', '3ds']\n",
    "for platform in platforms:\n",
    "    print(\"\\nКорелляция для\", platform)\n",
    "    platform_corr = games_filtered.query('platform == @platform and critic_score > 0 and user_score != \"tbd\" and user_score != -1')\n",
    "    platform_corr.rename(columns={'user_score':'Оценка пользователей, 0-10', 'critic_score':'Оценка критиков, 0-100', 'all_sales':'Продажи во всех регионах, млн. долларов'}, inplace=True)\n",
    "    platform_corr['Оценка пользователей, 0-10'] = platform_corr['Оценка пользователей, 0-10'].astype('float')\n",
    "    platform_corr_multi = platform_corr.loc[:, ['Оценка критиков, 0-100', 'Оценка пользователей, 0-10', 'Продажи во всех регионах, млн. долларов']]\n",
    "    print(platform_corr_multi.corr())\n",
    "    #print(platform)\n",
    "    #pd.plotting.scatter_matrix(platform_corr_multi, figsize=(12, 12))\n",
    "\n",
    "    #sns.pairplot(platform_corr_multi, corner=True)\n",
    "    g = sns.pairplot(platform_corr_multi, height=4)\n",
    "    title = 'Диаграмма рассеивания для %s' % (platform)\n",
    "    g.fig.suptitle(title, y=1.02)\n",
    "    plt.show()"
   ]
  },
  {
   "cell_type": "markdown",
   "metadata": {},
   "source": [
    "Уровен продаж игр на конкретной платформе зависит от оценки критиков, оценка пользлователей на продажи не оказывает особое влияние, и это логично, так как критики могут поставить оценку до старта продаж и тем самым решить судьбу той или иной игры, пользователь же может поставить оценку только после покупки. При этом оценки критиков влияют не только на продажи, но и на оценки пользователей "
   ]
  },
  {
   "cell_type": "markdown",
   "metadata": {},
   "source": [
    "Далее нужно посмотреть какие жанры на каких платформах приносят больше всего денег"
   ]
  },
  {
   "cell_type": "code",
   "execution_count": 31,
   "metadata": {},
   "outputs": [],
   "source": [
    "sales_by_genre = games_filtered.groupby(['genre', 'platform'])[['all_sales']].sum().reset_index()"
   ]
  },
  {
   "cell_type": "code",
   "execution_count": 32,
   "metadata": {},
   "outputs": [
    {
     "data": {
      "text/html": [
       "<div>\n",
       "<style scoped>\n",
       "    .dataframe tbody tr th:only-of-type {\n",
       "        vertical-align: middle;\n",
       "    }\n",
       "\n",
       "    .dataframe tbody tr th {\n",
       "        vertical-align: top;\n",
       "    }\n",
       "\n",
       "    .dataframe thead th {\n",
       "        text-align: right;\n",
       "    }\n",
       "</style>\n",
       "<table border=\"1\" class=\"dataframe\">\n",
       "  <thead>\n",
       "    <tr style=\"text-align: right;\">\n",
       "      <th></th>\n",
       "      <th>genre</th>\n",
       "      <th>platform</th>\n",
       "      <th>all_sales</th>\n",
       "    </tr>\n",
       "  </thead>\n",
       "  <tbody>\n",
       "    <tr>\n",
       "      <td>1</td>\n",
       "      <td>action</td>\n",
       "      <td>ps4</td>\n",
       "      <td>96.1</td>\n",
       "    </tr>\n",
       "  </tbody>\n",
       "</table>\n",
       "</div>"
      ],
      "text/plain": [
       "    genre platform  all_sales\n",
       "1  action      ps4       96.1"
      ]
     },
     "execution_count": 32,
     "metadata": {},
     "output_type": "execute_result"
    }
   ],
   "source": [
    "max_sales = sales_by_genre['all_sales'].max()\n",
    "sales_by_genre.query('all_sales==@max_sales')"
   ]
  },
  {
   "cell_type": "code",
   "execution_count": 33,
   "metadata": {},
   "outputs": [
    {
     "data": {
      "text/html": [
       "<div>\n",
       "<style scoped>\n",
       "    .dataframe tbody tr th:only-of-type {\n",
       "        vertical-align: middle;\n",
       "    }\n",
       "\n",
       "    .dataframe tbody tr th {\n",
       "        vertical-align: top;\n",
       "    }\n",
       "\n",
       "    .dataframe thead th {\n",
       "        text-align: right;\n",
       "    }\n",
       "</style>\n",
       "<table border=\"1\" class=\"dataframe\">\n",
       "  <thead>\n",
       "    <tr style=\"text-align: right;\">\n",
       "      <th></th>\n",
       "      <th>genre</th>\n",
       "      <th>platform</th>\n",
       "      <th>all_sales</th>\n",
       "    </tr>\n",
       "  </thead>\n",
       "  <tbody>\n",
       "    <tr>\n",
       "      <td>16</td>\n",
       "      <td>puzzle</td>\n",
       "      <td>ps4</td>\n",
       "      <td>0.02</td>\n",
       "    </tr>\n",
       "  </tbody>\n",
       "</table>\n",
       "</div>"
      ],
      "text/plain": [
       "     genre platform  all_sales\n",
       "16  puzzle      ps4       0.02"
      ]
     },
     "execution_count": 33,
     "metadata": {},
     "output_type": "execute_result"
    }
   ],
   "source": [
    "min_sales = sales_by_genre['all_sales'].min()\n",
    "sales_by_genre.query('all_sales==@min_sales')"
   ]
  },
  {
   "cell_type": "code",
   "execution_count": 34,
   "metadata": {},
   "outputs": [
    {
     "data": {
      "text/html": [
       "<div>\n",
       "<style scoped>\n",
       "    .dataframe tbody tr th:only-of-type {\n",
       "        vertical-align: middle;\n",
       "    }\n",
       "\n",
       "    .dataframe tbody tr th {\n",
       "        vertical-align: top;\n",
       "    }\n",
       "\n",
       "    .dataframe thead th {\n",
       "        text-align: right;\n",
       "    }\n",
       "</style>\n",
       "<table border=\"1\" class=\"dataframe\">\n",
       "  <thead>\n",
       "    <tr style=\"text-align: right;\">\n",
       "      <th></th>\n",
       "      <th>genre</th>\n",
       "      <th>platform</th>\n",
       "      <th>all_sales</th>\n",
       "    </tr>\n",
       "  </thead>\n",
       "  <tbody>\n",
       "    <tr>\n",
       "      <td>0</td>\n",
       "      <td>action</td>\n",
       "      <td>3ds</td>\n",
       "      <td>58.24</td>\n",
       "    </tr>\n",
       "    <tr>\n",
       "      <td>25</td>\n",
       "      <td>shooter</td>\n",
       "      <td>xone</td>\n",
       "      <td>60.33</td>\n",
       "    </tr>\n",
       "    <tr>\n",
       "      <td>20</td>\n",
       "      <td>role-playing</td>\n",
       "      <td>3ds</td>\n",
       "      <td>84.23</td>\n",
       "    </tr>\n",
       "    <tr>\n",
       "      <td>24</td>\n",
       "      <td>shooter</td>\n",
       "      <td>ps4</td>\n",
       "      <td>88.56</td>\n",
       "    </tr>\n",
       "    <tr>\n",
       "      <td>1</td>\n",
       "      <td>action</td>\n",
       "      <td>ps4</td>\n",
       "      <td>96.10</td>\n",
       "    </tr>\n",
       "  </tbody>\n",
       "</table>\n",
       "</div>"
      ],
      "text/plain": [
       "           genre platform  all_sales\n",
       "0         action      3ds      58.24\n",
       "25       shooter     xone      60.33\n",
       "20  role-playing      3ds      84.23\n",
       "24       shooter      ps4      88.56\n",
       "1         action      ps4      96.10"
      ]
     },
     "execution_count": 34,
     "metadata": {},
     "output_type": "execute_result"
    }
   ],
   "source": [
    "sales_by_genre.sort_values(by='all_sales').tail(5)"
   ]
  },
  {
   "cell_type": "code",
   "execution_count": 35,
   "metadata": {},
   "outputs": [
    {
     "data": {
      "text/html": [
       "<div>\n",
       "<style scoped>\n",
       "    .dataframe tbody tr th:only-of-type {\n",
       "        vertical-align: middle;\n",
       "    }\n",
       "\n",
       "    .dataframe tbody tr th {\n",
       "        vertical-align: top;\n",
       "    }\n",
       "\n",
       "    .dataframe thead th {\n",
       "        text-align: right;\n",
       "    }\n",
       "</style>\n",
       "<table border=\"1\" class=\"dataframe\">\n",
       "  <thead>\n",
       "    <tr style=\"text-align: right;\">\n",
       "      <th></th>\n",
       "      <th>genre</th>\n",
       "      <th>platform</th>\n",
       "      <th>all_sales</th>\n",
       "    </tr>\n",
       "  </thead>\n",
       "  <tbody>\n",
       "    <tr>\n",
       "      <td>16</td>\n",
       "      <td>puzzle</td>\n",
       "      <td>ps4</td>\n",
       "      <td>0.02</td>\n",
       "    </tr>\n",
       "    <tr>\n",
       "      <td>33</td>\n",
       "      <td>strategy</td>\n",
       "      <td>ps4</td>\n",
       "      <td>0.62</td>\n",
       "    </tr>\n",
       "    <tr>\n",
       "      <td>27</td>\n",
       "      <td>simulation</td>\n",
       "      <td>ps4</td>\n",
       "      <td>1.23</td>\n",
       "    </tr>\n",
       "    <tr>\n",
       "      <td>4</td>\n",
       "      <td>adventure</td>\n",
       "      <td>ps4</td>\n",
       "      <td>6.34</td>\n",
       "    </tr>\n",
       "    <tr>\n",
       "      <td>13</td>\n",
       "      <td>platform</td>\n",
       "      <td>ps4</td>\n",
       "      <td>7.69</td>\n",
       "    </tr>\n",
       "    <tr>\n",
       "      <td>10</td>\n",
       "      <td>misc</td>\n",
       "      <td>ps4</td>\n",
       "      <td>8.19</td>\n",
       "    </tr>\n",
       "    <tr>\n",
       "      <td>7</td>\n",
       "      <td>fighting</td>\n",
       "      <td>ps4</td>\n",
       "      <td>8.65</td>\n",
       "    </tr>\n",
       "    <tr>\n",
       "      <td>18</td>\n",
       "      <td>racing</td>\n",
       "      <td>ps4</td>\n",
       "      <td>12.14</td>\n",
       "    </tr>\n",
       "    <tr>\n",
       "      <td>21</td>\n",
       "      <td>role-playing</td>\n",
       "      <td>ps4</td>\n",
       "      <td>28.99</td>\n",
       "    </tr>\n",
       "    <tr>\n",
       "      <td>30</td>\n",
       "      <td>sports</td>\n",
       "      <td>ps4</td>\n",
       "      <td>55.61</td>\n",
       "    </tr>\n",
       "    <tr>\n",
       "      <td>24</td>\n",
       "      <td>shooter</td>\n",
       "      <td>ps4</td>\n",
       "      <td>88.56</td>\n",
       "    </tr>\n",
       "    <tr>\n",
       "      <td>1</td>\n",
       "      <td>action</td>\n",
       "      <td>ps4</td>\n",
       "      <td>96.10</td>\n",
       "    </tr>\n",
       "  </tbody>\n",
       "</table>\n",
       "</div>"
      ],
      "text/plain": [
       "           genre platform  all_sales\n",
       "16        puzzle      ps4       0.02\n",
       "33      strategy      ps4       0.62\n",
       "27    simulation      ps4       1.23\n",
       "4      adventure      ps4       6.34\n",
       "13      platform      ps4       7.69\n",
       "10          misc      ps4       8.19\n",
       "7       fighting      ps4       8.65\n",
       "18        racing      ps4      12.14\n",
       "21  role-playing      ps4      28.99\n",
       "30        sports      ps4      55.61\n",
       "24       shooter      ps4      88.56\n",
       "1         action      ps4      96.10"
      ]
     },
     "execution_count": 35,
     "metadata": {},
     "output_type": "execute_result"
    }
   ],
   "source": [
    "sales_by_genre.sort_values(by='all_sales').query('platform == \"ps4\"')"
   ]
  },
  {
   "cell_type": "code",
   "execution_count": 36,
   "metadata": {},
   "outputs": [
    {
     "data": {
      "text/html": [
       "<div>\n",
       "<style scoped>\n",
       "    .dataframe tbody tr th:only-of-type {\n",
       "        vertical-align: middle;\n",
       "    }\n",
       "\n",
       "    .dataframe tbody tr th {\n",
       "        vertical-align: top;\n",
       "    }\n",
       "\n",
       "    .dataframe thead th {\n",
       "        text-align: right;\n",
       "    }\n",
       "</style>\n",
       "<table border=\"1\" class=\"dataframe\">\n",
       "  <thead>\n",
       "    <tr style=\"text-align: right;\">\n",
       "      <th></th>\n",
       "      <th>genre</th>\n",
       "      <th>platform</th>\n",
       "      <th>all_sales</th>\n",
       "    </tr>\n",
       "  </thead>\n",
       "  <tbody>\n",
       "    <tr>\n",
       "      <td>23</td>\n",
       "      <td>shooter</td>\n",
       "      <td>3ds</td>\n",
       "      <td>1.29</td>\n",
       "    </tr>\n",
       "    <tr>\n",
       "      <td>32</td>\n",
       "      <td>strategy</td>\n",
       "      <td>3ds</td>\n",
       "      <td>2.09</td>\n",
       "    </tr>\n",
       "    <tr>\n",
       "      <td>3</td>\n",
       "      <td>adventure</td>\n",
       "      <td>3ds</td>\n",
       "      <td>4.92</td>\n",
       "    </tr>\n",
       "    <tr>\n",
       "      <td>15</td>\n",
       "      <td>puzzle</td>\n",
       "      <td>3ds</td>\n",
       "      <td>5.57</td>\n",
       "    </tr>\n",
       "    <tr>\n",
       "      <td>29</td>\n",
       "      <td>sports</td>\n",
       "      <td>3ds</td>\n",
       "      <td>6.17</td>\n",
       "    </tr>\n",
       "    <tr>\n",
       "      <td>6</td>\n",
       "      <td>fighting</td>\n",
       "      <td>3ds</td>\n",
       "      <td>10.56</td>\n",
       "    </tr>\n",
       "    <tr>\n",
       "      <td>9</td>\n",
       "      <td>misc</td>\n",
       "      <td>3ds</td>\n",
       "      <td>10.99</td>\n",
       "    </tr>\n",
       "    <tr>\n",
       "      <td>17</td>\n",
       "      <td>racing</td>\n",
       "      <td>3ds</td>\n",
       "      <td>14.96</td>\n",
       "    </tr>\n",
       "    <tr>\n",
       "      <td>26</td>\n",
       "      <td>simulation</td>\n",
       "      <td>3ds</td>\n",
       "      <td>27.45</td>\n",
       "    </tr>\n",
       "    <tr>\n",
       "      <td>12</td>\n",
       "      <td>platform</td>\n",
       "      <td>3ds</td>\n",
       "      <td>32.53</td>\n",
       "    </tr>\n",
       "    <tr>\n",
       "      <td>0</td>\n",
       "      <td>action</td>\n",
       "      <td>3ds</td>\n",
       "      <td>58.24</td>\n",
       "    </tr>\n",
       "    <tr>\n",
       "      <td>20</td>\n",
       "      <td>role-playing</td>\n",
       "      <td>3ds</td>\n",
       "      <td>84.23</td>\n",
       "    </tr>\n",
       "  </tbody>\n",
       "</table>\n",
       "</div>"
      ],
      "text/plain": [
       "           genre platform  all_sales\n",
       "23       shooter      3ds       1.29\n",
       "32      strategy      3ds       2.09\n",
       "3      adventure      3ds       4.92\n",
       "15        puzzle      3ds       5.57\n",
       "29        sports      3ds       6.17\n",
       "6       fighting      3ds      10.56\n",
       "9           misc      3ds      10.99\n",
       "17        racing      3ds      14.96\n",
       "26    simulation      3ds      27.45\n",
       "12      platform      3ds      32.53\n",
       "0         action      3ds      58.24\n",
       "20  role-playing      3ds      84.23"
      ]
     },
     "execution_count": 36,
     "metadata": {},
     "output_type": "execute_result"
    }
   ],
   "source": [
    "sales_by_genre.sort_values(by='all_sales').query('platform == \"3ds\"')"
   ]
  },
  {
   "cell_type": "code",
   "execution_count": 37,
   "metadata": {
    "scrolled": true
   },
   "outputs": [
    {
     "data": {
      "text/html": [
       "<div>\n",
       "<style scoped>\n",
       "    .dataframe tbody tr th:only-of-type {\n",
       "        vertical-align: middle;\n",
       "    }\n",
       "\n",
       "    .dataframe tbody tr th {\n",
       "        vertical-align: top;\n",
       "    }\n",
       "\n",
       "    .dataframe thead th {\n",
       "        text-align: right;\n",
       "    }\n",
       "</style>\n",
       "<table border=\"1\" class=\"dataframe\">\n",
       "  <thead>\n",
       "    <tr style=\"text-align: right;\">\n",
       "      <th></th>\n",
       "      <th>genre</th>\n",
       "      <th>platform</th>\n",
       "      <th>all_sales</th>\n",
       "    </tr>\n",
       "  </thead>\n",
       "  <tbody>\n",
       "    <tr>\n",
       "      <td>34</td>\n",
       "      <td>strategy</td>\n",
       "      <td>xone</td>\n",
       "      <td>0.42</td>\n",
       "    </tr>\n",
       "    <tr>\n",
       "      <td>28</td>\n",
       "      <td>simulation</td>\n",
       "      <td>xone</td>\n",
       "      <td>0.69</td>\n",
       "    </tr>\n",
       "    <tr>\n",
       "      <td>14</td>\n",
       "      <td>platform</td>\n",
       "      <td>xone</td>\n",
       "      <td>0.93</td>\n",
       "    </tr>\n",
       "    <tr>\n",
       "      <td>8</td>\n",
       "      <td>fighting</td>\n",
       "      <td>xone</td>\n",
       "      <td>2.45</td>\n",
       "    </tr>\n",
       "    <tr>\n",
       "      <td>5</td>\n",
       "      <td>adventure</td>\n",
       "      <td>xone</td>\n",
       "      <td>2.68</td>\n",
       "    </tr>\n",
       "    <tr>\n",
       "      <td>11</td>\n",
       "      <td>misc</td>\n",
       "      <td>xone</td>\n",
       "      <td>7.43</td>\n",
       "    </tr>\n",
       "    <tr>\n",
       "      <td>19</td>\n",
       "      <td>racing</td>\n",
       "      <td>xone</td>\n",
       "      <td>9.79</td>\n",
       "    </tr>\n",
       "    <tr>\n",
       "      <td>22</td>\n",
       "      <td>role-playing</td>\n",
       "      <td>xone</td>\n",
       "      <td>10.55</td>\n",
       "    </tr>\n",
       "    <tr>\n",
       "      <td>31</td>\n",
       "      <td>sports</td>\n",
       "      <td>xone</td>\n",
       "      <td>26.74</td>\n",
       "    </tr>\n",
       "    <tr>\n",
       "      <td>2</td>\n",
       "      <td>action</td>\n",
       "      <td>xone</td>\n",
       "      <td>37.31</td>\n",
       "    </tr>\n",
       "    <tr>\n",
       "      <td>25</td>\n",
       "      <td>shooter</td>\n",
       "      <td>xone</td>\n",
       "      <td>60.33</td>\n",
       "    </tr>\n",
       "  </tbody>\n",
       "</table>\n",
       "</div>"
      ],
      "text/plain": [
       "           genre platform  all_sales\n",
       "34      strategy     xone       0.42\n",
       "28    simulation     xone       0.69\n",
       "14      platform     xone       0.93\n",
       "8       fighting     xone       2.45\n",
       "5      adventure     xone       2.68\n",
       "11          misc     xone       7.43\n",
       "19        racing     xone       9.79\n",
       "22  role-playing     xone      10.55\n",
       "31        sports     xone      26.74\n",
       "2         action     xone      37.31\n",
       "25       shooter     xone      60.33"
      ]
     },
     "execution_count": 37,
     "metadata": {},
     "output_type": "execute_result"
    }
   ],
   "source": [
    "sales_by_genre.sort_values(by='all_sales').query('platform == \"xone\"')"
   ]
  },
  {
   "cell_type": "markdown",
   "metadata": {},
   "source": [
    "Самые продаваемые игры - action на ps4, хуже всего продаются пазлы на той же ps4. В топ 5 входят 3 жанра - action, shooter и role-playing.  \n",
    "\n",
    "Результаты в разбивке по платформам.\n",
    "\n",
    "ps4: лучшие продажи у экшнов и шутеров, худшие у стратегий и пазлов\n",
    "\n",
    "3ds: лучшие продажи у ролевых игр и экшнов, худшие у стратегий и шутеров\n",
    "\n",
    "xbox one: лучшие продажи у шутеров и экшнов, худшие у симуляторов и стратегий"
   ]
  },
  {
   "cell_type": "markdown",
   "metadata": {},
   "source": [
    "<a id='researchanalysres'></a>\n",
    "<H4>Выводы:</H4>\n",
    "\n",
    "- Начиная с 91 года по 02 количество игр растет, пик выпуска игр был в 08-09 годах\n",
    "- Срок жизни популярных консолей примерно 10 лет\n",
    "- Игры на ПК продаются плохо (скорей всего связано с пиратством)\n",
    "- Лучшие платформы по продажам: ps4 (лидер продаж), 3ds и xbox one\n",
    "- Некоторые игры на ps4 и 3ds принесли прибыль в почти 15 млн долларов\n",
    "- xbox one самая прибыльная игра принесла доход почти в 8 млн долларов \n",
    "- Разница между платформами по средним продажам одной игры составляет примерно 160 тыс долларов.\n",
    "- Уровень продаж игр на конкретной платформе зависит от оценки критиков\n",
    "- Оценка пользлователей на продажи не оказывае особое влияние\n",
    "- Оценки критиков влияют не только на продажи, но и на оценки пользователей\n",
    "- Самые продаваемые игры - action на ps4, хуже всего продаются пазлы на той же ps4. В топ 5 входят 3 жанра - action, shooter и role-playing.\n",
    "- ps4: лучшие продажи у экшнов и шутеров, худшие у стратегий и пазлов\n",
    "- 3ds: лучшие продажи у ролевых игр и экшнов, худшие у стратегий и шутеров\n",
    "- xbox one: лучшие продажи у шутеров и экшнов, худшие у симуляторов и стратегий"
   ]
  },
  {
   "cell_type": "markdown",
   "metadata": {},
   "source": [
    "<a id='userportrait'></a>\n",
    "<H2>Портрет пользователя</H2>"
   ]
  },
  {
   "cell_type": "markdown",
   "metadata": {},
   "source": [
    "Далее необходимо посмотреть как продаются игры на платформы по разным регионам"
   ]
  },
  {
   "cell_type": "code",
   "execution_count": 38,
   "metadata": {
    "scrolled": false
   },
   "outputs": [],
   "source": [
    "sales_by_na_sales = games.groupby('platform')[['na_sales']].sum().reset_index()\n",
    "sales_by_eu_sales = games.groupby('platform')[['eu_sales']].sum().reset_index()\n",
    "sales_by_jp_sales = games.groupby('platform')[['jp_sales']].sum().reset_index()\n",
    "sales_by_all_sales = games.groupby('platform')[['all_sales']].sum().reset_index()\n",
    "by_sales = sales_by_na_sales.merge(sales_by_eu_sales, how='left')\n",
    "by_sales = by_sales.merge(sales_by_jp_sales, how='left')\n",
    "by_sales = by_sales.merge(sales_by_all_sales, how='left')\n",
    "by_sales.sort_values(by='all_sales', inplace=True)"
   ]
  },
  {
   "cell_type": "markdown",
   "metadata": {},
   "source": [
    "Расчитываю максимальную и суммарную продажу по рынку Северной Америки"
   ]
  },
  {
   "cell_type": "code",
   "execution_count": 39,
   "metadata": {},
   "outputs": [
    {
     "name": "stdout",
     "output_type": "stream",
     "text": [
      "Суммарные продажи игр на рынке Северной Америки: 4400.569999999989\n"
     ]
    }
   ],
   "source": [
    "na_sales_max = by_sales['na_sales'].max()\n",
    "print(\"Суммарные продажи игр на рынке Северной Америки:\", by_sales['na_sales'].sum())"
   ]
  },
  {
   "cell_type": "markdown",
   "metadata": {},
   "source": [
    "Тоже самое делаю для рынка Европы"
   ]
  },
  {
   "cell_type": "code",
   "execution_count": 40,
   "metadata": {},
   "outputs": [
    {
     "name": "stdout",
     "output_type": "stream",
     "text": [
      "Суммарные продажи игр на рынке Европы:  2424.13999999999\n"
     ]
    }
   ],
   "source": [
    "eu_sales_max = by_sales['eu_sales'].max()\n",
    "print(\"Суммарные продажи игр на рынке Европы: \", by_sales['eu_sales'].sum())"
   ]
  },
  {
   "cell_type": "markdown",
   "metadata": {},
   "source": [
    "И для рынка Японии"
   ]
  },
  {
   "cell_type": "code",
   "execution_count": 41,
   "metadata": {},
   "outputs": [
    {
     "name": "stdout",
     "output_type": "stream",
     "text": [
      "Суммарные продажи игр на рынке Японии:  1297.3400000000013\n"
     ]
    }
   ],
   "source": [
    "jp_sales_max = by_sales['jp_sales'].max()\n",
    "print(\"Суммарные продажи игр на рынке Японии: \", by_sales['jp_sales'].sum())"
   ]
  },
  {
   "cell_type": "markdown",
   "metadata": {},
   "source": [
    "Далее нахожу самую прибульную платформу в Северной Америке"
   ]
  },
  {
   "cell_type": "code",
   "execution_count": 42,
   "metadata": {
    "scrolled": true
   },
   "outputs": [
    {
     "data": {
      "text/html": [
       "<div>\n",
       "<style scoped>\n",
       "    .dataframe tbody tr th:only-of-type {\n",
       "        vertical-align: middle;\n",
       "    }\n",
       "\n",
       "    .dataframe tbody tr th {\n",
       "        vertical-align: top;\n",
       "    }\n",
       "\n",
       "    .dataframe thead th {\n",
       "        text-align: right;\n",
       "    }\n",
       "</style>\n",
       "<table border=\"1\" class=\"dataframe\">\n",
       "  <thead>\n",
       "    <tr style=\"text-align: right;\">\n",
       "      <th></th>\n",
       "      <th>platform</th>\n",
       "      <th>na_sales</th>\n",
       "      <th>eu_sales</th>\n",
       "      <th>jp_sales</th>\n",
       "      <th>all_sales</th>\n",
       "    </tr>\n",
       "  </thead>\n",
       "  <tbody>\n",
       "    <tr>\n",
       "      <td>28</td>\n",
       "      <td>x360</td>\n",
       "      <td>602.47</td>\n",
       "      <td>270.76</td>\n",
       "      <td>12.43</td>\n",
       "      <td>971.42</td>\n",
       "    </tr>\n",
       "  </tbody>\n",
       "</table>\n",
       "</div>"
      ],
      "text/plain": [
       "   platform  na_sales  eu_sales  jp_sales  all_sales\n",
       "28     x360    602.47    270.76     12.43     971.42"
      ]
     },
     "execution_count": 42,
     "metadata": {},
     "output_type": "execute_result"
    }
   ],
   "source": [
    "by_sales.query('na_sales == @na_sales_max')"
   ]
  },
  {
   "cell_type": "markdown",
   "metadata": {},
   "source": [
    "Тоже самое для рынка Европы"
   ]
  },
  {
   "cell_type": "code",
   "execution_count": 43,
   "metadata": {},
   "outputs": [
    {
     "data": {
      "text/html": [
       "<div>\n",
       "<style scoped>\n",
       "    .dataframe tbody tr th:only-of-type {\n",
       "        vertical-align: middle;\n",
       "    }\n",
       "\n",
       "    .dataframe tbody tr th {\n",
       "        vertical-align: top;\n",
       "    }\n",
       "\n",
       "    .dataframe thead th {\n",
       "        text-align: right;\n",
       "    }\n",
       "</style>\n",
       "<table border=\"1\" class=\"dataframe\">\n",
       "  <thead>\n",
       "    <tr style=\"text-align: right;\">\n",
       "      <th></th>\n",
       "      <th>platform</th>\n",
       "      <th>na_sales</th>\n",
       "      <th>eu_sales</th>\n",
       "      <th>jp_sales</th>\n",
       "      <th>all_sales</th>\n",
       "    </tr>\n",
       "  </thead>\n",
       "  <tbody>\n",
       "    <tr>\n",
       "      <td>16</td>\n",
       "      <td>ps2</td>\n",
       "      <td>583.84</td>\n",
       "      <td>339.29</td>\n",
       "      <td>139.2</td>\n",
       "      <td>1255.77</td>\n",
       "    </tr>\n",
       "  </tbody>\n",
       "</table>\n",
       "</div>"
      ],
      "text/plain": [
       "   platform  na_sales  eu_sales  jp_sales  all_sales\n",
       "16      ps2    583.84    339.29     139.2    1255.77"
      ]
     },
     "execution_count": 43,
     "metadata": {},
     "output_type": "execute_result"
    }
   ],
   "source": [
    "by_sales.query('eu_sales == @eu_sales_max')"
   ]
  },
  {
   "cell_type": "markdown",
   "metadata": {},
   "source": [
    "И для рынка Японии"
   ]
  },
  {
   "cell_type": "code",
   "execution_count": 44,
   "metadata": {
    "scrolled": true
   },
   "outputs": [
    {
     "data": {
      "text/html": [
       "<div>\n",
       "<style scoped>\n",
       "    .dataframe tbody tr th:only-of-type {\n",
       "        vertical-align: middle;\n",
       "    }\n",
       "\n",
       "    .dataframe tbody tr th {\n",
       "        vertical-align: top;\n",
       "    }\n",
       "\n",
       "    .dataframe thead th {\n",
       "        text-align: right;\n",
       "    }\n",
       "</style>\n",
       "<table border=\"1\" class=\"dataframe\">\n",
       "  <thead>\n",
       "    <tr style=\"text-align: right;\">\n",
       "      <th></th>\n",
       "      <th>platform</th>\n",
       "      <th>na_sales</th>\n",
       "      <th>eu_sales</th>\n",
       "      <th>jp_sales</th>\n",
       "      <th>all_sales</th>\n",
       "    </tr>\n",
       "  </thead>\n",
       "  <tbody>\n",
       "    <tr>\n",
       "      <td>4</td>\n",
       "      <td>ds</td>\n",
       "      <td>382.4</td>\n",
       "      <td>188.89</td>\n",
       "      <td>175.57</td>\n",
       "      <td>806.12</td>\n",
       "    </tr>\n",
       "  </tbody>\n",
       "</table>\n",
       "</div>"
      ],
      "text/plain": [
       "  platform  na_sales  eu_sales  jp_sales  all_sales\n",
       "4       ds     382.4    188.89    175.57     806.12"
      ]
     },
     "execution_count": 44,
     "metadata": {},
     "output_type": "execute_result"
    }
   ],
   "source": [
    "by_sales.query('jp_sales == @jp_sales_max')"
   ]
  },
  {
   "cell_type": "markdown",
   "metadata": {},
   "source": [
    "После нахожу среднее по общим продажам для разбивки таблицы"
   ]
  },
  {
   "cell_type": "code",
   "execution_count": 45,
   "metadata": {},
   "outputs": [],
   "source": [
    "mean_all_sales = by_sales['all_sales'].mean()"
   ]
  },
  {
   "cell_type": "markdown",
   "metadata": {},
   "source": [
    "И вывожу сначала платформы, которые принесли большие продажи"
   ]
  },
  {
   "cell_type": "code",
   "execution_count": 46,
   "metadata": {},
   "outputs": [
    {
     "name": "stdout",
     "output_type": "stream",
     "text": [
      "Платформы, которые принесли выручку больше среднего\n"
     ]
    },
    {
     "data": {
      "text/html": [
       "<div>\n",
       "<style scoped>\n",
       "    .dataframe tbody tr th:only-of-type {\n",
       "        vertical-align: middle;\n",
       "    }\n",
       "\n",
       "    .dataframe tbody tr th {\n",
       "        vertical-align: top;\n",
       "    }\n",
       "\n",
       "    .dataframe thead th {\n",
       "        text-align: right;\n",
       "    }\n",
       "</style>\n",
       "<table border=\"1\" class=\"dataframe\">\n",
       "  <thead>\n",
       "    <tr style=\"text-align: right;\">\n",
       "      <th></th>\n",
       "      <th>index</th>\n",
       "      <th>platform</th>\n",
       "      <th>na_sales</th>\n",
       "      <th>eu_sales</th>\n",
       "      <th>jp_sales</th>\n",
       "      <th>all_sales</th>\n",
       "    </tr>\n",
       "  </thead>\n",
       "  <tbody>\n",
       "    <tr>\n",
       "      <td>0</td>\n",
       "      <td>19</td>\n",
       "      <td>psp</td>\n",
       "      <td>109.17</td>\n",
       "      <td>66.68</td>\n",
       "      <td>76.78</td>\n",
       "      <td>294.05</td>\n",
       "    </tr>\n",
       "    <tr>\n",
       "      <td>1</td>\n",
       "      <td>18</td>\n",
       "      <td>ps4</td>\n",
       "      <td>108.74</td>\n",
       "      <td>141.09</td>\n",
       "      <td>15.96</td>\n",
       "      <td>314.14</td>\n",
       "    </tr>\n",
       "    <tr>\n",
       "      <td>2</td>\n",
       "      <td>6</td>\n",
       "      <td>gba</td>\n",
       "      <td>187.54</td>\n",
       "      <td>75.25</td>\n",
       "      <td>47.33</td>\n",
       "      <td>317.85</td>\n",
       "    </tr>\n",
       "    <tr>\n",
       "      <td>3</td>\n",
       "      <td>15</td>\n",
       "      <td>ps</td>\n",
       "      <td>336.52</td>\n",
       "      <td>213.61</td>\n",
       "      <td>139.82</td>\n",
       "      <td>730.86</td>\n",
       "    </tr>\n",
       "    <tr>\n",
       "      <td>4</td>\n",
       "      <td>4</td>\n",
       "      <td>ds</td>\n",
       "      <td>382.40</td>\n",
       "      <td>188.89</td>\n",
       "      <td>175.57</td>\n",
       "      <td>806.12</td>\n",
       "    </tr>\n",
       "    <tr>\n",
       "      <td>5</td>\n",
       "      <td>25</td>\n",
       "      <td>wii</td>\n",
       "      <td>496.90</td>\n",
       "      <td>262.21</td>\n",
       "      <td>69.33</td>\n",
       "      <td>907.51</td>\n",
       "    </tr>\n",
       "    <tr>\n",
       "      <td>6</td>\n",
       "      <td>17</td>\n",
       "      <td>ps3</td>\n",
       "      <td>393.49</td>\n",
       "      <td>330.29</td>\n",
       "      <td>80.19</td>\n",
       "      <td>939.65</td>\n",
       "    </tr>\n",
       "    <tr>\n",
       "      <td>7</td>\n",
       "      <td>28</td>\n",
       "      <td>x360</td>\n",
       "      <td>602.47</td>\n",
       "      <td>270.76</td>\n",
       "      <td>12.43</td>\n",
       "      <td>971.42</td>\n",
       "    </tr>\n",
       "    <tr>\n",
       "      <td>8</td>\n",
       "      <td>16</td>\n",
       "      <td>ps2</td>\n",
       "      <td>583.84</td>\n",
       "      <td>339.29</td>\n",
       "      <td>139.20</td>\n",
       "      <td>1255.77</td>\n",
       "    </tr>\n",
       "  </tbody>\n",
       "</table>\n",
       "</div>"
      ],
      "text/plain": [
       "   index platform  na_sales  eu_sales  jp_sales  all_sales\n",
       "0     19      psp    109.17     66.68     76.78     294.05\n",
       "1     18      ps4    108.74    141.09     15.96     314.14\n",
       "2      6      gba    187.54     75.25     47.33     317.85\n",
       "3     15       ps    336.52    213.61    139.82     730.86\n",
       "4      4       ds    382.40    188.89    175.57     806.12\n",
       "5     25      wii    496.90    262.21     69.33     907.51\n",
       "6     17      ps3    393.49    330.29     80.19     939.65\n",
       "7     28     x360    602.47    270.76     12.43     971.42\n",
       "8     16      ps2    583.84    339.29    139.20    1255.77"
      ]
     },
     "execution_count": 46,
     "metadata": {},
     "output_type": "execute_result"
    }
   ],
   "source": [
    "good_platform = by_sales.query('all_sales > @mean_all_sales').reset_index()\n",
    "print(\"Платформы, которые принесли выручку больше среднего\")\n",
    "good_platform"
   ]
  },
  {
   "cell_type": "markdown",
   "metadata": {},
   "source": [
    "И меньшие"
   ]
  },
  {
   "cell_type": "code",
   "execution_count": 47,
   "metadata": {},
   "outputs": [
    {
     "name": "stdout",
     "output_type": "stream",
     "text": [
      "Платформы, которые принесли выручку меньше среднего\n"
     ]
    },
    {
     "data": {
      "text/html": [
       "<div>\n",
       "<style scoped>\n",
       "    .dataframe tbody tr th:only-of-type {\n",
       "        vertical-align: middle;\n",
       "    }\n",
       "\n",
       "    .dataframe tbody tr th {\n",
       "        vertical-align: top;\n",
       "    }\n",
       "\n",
       "    .dataframe thead th {\n",
       "        text-align: right;\n",
       "    }\n",
       "</style>\n",
       "<table border=\"1\" class=\"dataframe\">\n",
       "  <thead>\n",
       "    <tr style=\"text-align: right;\">\n",
       "      <th></th>\n",
       "      <th>index</th>\n",
       "      <th>platform</th>\n",
       "      <th>na_sales</th>\n",
       "      <th>eu_sales</th>\n",
       "      <th>jp_sales</th>\n",
       "      <th>all_sales</th>\n",
       "    </tr>\n",
       "  </thead>\n",
       "  <tbody>\n",
       "    <tr>\n",
       "      <td>0</td>\n",
       "      <td>14</td>\n",
       "      <td>pcfx</td>\n",
       "      <td>0.00</td>\n",
       "      <td>0.00</td>\n",
       "      <td>0.03</td>\n",
       "      <td>0.03</td>\n",
       "    </tr>\n",
       "    <tr>\n",
       "      <td>1</td>\n",
       "      <td>9</td>\n",
       "      <td>gg</td>\n",
       "      <td>0.00</td>\n",
       "      <td>0.00</td>\n",
       "      <td>0.04</td>\n",
       "      <td>0.04</td>\n",
       "    </tr>\n",
       "    <tr>\n",
       "      <td>2</td>\n",
       "      <td>1</td>\n",
       "      <td>3do</td>\n",
       "      <td>0.00</td>\n",
       "      <td>0.00</td>\n",
       "      <td>0.10</td>\n",
       "      <td>0.10</td>\n",
       "    </tr>\n",
       "    <tr>\n",
       "      <td>3</td>\n",
       "      <td>24</td>\n",
       "      <td>tg16</td>\n",
       "      <td>0.00</td>\n",
       "      <td>0.00</td>\n",
       "      <td>0.16</td>\n",
       "      <td>0.16</td>\n",
       "    </tr>\n",
       "    <tr>\n",
       "      <td>4</td>\n",
       "      <td>27</td>\n",
       "      <td>ws</td>\n",
       "      <td>0.00</td>\n",
       "      <td>0.00</td>\n",
       "      <td>1.42</td>\n",
       "      <td>1.42</td>\n",
       "    </tr>\n",
       "    <tr>\n",
       "      <td>5</td>\n",
       "      <td>12</td>\n",
       "      <td>ng</td>\n",
       "      <td>0.00</td>\n",
       "      <td>0.00</td>\n",
       "      <td>1.44</td>\n",
       "      <td>1.44</td>\n",
       "    </tr>\n",
       "    <tr>\n",
       "      <td>6</td>\n",
       "      <td>22</td>\n",
       "      <td>scd</td>\n",
       "      <td>1.00</td>\n",
       "      <td>0.36</td>\n",
       "      <td>0.45</td>\n",
       "      <td>1.86</td>\n",
       "    </tr>\n",
       "    <tr>\n",
       "      <td>7</td>\n",
       "      <td>3</td>\n",
       "      <td>dc</td>\n",
       "      <td>5.43</td>\n",
       "      <td>1.69</td>\n",
       "      <td>8.56</td>\n",
       "      <td>15.95</td>\n",
       "    </tr>\n",
       "    <tr>\n",
       "      <td>8</td>\n",
       "      <td>8</td>\n",
       "      <td>gen</td>\n",
       "      <td>19.27</td>\n",
       "      <td>5.52</td>\n",
       "      <td>2.67</td>\n",
       "      <td>28.35</td>\n",
       "    </tr>\n",
       "    <tr>\n",
       "      <td>9</td>\n",
       "      <td>21</td>\n",
       "      <td>sat</td>\n",
       "      <td>0.72</td>\n",
       "      <td>0.54</td>\n",
       "      <td>32.26</td>\n",
       "      <td>33.59</td>\n",
       "    </tr>\n",
       "    <tr>\n",
       "      <td>10</td>\n",
       "      <td>20</td>\n",
       "      <td>psv</td>\n",
       "      <td>12.58</td>\n",
       "      <td>13.12</td>\n",
       "      <td>21.91</td>\n",
       "      <td>54.07</td>\n",
       "    </tr>\n",
       "    <tr>\n",
       "      <td>11</td>\n",
       "      <td>26</td>\n",
       "      <td>wiiu</td>\n",
       "      <td>38.10</td>\n",
       "      <td>25.13</td>\n",
       "      <td>13.01</td>\n",
       "      <td>82.19</td>\n",
       "    </tr>\n",
       "    <tr>\n",
       "      <td>12</td>\n",
       "      <td>0</td>\n",
       "      <td>2600</td>\n",
       "      <td>90.60</td>\n",
       "      <td>5.47</td>\n",
       "      <td>0.00</td>\n",
       "      <td>96.98</td>\n",
       "    </tr>\n",
       "    <tr>\n",
       "      <td>13</td>\n",
       "      <td>30</td>\n",
       "      <td>xone</td>\n",
       "      <td>93.12</td>\n",
       "      <td>51.59</td>\n",
       "      <td>0.34</td>\n",
       "      <td>159.32</td>\n",
       "    </tr>\n",
       "    <tr>\n",
       "      <td>14</td>\n",
       "      <td>7</td>\n",
       "      <td>gc</td>\n",
       "      <td>133.46</td>\n",
       "      <td>38.71</td>\n",
       "      <td>21.58</td>\n",
       "      <td>198.93</td>\n",
       "    </tr>\n",
       "    <tr>\n",
       "      <td>15</td>\n",
       "      <td>23</td>\n",
       "      <td>snes</td>\n",
       "      <td>61.23</td>\n",
       "      <td>19.04</td>\n",
       "      <td>116.55</td>\n",
       "      <td>200.04</td>\n",
       "    </tr>\n",
       "    <tr>\n",
       "      <td>16</td>\n",
       "      <td>10</td>\n",
       "      <td>n64</td>\n",
       "      <td>139.02</td>\n",
       "      <td>41.06</td>\n",
       "      <td>34.22</td>\n",
       "      <td>218.68</td>\n",
       "    </tr>\n",
       "    <tr>\n",
       "      <td>17</td>\n",
       "      <td>11</td>\n",
       "      <td>nes</td>\n",
       "      <td>125.94</td>\n",
       "      <td>21.15</td>\n",
       "      <td>98.65</td>\n",
       "      <td>251.05</td>\n",
       "    </tr>\n",
       "    <tr>\n",
       "      <td>18</td>\n",
       "      <td>5</td>\n",
       "      <td>gb</td>\n",
       "      <td>114.32</td>\n",
       "      <td>47.82</td>\n",
       "      <td>85.12</td>\n",
       "      <td>255.46</td>\n",
       "    </tr>\n",
       "    <tr>\n",
       "      <td>19</td>\n",
       "      <td>29</td>\n",
       "      <td>xb</td>\n",
       "      <td>186.69</td>\n",
       "      <td>60.95</td>\n",
       "      <td>1.38</td>\n",
       "      <td>257.74</td>\n",
       "    </tr>\n",
       "    <tr>\n",
       "      <td>20</td>\n",
       "      <td>2</td>\n",
       "      <td>3ds</td>\n",
       "      <td>83.49</td>\n",
       "      <td>61.48</td>\n",
       "      <td>100.67</td>\n",
       "      <td>259.00</td>\n",
       "    </tr>\n",
       "    <tr>\n",
       "      <td>21</td>\n",
       "      <td>13</td>\n",
       "      <td>pc</td>\n",
       "      <td>94.53</td>\n",
       "      <td>142.44</td>\n",
       "      <td>0.17</td>\n",
       "      <td>259.52</td>\n",
       "    </tr>\n",
       "  </tbody>\n",
       "</table>\n",
       "</div>"
      ],
      "text/plain": [
       "    index platform  na_sales  eu_sales  jp_sales  all_sales\n",
       "0      14     pcfx      0.00      0.00      0.03       0.03\n",
       "1       9       gg      0.00      0.00      0.04       0.04\n",
       "2       1      3do      0.00      0.00      0.10       0.10\n",
       "3      24     tg16      0.00      0.00      0.16       0.16\n",
       "4      27       ws      0.00      0.00      1.42       1.42\n",
       "5      12       ng      0.00      0.00      1.44       1.44\n",
       "6      22      scd      1.00      0.36      0.45       1.86\n",
       "7       3       dc      5.43      1.69      8.56      15.95\n",
       "8       8      gen     19.27      5.52      2.67      28.35\n",
       "9      21      sat      0.72      0.54     32.26      33.59\n",
       "10     20      psv     12.58     13.12     21.91      54.07\n",
       "11     26     wiiu     38.10     25.13     13.01      82.19\n",
       "12      0     2600     90.60      5.47      0.00      96.98\n",
       "13     30     xone     93.12     51.59      0.34     159.32\n",
       "14      7       gc    133.46     38.71     21.58     198.93\n",
       "15     23     snes     61.23     19.04    116.55     200.04\n",
       "16     10      n64    139.02     41.06     34.22     218.68\n",
       "17     11      nes    125.94     21.15     98.65     251.05\n",
       "18      5       gb    114.32     47.82     85.12     255.46\n",
       "19     29       xb    186.69     60.95      1.38     257.74\n",
       "20      2      3ds     83.49     61.48    100.67     259.00\n",
       "21     13       pc     94.53    142.44      0.17     259.52"
      ]
     },
     "execution_count": 47,
     "metadata": {},
     "output_type": "execute_result"
    }
   ],
   "source": [
    "good_platform = by_sales.query('all_sales < @mean_all_sales').reset_index()\n",
    "print(\"Платформы, которые принесли выручку меньше среднего\")\n",
    "good_platform"
   ]
  },
  {
   "cell_type": "markdown",
   "metadata": {},
   "source": [
    "Больше всего дохода принесли игры на ps2, меньше всего на pcfx. \n",
    "\n",
    "Суммарные продажи по Северной Америке равны 4400.5 млн. доларов. Наибольшие продажи в этом регионе были на x360 (602.47)\n",
    "\n",
    "Суммарные продажи по Европе равны 2424.1 млн. доларов. Наибольшие продажи в этом регионе были на ps2 (339.29)\n",
    "\n",
    "Суммарные продажи по Японии равны 1297.3 млн. доларов. Наибольшие продажи в этом регионе были на ds (175.57)"
   ]
  },
  {
   "cell_type": "markdown",
   "metadata": {},
   "source": [
    "Далее нужно посмотреть как жанр влияет на продажи в разных регионах "
   ]
  },
  {
   "cell_type": "code",
   "execution_count": 48,
   "metadata": {
    "scrolled": false
   },
   "outputs": [],
   "source": [
    "genre_by_na_sales = games.groupby('genre')[['na_sales']].sum().reset_index()\n",
    "genre_by_eu_sales = games.groupby('genre')[['eu_sales']].sum().reset_index()\n",
    "genre_by_jp_sales = games.groupby('genre')[['jp_sales']].sum().reset_index()\n",
    "genre_by_all_sales = games.groupby('genre')[['all_sales']].sum().reset_index()\n",
    "genre_by_sales = genre_by_na_sales.merge(genre_by_eu_sales, how='left')\n",
    "genre_by_sales = genre_by_sales.merge(genre_by_jp_sales, how='left')\n",
    "genre_by_sales = genre_by_sales.merge(genre_by_all_sales, how='left')\n",
    "genre_by_sales.sort_values(by='all_sales', inplace=True)\n",
    "genre_by_sales.reset_index(inplace=True, drop=True)"
   ]
  },
  {
   "cell_type": "markdown",
   "metadata": {},
   "source": [
    "Расчитываю максимальную, минимальную и суммарную продажу по рынку Северной Америки"
   ]
  },
  {
   "cell_type": "code",
   "execution_count": 49,
   "metadata": {},
   "outputs": [
    {
     "name": "stdout",
     "output_type": "stream",
     "text": [
      "Суммарные продажи по рынку Северной Америки:  4400.569999999979\n"
     ]
    }
   ],
   "source": [
    "na_genre_sales_max = genre_by_sales['na_sales'].max()\n",
    "na_genre_sales_min = genre_by_sales['na_sales'].min()\n",
    "print('Суммарные продажи по рынку Северной Америки: ', genre_by_sales['na_sales'].sum())"
   ]
  },
  {
   "cell_type": "markdown",
   "metadata": {},
   "source": [
    "Тоже самое для рынка Европы"
   ]
  },
  {
   "cell_type": "code",
   "execution_count": 50,
   "metadata": {},
   "outputs": [
    {
     "data": {
      "text/plain": [
       "('Суммарные продажи по Европе: ', 2424.139999999979)"
      ]
     },
     "execution_count": 50,
     "metadata": {},
     "output_type": "execute_result"
    }
   ],
   "source": [
    "eu_genre_sales_max = genre_by_sales['eu_sales'].max()\n",
    "eu_genre_sales_min = genre_by_sales['eu_sales'].min()\n",
    "(\"Суммарные продажи по Европе: \", genre_by_sales['eu_sales'].sum())"
   ]
  },
  {
   "cell_type": "markdown",
   "metadata": {},
   "source": [
    "И Японии"
   ]
  },
  {
   "cell_type": "code",
   "execution_count": 51,
   "metadata": {},
   "outputs": [
    {
     "data": {
      "text/plain": [
       "('Суммарные продажи по Японии: ', 1297.3399999999997)"
      ]
     },
     "execution_count": 51,
     "metadata": {},
     "output_type": "execute_result"
    }
   ],
   "source": [
    "jp_genre_sales_max = genre_by_sales['jp_sales'].max()\n",
    "jp_genre_sales_min = genre_by_sales['jp_sales'].min()\n",
    "(\"Суммарные продажи по Японии: \",genre_by_sales['jp_sales'].sum())"
   ]
  },
  {
   "cell_type": "markdown",
   "metadata": {},
   "source": [
    "Нахожу жанр с максимальным уровнем продаж в Северной Америке"
   ]
  },
  {
   "cell_type": "code",
   "execution_count": 52,
   "metadata": {
    "scrolled": true
   },
   "outputs": [
    {
     "data": {
      "text/html": [
       "<div>\n",
       "<style scoped>\n",
       "    .dataframe tbody tr th:only-of-type {\n",
       "        vertical-align: middle;\n",
       "    }\n",
       "\n",
       "    .dataframe tbody tr th {\n",
       "        vertical-align: top;\n",
       "    }\n",
       "\n",
       "    .dataframe thead th {\n",
       "        text-align: right;\n",
       "    }\n",
       "</style>\n",
       "<table border=\"1\" class=\"dataframe\">\n",
       "  <thead>\n",
       "    <tr style=\"text-align: right;\">\n",
       "      <th></th>\n",
       "      <th>genre</th>\n",
       "      <th>na_sales</th>\n",
       "      <th>eu_sales</th>\n",
       "      <th>jp_sales</th>\n",
       "      <th>all_sales</th>\n",
       "    </tr>\n",
       "  </thead>\n",
       "  <tbody>\n",
       "    <tr>\n",
       "      <td>11</td>\n",
       "      <td>action</td>\n",
       "      <td>879.01</td>\n",
       "      <td>519.13</td>\n",
       "      <td>161.43</td>\n",
       "      <td>1744.17</td>\n",
       "    </tr>\n",
       "  </tbody>\n",
       "</table>\n",
       "</div>"
      ],
      "text/plain": [
       "     genre  na_sales  eu_sales  jp_sales  all_sales\n",
       "11  action    879.01    519.13    161.43    1744.17"
      ]
     },
     "execution_count": 52,
     "metadata": {},
     "output_type": "execute_result"
    }
   ],
   "source": [
    "genre_by_sales.query('na_sales == @na_genre_sales_max')"
   ]
  },
  {
   "cell_type": "markdown",
   "metadata": {},
   "source": [
    "Нахожу жанр с минимальным уровнем продаж в Северной Америке"
   ]
  },
  {
   "cell_type": "code",
   "execution_count": 53,
   "metadata": {
    "scrolled": true
   },
   "outputs": [
    {
     "data": {
      "text/html": [
       "<div>\n",
       "<style scoped>\n",
       "    .dataframe tbody tr th:only-of-type {\n",
       "        vertical-align: middle;\n",
       "    }\n",
       "\n",
       "    .dataframe tbody tr th {\n",
       "        vertical-align: top;\n",
       "    }\n",
       "\n",
       "    .dataframe thead th {\n",
       "        text-align: right;\n",
       "    }\n",
       "</style>\n",
       "<table border=\"1\" class=\"dataframe\">\n",
       "  <thead>\n",
       "    <tr style=\"text-align: right;\">\n",
       "      <th></th>\n",
       "      <th>genre</th>\n",
       "      <th>na_sales</th>\n",
       "      <th>eu_sales</th>\n",
       "      <th>jp_sales</th>\n",
       "      <th>all_sales</th>\n",
       "    </tr>\n",
       "  </thead>\n",
       "  <tbody>\n",
       "    <tr>\n",
       "      <td>0</td>\n",
       "      <td>strategy</td>\n",
       "      <td>68.55</td>\n",
       "      <td>45.17</td>\n",
       "      <td>49.66</td>\n",
       "      <td>174.23</td>\n",
       "    </tr>\n",
       "  </tbody>\n",
       "</table>\n",
       "</div>"
      ],
      "text/plain": [
       "      genre  na_sales  eu_sales  jp_sales  all_sales\n",
       "0  strategy     68.55     45.17     49.66     174.23"
      ]
     },
     "execution_count": 53,
     "metadata": {},
     "output_type": "execute_result"
    }
   ],
   "source": [
    "genre_by_sales.query('na_sales == @na_genre_sales_min')"
   ]
  },
  {
   "cell_type": "markdown",
   "metadata": {},
   "source": [
    "Аналогично для рынка Европы"
   ]
  },
  {
   "cell_type": "code",
   "execution_count": 54,
   "metadata": {
    "scrolled": true
   },
   "outputs": [
    {
     "data": {
      "text/html": [
       "<div>\n",
       "<style scoped>\n",
       "    .dataframe tbody tr th:only-of-type {\n",
       "        vertical-align: middle;\n",
       "    }\n",
       "\n",
       "    .dataframe tbody tr th {\n",
       "        vertical-align: top;\n",
       "    }\n",
       "\n",
       "    .dataframe thead th {\n",
       "        text-align: right;\n",
       "    }\n",
       "</style>\n",
       "<table border=\"1\" class=\"dataframe\">\n",
       "  <thead>\n",
       "    <tr style=\"text-align: right;\">\n",
       "      <th></th>\n",
       "      <th>genre</th>\n",
       "      <th>na_sales</th>\n",
       "      <th>eu_sales</th>\n",
       "      <th>jp_sales</th>\n",
       "      <th>all_sales</th>\n",
       "    </tr>\n",
       "  </thead>\n",
       "  <tbody>\n",
       "    <tr>\n",
       "      <td>11</td>\n",
       "      <td>action</td>\n",
       "      <td>879.01</td>\n",
       "      <td>519.13</td>\n",
       "      <td>161.43</td>\n",
       "      <td>1744.17</td>\n",
       "    </tr>\n",
       "  </tbody>\n",
       "</table>\n",
       "</div>"
      ],
      "text/plain": [
       "     genre  na_sales  eu_sales  jp_sales  all_sales\n",
       "11  action    879.01    519.13    161.43    1744.17"
      ]
     },
     "execution_count": 54,
     "metadata": {},
     "output_type": "execute_result"
    }
   ],
   "source": [
    "genre_by_sales.query('eu_sales == @eu_genre_sales_max')"
   ]
  },
  {
   "cell_type": "code",
   "execution_count": 55,
   "metadata": {
    "scrolled": true
   },
   "outputs": [
    {
     "data": {
      "text/html": [
       "<div>\n",
       "<style scoped>\n",
       "    .dataframe tbody tr th:only-of-type {\n",
       "        vertical-align: middle;\n",
       "    }\n",
       "\n",
       "    .dataframe tbody tr th {\n",
       "        vertical-align: top;\n",
       "    }\n",
       "\n",
       "    .dataframe thead th {\n",
       "        text-align: right;\n",
       "    }\n",
       "</style>\n",
       "<table border=\"1\" class=\"dataframe\">\n",
       "  <thead>\n",
       "    <tr style=\"text-align: right;\">\n",
       "      <th></th>\n",
       "      <th>genre</th>\n",
       "      <th>na_sales</th>\n",
       "      <th>eu_sales</th>\n",
       "      <th>jp_sales</th>\n",
       "      <th>all_sales</th>\n",
       "    </tr>\n",
       "  </thead>\n",
       "  <tbody>\n",
       "    <tr>\n",
       "      <td>0</td>\n",
       "      <td>strategy</td>\n",
       "      <td>68.55</td>\n",
       "      <td>45.17</td>\n",
       "      <td>49.66</td>\n",
       "      <td>174.23</td>\n",
       "    </tr>\n",
       "  </tbody>\n",
       "</table>\n",
       "</div>"
      ],
      "text/plain": [
       "      genre  na_sales  eu_sales  jp_sales  all_sales\n",
       "0  strategy     68.55     45.17     49.66     174.23"
      ]
     },
     "execution_count": 55,
     "metadata": {},
     "output_type": "execute_result"
    }
   ],
   "source": [
    "genre_by_sales.query('eu_sales == @eu_genre_sales_min')"
   ]
  },
  {
   "cell_type": "markdown",
   "metadata": {},
   "source": [
    "И для японского рынка"
   ]
  },
  {
   "cell_type": "code",
   "execution_count": 56,
   "metadata": {
    "scrolled": true
   },
   "outputs": [
    {
     "data": {
      "text/html": [
       "<div>\n",
       "<style scoped>\n",
       "    .dataframe tbody tr th:only-of-type {\n",
       "        vertical-align: middle;\n",
       "    }\n",
       "\n",
       "    .dataframe tbody tr th {\n",
       "        vertical-align: top;\n",
       "    }\n",
       "\n",
       "    .dataframe thead th {\n",
       "        text-align: right;\n",
       "    }\n",
       "</style>\n",
       "<table border=\"1\" class=\"dataframe\">\n",
       "  <thead>\n",
       "    <tr style=\"text-align: right;\">\n",
       "      <th></th>\n",
       "      <th>genre</th>\n",
       "      <th>na_sales</th>\n",
       "      <th>eu_sales</th>\n",
       "      <th>jp_sales</th>\n",
       "      <th>all_sales</th>\n",
       "    </tr>\n",
       "  </thead>\n",
       "  <tbody>\n",
       "    <tr>\n",
       "      <td>8</td>\n",
       "      <td>role-playing</td>\n",
       "      <td>330.81</td>\n",
       "      <td>188.71</td>\n",
       "      <td>355.41</td>\n",
       "      <td>934.56</td>\n",
       "    </tr>\n",
       "  </tbody>\n",
       "</table>\n",
       "</div>"
      ],
      "text/plain": [
       "          genre  na_sales  eu_sales  jp_sales  all_sales\n",
       "8  role-playing    330.81    188.71    355.41     934.56"
      ]
     },
     "execution_count": 56,
     "metadata": {},
     "output_type": "execute_result"
    }
   ],
   "source": [
    "genre_by_sales.query('jp_sales == @jp_genre_sales_max')"
   ]
  },
  {
   "cell_type": "code",
   "execution_count": 57,
   "metadata": {
    "scrolled": true
   },
   "outputs": [
    {
     "data": {
      "text/html": [
       "<div>\n",
       "<style scoped>\n",
       "    .dataframe tbody tr th:only-of-type {\n",
       "        vertical-align: middle;\n",
       "    }\n",
       "\n",
       "    .dataframe tbody tr th {\n",
       "        vertical-align: top;\n",
       "    }\n",
       "\n",
       "    .dataframe thead th {\n",
       "        text-align: right;\n",
       "    }\n",
       "</style>\n",
       "<table border=\"1\" class=\"dataframe\">\n",
       "  <thead>\n",
       "    <tr style=\"text-align: right;\">\n",
       "      <th></th>\n",
       "      <th>genre</th>\n",
       "      <th>na_sales</th>\n",
       "      <th>eu_sales</th>\n",
       "      <th>jp_sales</th>\n",
       "      <th>all_sales</th>\n",
       "    </tr>\n",
       "  </thead>\n",
       "  <tbody>\n",
       "    <tr>\n",
       "      <td>9</td>\n",
       "      <td>shooter</td>\n",
       "      <td>592.24</td>\n",
       "      <td>317.34</td>\n",
       "      <td>38.76</td>\n",
       "      <td>1052.45</td>\n",
       "    </tr>\n",
       "  </tbody>\n",
       "</table>\n",
       "</div>"
      ],
      "text/plain": [
       "     genre  na_sales  eu_sales  jp_sales  all_sales\n",
       "9  shooter    592.24    317.34     38.76    1052.45"
      ]
     },
     "execution_count": 57,
     "metadata": {},
     "output_type": "execute_result"
    }
   ],
   "source": [
    "genre_by_sales.query('jp_sales == @jp_genre_sales_min')"
   ]
  },
  {
   "cell_type": "code",
   "execution_count": 58,
   "metadata": {},
   "outputs": [
    {
     "data": {
      "text/html": [
       "<div>\n",
       "<style scoped>\n",
       "    .dataframe tbody tr th:only-of-type {\n",
       "        vertical-align: middle;\n",
       "    }\n",
       "\n",
       "    .dataframe tbody tr th {\n",
       "        vertical-align: top;\n",
       "    }\n",
       "\n",
       "    .dataframe thead th {\n",
       "        text-align: right;\n",
       "    }\n",
       "</style>\n",
       "<table border=\"1\" class=\"dataframe\">\n",
       "  <thead>\n",
       "    <tr style=\"text-align: right;\">\n",
       "      <th></th>\n",
       "      <th>genre</th>\n",
       "      <th>na_sales</th>\n",
       "      <th>eu_sales</th>\n",
       "      <th>jp_sales</th>\n",
       "      <th>all_sales</th>\n",
       "    </tr>\n",
       "  </thead>\n",
       "  <tbody>\n",
       "    <tr>\n",
       "      <td>0</td>\n",
       "      <td>strategy</td>\n",
       "      <td>68.55</td>\n",
       "      <td>45.17</td>\n",
       "      <td>49.66</td>\n",
       "      <td>174.23</td>\n",
       "    </tr>\n",
       "    <tr>\n",
       "      <td>1</td>\n",
       "      <td>adventure</td>\n",
       "      <td>105.26</td>\n",
       "      <td>63.54</td>\n",
       "      <td>52.30</td>\n",
       "      <td>237.59</td>\n",
       "    </tr>\n",
       "    <tr>\n",
       "      <td>2</td>\n",
       "      <td>puzzle</td>\n",
       "      <td>122.87</td>\n",
       "      <td>50.01</td>\n",
       "      <td>57.31</td>\n",
       "      <td>242.57</td>\n",
       "    </tr>\n",
       "    <tr>\n",
       "      <td>3</td>\n",
       "      <td>simulation</td>\n",
       "      <td>181.92</td>\n",
       "      <td>113.52</td>\n",
       "      <td>63.80</td>\n",
       "      <td>389.97</td>\n",
       "    </tr>\n",
       "    <tr>\n",
       "      <td>4</td>\n",
       "      <td>fighting</td>\n",
       "      <td>223.36</td>\n",
       "      <td>100.33</td>\n",
       "      <td>87.48</td>\n",
       "      <td>447.53</td>\n",
       "    </tr>\n",
       "    <tr>\n",
       "      <td>5</td>\n",
       "      <td>racing</td>\n",
       "      <td>359.35</td>\n",
       "      <td>236.51</td>\n",
       "      <td>56.71</td>\n",
       "      <td>728.67</td>\n",
       "    </tr>\n",
       "    <tr>\n",
       "      <td>6</td>\n",
       "      <td>misc</td>\n",
       "      <td>407.27</td>\n",
       "      <td>212.74</td>\n",
       "      <td>108.11</td>\n",
       "      <td>802.51</td>\n",
       "    </tr>\n",
       "    <tr>\n",
       "      <td>7</td>\n",
       "      <td>platform</td>\n",
       "      <td>445.50</td>\n",
       "      <td>200.35</td>\n",
       "      <td>130.83</td>\n",
       "      <td>827.77</td>\n",
       "    </tr>\n",
       "    <tr>\n",
       "      <td>8</td>\n",
       "      <td>role-playing</td>\n",
       "      <td>330.81</td>\n",
       "      <td>188.71</td>\n",
       "      <td>355.41</td>\n",
       "      <td>934.56</td>\n",
       "    </tr>\n",
       "    <tr>\n",
       "      <td>9</td>\n",
       "      <td>shooter</td>\n",
       "      <td>592.24</td>\n",
       "      <td>317.34</td>\n",
       "      <td>38.76</td>\n",
       "      <td>1052.45</td>\n",
       "    </tr>\n",
       "    <tr>\n",
       "      <td>10</td>\n",
       "      <td>sports</td>\n",
       "      <td>684.43</td>\n",
       "      <td>376.79</td>\n",
       "      <td>135.54</td>\n",
       "      <td>1331.27</td>\n",
       "    </tr>\n",
       "    <tr>\n",
       "      <td>11</td>\n",
       "      <td>action</td>\n",
       "      <td>879.01</td>\n",
       "      <td>519.13</td>\n",
       "      <td>161.43</td>\n",
       "      <td>1744.17</td>\n",
       "    </tr>\n",
       "  </tbody>\n",
       "</table>\n",
       "</div>"
      ],
      "text/plain": [
       "           genre  na_sales  eu_sales  jp_sales  all_sales\n",
       "0       strategy     68.55     45.17     49.66     174.23\n",
       "1      adventure    105.26     63.54     52.30     237.59\n",
       "2         puzzle    122.87     50.01     57.31     242.57\n",
       "3     simulation    181.92    113.52     63.80     389.97\n",
       "4       fighting    223.36    100.33     87.48     447.53\n",
       "5         racing    359.35    236.51     56.71     728.67\n",
       "6           misc    407.27    212.74    108.11     802.51\n",
       "7       platform    445.50    200.35    130.83     827.77\n",
       "8   role-playing    330.81    188.71    355.41     934.56\n",
       "9        shooter    592.24    317.34     38.76    1052.45\n",
       "10        sports    684.43    376.79    135.54    1331.27\n",
       "11        action    879.01    519.13    161.43    1744.17"
      ]
     },
     "execution_count": 58,
     "metadata": {},
     "output_type": "execute_result"
    }
   ],
   "source": [
    "genre_by_sales"
   ]
  },
  {
   "cell_type": "markdown",
   "metadata": {},
   "source": [
    "Больше всего дохода принесли экшн игры, меньше всего стратегии. \n",
    "\n",
    "Наибольшие продажи в Северной Америке были в жанре экшн (879.01), хуже всего продавались стратегии (68.55)\n",
    "\n",
    "Наибольшие продажи в Европе были в жанре экшн (519.13), хуже всего продавались стратегии (45.17)\n",
    "\n",
    "Наибольшие продажи в Японии были в жанре ролевых игр (355.41), хуже всего продавались шутеры (38.76)"
   ]
  },
  {
   "cell_type": "markdown",
   "metadata": {},
   "source": [
    "Я решил заполнить пропуски в рейтинге рейтингом RP, который означает что рейтинг этой игре не поставлен"
   ]
  },
  {
   "cell_type": "code",
   "execution_count": 59,
   "metadata": {},
   "outputs": [],
   "source": [
    "games['rating'].fillna(value='RP', inplace=True)"
   ]
  },
  {
   "cell_type": "markdown",
   "metadata": {},
   "source": [
    "Далее я фильтрую данные по рейтингу и откидываю рейтинг RP, так как по сути он не определен и для ответа на вопрос он не важен\n",
    "\n",
    "Так же я создаю вспомогательный датафрейм с рейтингами для их интерпретации "
   ]
  },
  {
   "cell_type": "code",
   "execution_count": 60,
   "metadata": {
    "scrolled": false
   },
   "outputs": [
    {
     "data": {
      "text/html": [
       "<div>\n",
       "<style scoped>\n",
       "    .dataframe tbody tr th:only-of-type {\n",
       "        vertical-align: middle;\n",
       "    }\n",
       "\n",
       "    .dataframe tbody tr th {\n",
       "        vertical-align: top;\n",
       "    }\n",
       "\n",
       "    .dataframe thead th {\n",
       "        text-align: right;\n",
       "    }\n",
       "</style>\n",
       "<table border=\"1\" class=\"dataframe\">\n",
       "  <thead>\n",
       "    <tr style=\"text-align: right;\">\n",
       "      <th></th>\n",
       "      <th>rating</th>\n",
       "      <th>na_sales</th>\n",
       "      <th>eu_sales</th>\n",
       "      <th>jp_sales</th>\n",
       "      <th>all_sales</th>\n",
       "      <th>description</th>\n",
       "    </tr>\n",
       "  </thead>\n",
       "  <tbody>\n",
       "    <tr>\n",
       "      <td>3</td>\n",
       "      <td>EC</td>\n",
       "      <td>1.53</td>\n",
       "      <td>0.11</td>\n",
       "      <td>0.00</td>\n",
       "      <td>1.75</td>\n",
       "      <td>3+ (устаревшее)</td>\n",
       "    </tr>\n",
       "    <tr>\n",
       "      <td>0</td>\n",
       "      <td>AO</td>\n",
       "      <td>1.26</td>\n",
       "      <td>0.61</td>\n",
       "      <td>0.00</td>\n",
       "      <td>1.96</td>\n",
       "      <td>только для взрослых</td>\n",
       "    </tr>\n",
       "    <tr>\n",
       "      <td>4</td>\n",
       "      <td>K-A</td>\n",
       "      <td>2.56</td>\n",
       "      <td>0.27</td>\n",
       "      <td>1.46</td>\n",
       "      <td>4.32</td>\n",
       "      <td>для всех (устаревшее)</td>\n",
       "    </tr>\n",
       "    <tr>\n",
       "      <td>2</td>\n",
       "      <td>E10+</td>\n",
       "      <td>353.32</td>\n",
       "      <td>188.52</td>\n",
       "      <td>40.20</td>\n",
       "      <td>655.60</td>\n",
       "      <td>10+</td>\n",
       "    </tr>\n",
       "    <tr>\n",
       "      <td>5</td>\n",
       "      <td>M</td>\n",
       "      <td>748.48</td>\n",
       "      <td>483.97</td>\n",
       "      <td>64.24</td>\n",
       "      <td>1473.79</td>\n",
       "      <td>17+</td>\n",
       "    </tr>\n",
       "    <tr>\n",
       "      <td>6</td>\n",
       "      <td>T</td>\n",
       "      <td>759.75</td>\n",
       "      <td>427.03</td>\n",
       "      <td>151.40</td>\n",
       "      <td>1493.35</td>\n",
       "      <td>13+</td>\n",
       "    </tr>\n",
       "    <tr>\n",
       "      <td>1</td>\n",
       "      <td>E</td>\n",
       "      <td>1292.99</td>\n",
       "      <td>710.25</td>\n",
       "      <td>198.11</td>\n",
       "      <td>2435.52</td>\n",
       "      <td>для всех</td>\n",
       "    </tr>\n",
       "  </tbody>\n",
       "</table>\n",
       "</div>"
      ],
      "text/plain": [
       "  rating  na_sales  eu_sales  jp_sales  all_sales            description\n",
       "3     EC      1.53      0.11      0.00       1.75        3+ (устаревшее)\n",
       "0     AO      1.26      0.61      0.00       1.96    только для взрослых\n",
       "4    K-A      2.56      0.27      1.46       4.32  для всех (устаревшее)\n",
       "2   E10+    353.32    188.52     40.20     655.60                    10+\n",
       "5      M    748.48    483.97     64.24    1473.79                    17+\n",
       "6      T    759.75    427.03    151.40    1493.35                    13+\n",
       "1      E   1292.99    710.25    198.11    2435.52               для всех"
      ]
     },
     "execution_count": 60,
     "metadata": {},
     "output_type": "execute_result"
    }
   ],
   "source": [
    "games_rating_filtered = games.query('rating != \"RP\"')\n",
    "rating = pd.DataFrame({'rating': ['AO', 'E', 'E10+', 'EC', 'K-A', 'M', 'T'], 'description': ['только для взрослых', 'для всех', '10+', '3+ (устаревшее)', 'для всех (устаревшее)', '17+', '13+']})\n",
    "rating_by_na_sales = games_rating_filtered.groupby('rating')[['na_sales']].sum().reset_index()\n",
    "rating_by_eu_sales = games_rating_filtered.groupby('rating')[['eu_sales']].sum().reset_index()\n",
    "rating_by_jp_sales = games_rating_filtered.groupby('rating')[['jp_sales']].sum().reset_index()\n",
    "rating_by_all_sales = games_rating_filtered.groupby('rating')[['all_sales']].sum().reset_index()\n",
    "rating_by_sales = rating_by_na_sales.merge(rating_by_eu_sales, how='left')\n",
    "rating_by_sales = rating_by_sales.merge(rating_by_jp_sales, how='left')\n",
    "rating_by_sales = rating_by_sales.merge(rating_by_all_sales, how='left')\n",
    "rating_by_sales = rating_by_sales.merge(rating, how='left')\n",
    "rating_by_sales.sort_values(by='all_sales', inplace=True)\n",
    "rating_by_sales"
   ]
  },
  {
   "cell_type": "markdown",
   "metadata": {},
   "source": [
    "Больше всего дохода принесли игры с рейтингом E, меньше всего с рейтингом EC.\n",
    "\n",
    "Наибольшие продажи в Северной Америке были с рейтингом Е (1292.99), меньше всего с рейтингом AO (1.26)\n",
    "\n",
    "Наибольшие продажи в Европе были с рейтингом Е (710.25), меньше всего с рейтингом EC (0.11)\n",
    "\n",
    "Наибольшие продажи в Японии были с рейтингом Е (198.11), меньше всего с рейтингом EC и AO (0)"
   ]
  },
  {
   "cell_type": "markdown",
   "metadata": {},
   "source": [
    "<a id='userportraitres'></a>\n",
    "<H4>Выводы</H4>\n",
    "\n",
    "По платформам:\n",
    "\n",
    "- Больше всего дохода принесли игры на ps2, меньше всего на pcfx.\n",
    "- Суммарные продажи по Северной Америке равны 4400.5 млн. доларов. Наибольшие продажи в этом регионе были на x360 (602.47)\n",
    "- Суммарные продажи по Европе равны 2424.1 млн. доларов. Наибольшие продажи в этом регионе были на ps2 (339.29)\n",
    "- Суммарные продажи по Японии равны 1297.3 млн. доларов. Наибольшие продажи в этом регионе были на ds (175.57)\n",
    "\n",
    "По жанрам:\n",
    "\n",
    "- Больше всего дохода принесли экшн игры, меньше всего стратегии.\n",
    "- Наибольшие продажи в Северной Америке были в жанре экшн (879.01), хуже всего продавались стратегии (68.55)\n",
    "- Наибольшие продажи в Европе были в жанре экшн (519.13), хуже всего продавались стратегии (45.17)\n",
    "- Наибольшие продажи в Японии были в жанре ролевых игр (519.13), хуже всего продавались шутеры (38.76)\n",
    "\n",
    "По рейтингам:\n",
    "\n",
    "- Больше всего дохода принесли игры с рейтингом E, меньше всего с рейтингом EC.\n",
    "- Наибольшие продажи в Северной Америке были с рейтингом Е (1292.99), меньше всего с рейтингом AO (1.26)\n",
    "- Наибольшие продажи в Европе были с рейтингом Е (710.25), меньше всего с рейтингом EC (0.11)\n",
    "- Наибольшие продажи в Японии были с рейтингом Е (198.11), меньше всего с рейтингом EC и AO (0)"
   ]
  },
  {
   "cell_type": "markdown",
   "metadata": {},
   "source": [
    "<a id='hypotheses'></a>\n",
    "<H2>Гипотезы</H2>"
   ]
  },
  {
   "cell_type": "markdown",
   "metadata": {},
   "source": [
    "<b>H0: Средние пользовательские рейтинги платформ Xbox One и PC одинаковые\n",
    "\n",
    "H1 (алтернативная): Средние пользовательские рейтинги платформ Xbox One и PC разные</b>"
   ]
  },
  {
   "cell_type": "markdown",
   "metadata": {},
   "source": [
    "Для начала создаю два датафрейма по платформам и откидываю оценки tbd (количество оценок менше трех) и игры с пропущенными значениями"
   ]
  },
  {
   "cell_type": "markdown",
   "metadata": {},
   "source": [
    "#### Пояснение\n",
    "\n",
    "Просто из формулировки гипотез в задании это было не понятно"
   ]
  },
  {
   "cell_type": "code",
   "execution_count": 61,
   "metadata": {},
   "outputs": [],
   "source": [
    "xone_rating_mean = games.query('platform == \"xone\" and user_score != \"tbd\" and user_score != -1 and year_of_release > 2012')\n",
    "pc_rating_mean = games.query('platform == \"pc\" and user_score != \"tbd\" and user_score != -1 and year_of_release > 2012')"
   ]
  },
  {
   "cell_type": "markdown",
   "metadata": {},
   "source": [
    "После чего нужно проверить гипотезы"
   ]
  },
  {
   "cell_type": "code",
   "execution_count": 62,
   "metadata": {},
   "outputs": [
    {
     "name": "stdout",
     "output_type": "stream",
     "text": [
      "p-значение: 0.14012658403611647\n",
      "Не получилось опровергнуть нулевую гипотезу\n"
     ]
    }
   ],
   "source": [
    "alpha = 0.05\n",
    "\n",
    "results = st.ttest_ind(\n",
    "     xone_rating_mean['user_score'].astype('float'),\n",
    "     pc_rating_mean['user_score'].astype('float')\n",
    "   \n",
    "    )\n",
    "\n",
    "print('p-значение:', results.pvalue)\n",
    "\n",
    "if (results.pvalue < alpha):\n",
    "    print(\"Отвергаем нулевую гипотезу\")\n",
    "else:\n",
    "    print(\"Не получилось отвергнуть нулевую гипотезу\")"
   ]
  },
  {
   "cell_type": "markdown",
   "metadata": {},
   "source": [
    "Средние пользовательские рейтинги платформ Xbox One и PC одинаковые"
   ]
  },
  {
   "cell_type": "markdown",
   "metadata": {},
   "source": [
    "<b>H0: Средние пользовательские рейтинги жанров Action и Sports одинаковые\n",
    "\n",
    "H1 (алтернативная): Средние пользовательские рейтинги жанров Action и Sports разные</b>"
   ]
  },
  {
   "cell_type": "markdown",
   "metadata": {},
   "source": [
    "Делаю тоже самое для проверки второй гипотезы"
   ]
  },
  {
   "cell_type": "code",
   "execution_count": 63,
   "metadata": {},
   "outputs": [],
   "source": [
    "xone_rating_mean = games.query('genre == \"action\" and user_score != \"tbd\" and user_score != -1 and year_of_release > 2012')\n",
    "pc_rating_mean = games.query('genre == \"sports\" and user_score != \"tbd\" and user_score != -1 and year_of_release > 2012')"
   ]
  },
  {
   "cell_type": "code",
   "execution_count": 64,
   "metadata": {},
   "outputs": [
    {
     "name": "stdout",
     "output_type": "stream",
     "text": [
      "p-значение: 1.0517832389140023e-27\n",
      "Отвергаем нулевую гипотезу\n"
     ]
    }
   ],
   "source": [
    "results = st.ttest_ind(\n",
    "     xone_rating_mean['user_score'].astype('float'),\n",
    "     pc_rating_mean['user_score'].astype('float')\n",
    "   \n",
    "    )\n",
    "\n",
    "print('p-значение:', results.pvalue)\n",
    "\n",
    "if (results.pvalue < alpha):\n",
    "    print(\"Отвергаем нулевую гипотезу\")\n",
    "else:\n",
    "    print(\"Не получилось отвергнуть нулевую гипотезу\")"
   ]
  },
  {
   "cell_type": "markdown",
   "metadata": {},
   "source": [
    "Средняя оценка для двух жанров разыне"
   ]
  },
  {
   "cell_type": "markdown",
   "metadata": {},
   "source": [
    "<a id='hypothesesres'></a>\n",
    "<H4>Выводы</H4>\n",
    "\n",
    "- Средние пользовательские рейтинги платформ Xbox One и PC одинаковые\n",
    "- Средняя оценка для игр в жанре экшн и спорт разная"
   ]
  },
  {
   "cell_type": "markdown",
   "metadata": {},
   "source": [
    "<a id='findings'></a>\n",
    "<H2>Выводы по работе</H2>\n",
    "\n",
    "<b>Пункт 1.</b> Анализ проблем с данными\n",
    "\n",
    "В ходе первичного просмотра данных были выявлены следующие проблемы:\n",
    ">Пропуски в полях:\n",
    ">- Name: 2 значения\n",
    ">- Year_of_Release: 269 значений\n",
    ">- Genre: 2 значения\n",
    ">- Critic_Score: 8578 значений\n",
    ">- User_Score: 6701 значений\n",
    ">- Rating: 6766 значений\n",
    ">\n",
    ">Также есть проблемы с типами данных:\n",
    ">- Year_of_Release: представлен в float, но так как это год, то лучше представить значение в int\n",
    "\n",
    "\n",
    "<b>Пункт 2.</b> Предобработка данных\n",
    "\n",
    "Изначально пытался найти статистические зависимости, закодировав категориалные признаки, для заполнения пропусков в данных (что вкорне не верно), но ввиду отсутствия было решено заполнить все пропуски нетипичными значениями для удобной фильтрации данных. Так же все строковые значения (кроме жанра) были приведены к нижнему регистру\n",
    "\n",
    "<b>Пункт 3.</b> Исследовательский анализ данных\n",
    "\n",
    "В ходе исследовательского анализа данных было выявленно несколько интересных факов, вот некоторые из них:\n",
    ">- Начиная с 1991 года по 2002 количество игр растет, пик выпуска игр был в 2008-09 годах\n",
    ">- Срок жизни популярных консолей примерно 10 лет\n",
    ">- Игры на ПК продаются плохо (скорей всего связано с пиратством)\n",
    ">- Уровень продаж игр на конкретной платформе зависит от оценки критиков\n",
    ">- Оценки критиков влияют не только на продажи, но и на оценки пользователей\n",
    ">- ps4: лучшие продажи у экшнов и шутеров, худшие у стратегий и пазлов\n",
    ">- 3ds: лучшие продажи у ролевых игр и экшнов, худшие у стратегий и шутеров\n",
    ">- xbox one: лучшие продажи у шутеров и экшнов, худшие у симуляторов и стратегий\n",
    "\n",
    "За полным списком интересных фактов прошу по [ссылке](#researchanalysres)\n",
    "\n",
    "<b>Пункт 4.</b> Составление портрета пользователя\n",
    "\n",
    "В данной работе рассматривалось несколко аспектов, которые так или иначе влияют на продажи в таких регионах как Северная Америка, Европа и Япония. \n",
    "- Лидер продаж среди платформ - ps2\n",
    "- Хуже всего продавались игры на pcfx\n",
    "- Больше всего продаж принесли игры в жанре экшн, меньше всего - в жанре стратегия\n",
    "- Лидер продаж - Северная Америка\n",
    "- Наиболее популярная платформа в Северной Америке - xbox 360, в Европе - ps2, в Японии - ds\n",
    "- Наиболее популярный жанр в Северной Америке и Европе - экшн, в Японии - RPG\n",
    "- Наименее популярный жанр в Северной Америке и Европе - стратегии, в Японии - шутеры\n",
    "- Лучше всего продаются игры с рейтингом Е\n",
    "\n",
    "<b>Пункт 5.</b> Проверка гипотез\n",
    "В ходе проверки гипотез, указаных [здесь](#hypotises) средние пользовательские рейтинги платформ Xbox One и PC одинаковые, а средняя оценка для игр в жанре экшн и спорт разная\n",
    "\n",
    "Исходя из всего вышесказанного для магазина \"Стримчик\" можно сделать следующие <b>рекомендации</b>: \n",
    "\n",
    "- Лучше всего сделать упор на игры на 3 платформах: ps4, xbox one и 3ds\n",
    "- В плане жанров лучше всего сделать упор на action, shooter и role-playing.\n",
    "- Лучше всего продаюся игры с рейтингим Е и жанром экшн или ролевые игры."
   ]
  }
 ],
 "metadata": {
  "kernelspec": {
   "display_name": "Python 3",
   "language": "python",
   "name": "python3"
  },
  "language_info": {
   "codemirror_mode": {
    "name": "ipython",
    "version": 3
   },
   "file_extension": ".py",
   "mimetype": "text/x-python",
   "name": "python",
   "nbconvert_exporter": "python",
   "pygments_lexer": "ipython3",
   "version": "3.8.3"
  }
 },
 "nbformat": 4,
 "nbformat_minor": 2
}
